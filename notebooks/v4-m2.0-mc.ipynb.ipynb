{
 "cells": [
  {
   "cell_type": "markdown",
   "metadata": {
    "cell_id": "6bfc8f60fefb49a2a32461afac126896",
    "deepnote_cell_type": "text-cell-h1",
    "formattedRanges": [],
    "is_collapsed": false,
    "number": 0,
    "style": "decimal",
    "tags": []
   },
   "source": [
    "# 0.0. IMPORTS"
   ]
  },
  {
   "cell_type": "code",
   "execution_count": 1,
   "metadata": {
    "ExecuteTime": {
     "end_time": "2022-08-21T20:17:41.174273Z",
     "start_time": "2022-08-21T20:17:41.139108Z"
    },
    "cell_id": "54727706-ca7e-4fe1-aecb-4428c5265cb9",
    "deepnote_cell_height": 346,
    "deepnote_cell_type": "code",
    "deepnote_to_be_reexecuted": false,
    "execution_millis": 3592,
    "execution_start": 1661027433047,
    "source_hash": "677d6c33",
    "tags": []
   },
   "outputs": [
    {
     "name": "stderr",
     "output_type": "stream",
     "text": [
      "f:\\SamuelOliveiraAlvesd\\Anaconda3\\envs\\Health_Insurance_Cross_Sell\\lib\\site-packages\\xgboost\\compat.py:36: FutureWarning: pandas.Int64Index is deprecated and will be removed from pandas in a future version. Use pandas.Index with the appropriate dtype instead.\n",
      "  from pandas import MultiIndex, Int64Index\n"
     ]
    }
   ],
   "source": [
    "import re\n",
    "import pickle\n",
    "\n",
    "import pandas            as pd\n",
    "import numpy             as np\n",
    "import seaborn           as sns\n",
    "import matplotlib.pyplot as plt\n",
    "import xgboost           as xgb\n",
    "import lightgbm          as lgb\n",
    "\n",
    "from sklearn.preprocessing   import MinMaxScaler\n",
    "from sklearn.ensemble        import RandomForestRegressor\n",
    "from sklearn.metrics         import mean_absolute_error, mean_absolute_percentage_error, mean_squared_error\n",
    "from sklearn.preprocessing   import LabelEncoder\n",
    "from sklearn.linear_model    import LinearRegression, Lasso\n",
    "from category_encoders       import TargetEncoder\n",
    "from sklearn.preprocessing   import OneHotEncoder\n",
    "from category_encoders.count import CountEncoder\n",
    "\n",
    "\n",
    "from sklearn               import model_selection   as ms\n",
    "from sklearn               import ensemble          as en"
   ]
  },
  {
   "cell_type": "markdown",
   "metadata": {
    "cell_id": "9f2cd792ec6f497180716c8a402c1171",
    "deepnote_cell_type": "text-cell-h2",
    "formattedRanges": [],
    "is_collapsed": false,
    "tags": []
   },
   "source": [
    "## 0.1. Aux Functions"
   ]
  },
  {
   "cell_type": "code",
   "execution_count": 2,
   "metadata": {
    "ExecuteTime": {
     "end_time": "2022-08-21T20:17:41.439075Z",
     "start_time": "2022-08-21T20:17:41.422905Z"
    },
    "cell_id": "8af00528bc824108a4a8135bde984010",
    "deepnote_cell_height": 526,
    "deepnote_cell_type": "code",
    "deepnote_to_be_reexecuted": false,
    "execution_millis": 28,
    "execution_start": 1661027436660,
    "source_hash": "5114458d",
    "tags": []
   },
   "outputs": [],
   "source": [
    "def settings():\n",
    "    plt.style.use('bmh')\n",
    "    plt.rcParams['figure.figsize'] = [25,12]\n",
    "    plt.rcParams['font.size'] = 24\n",
    "    plt.rcParams['figure.dpi'] = 100\n",
    "    sns.set()\n",
    "\n",
    "\n",
    "def ml_error( model_name, ytest, yhat ):\n",
    "    mae = mean_absolute_error( ytest, yhat )\n",
    "    mape = mean_absolute_percentage_error( ytest, yhat )\n",
    "    rmse = np.sqrt( mean_squared_error( ytest, yhat ) )\n",
    "    \n",
    "    return pd.DataFrame( {'Model name': model_name,\n",
    "                          'MAE': mae,\n",
    "                          'MAPE': mape,\n",
    "                          'RMSE': rmse }, index=[0] )"
   ]
  },
  {
   "cell_type": "code",
   "execution_count": 3,
   "metadata": {
    "ExecuteTime": {
     "end_time": "2022-08-21T20:17:41.718378Z",
     "start_time": "2022-08-21T20:17:41.686076Z"
    },
    "cell_id": "cc5bb9c793da4e4499979dacb045edde",
    "deepnote_cell_height": 76,
    "deepnote_cell_type": "code",
    "deepnote_to_be_reexecuted": false,
    "execution_millis": 192597,
    "execution_start": 1661027436763,
    "source_hash": "d960d3ca",
    "tags": []
   },
   "outputs": [],
   "source": [
    "settings()"
   ]
  },
  {
   "cell_type": "markdown",
   "metadata": {
    "cell_id": "922d102b0015459ca96ce3795940b967",
    "deepnote_cell_type": "text-cell-h2",
    "formattedRanges": [],
    "is_collapsed": false,
    "tags": []
   },
   "source": [
    "## 0.2. Reading Data"
   ]
  },
  {
   "cell_type": "code",
   "execution_count": 4,
   "metadata": {
    "ExecuteTime": {
     "end_time": "2022-08-21T20:17:42.500028Z",
     "start_time": "2022-08-21T20:17:41.969027Z"
    },
    "cell_id": "e1bd923194c840039f0b076f4ec66b74",
    "deepnote_cell_height": 94,
    "deepnote_cell_type": "code",
    "deepnote_output_heights": [
     20.171875
    ],
    "deepnote_to_be_reexecuted": false,
    "execution_millis": 978,
    "execution_start": 1661027436763,
    "source_hash": "6a49ea95",
    "tags": []
   },
   "outputs": [],
   "source": [
    "df_raw=pd.read_csv('work/treino.csv')\n",
    "df_test=pd.read_csv('work/teste.csv')"
   ]
  },
  {
   "cell_type": "markdown",
   "metadata": {
    "cell_id": "c6c21ee6dd9c40d5bb6af32be115ce6c",
    "deepnote_cell_type": "text-cell-h1",
    "formattedRanges": [],
    "is_collapsed": false,
    "number": 1,
    "style": "decimal",
    "tags": []
   },
   "source": [
    "# 1.0. DESCRIÇÃO DOS DADOS"
   ]
  },
  {
   "cell_type": "code",
   "execution_count": 5,
   "metadata": {
    "ExecuteTime": {
     "end_time": "2022-08-21T20:17:42.531064Z",
     "start_time": "2022-08-21T20:17:42.502028Z"
    },
    "cell_id": "73b5415c314b4ae8948e6b99ebd7d0ff",
    "deepnote_cell_height": 502.0625,
    "deepnote_cell_type": "code",
    "deepnote_output_heights": [
     212.0625
    ],
    "deepnote_to_be_reexecuted": false,
    "execution_millis": 7,
    "execution_start": 1661027437806,
    "source_hash": "94b5aa47",
    "tags": []
   },
   "outputs": [],
   "source": [
    "df1=df_raw.copy()"
   ]
  },
  {
   "cell_type": "markdown",
   "metadata": {
    "cell_id": "ef7358498f3c48abb547dd0fef8d1ec0",
    "deepnote_cell_type": "text-cell-h2",
    "formattedRanges": [],
    "is_collapsed": false,
    "tags": []
   },
   "source": [
    "## 1.1. Dimensão dos Dados"
   ]
  },
  {
   "cell_type": "code",
   "execution_count": 6,
   "metadata": {
    "ExecuteTime": {
     "end_time": "2022-08-21T20:17:42.562533Z",
     "start_time": "2022-08-21T20:17:42.541500Z"
    },
    "cell_id": "6d9e5c7697984803a463157498984843",
    "deepnote_cell_height": 112.1875,
    "deepnote_cell_type": "code",
    "deepnote_output_heights": [
     20.1875
    ],
    "deepnote_to_be_reexecuted": false,
    "execution_millis": 47,
    "execution_start": 1661027437845,
    "source_hash": "effe9690",
    "tags": []
   },
   "outputs": [
    {
     "data": {
      "text/plain": [
       "(39446, 29)"
      ]
     },
     "execution_count": 6,
     "metadata": {},
     "output_type": "execute_result"
    }
   ],
   "source": [
    "df1.shape"
   ]
  },
  {
   "cell_type": "markdown",
   "metadata": {
    "cell_id": "a8bf769327fa4111b6ea22d988656c3d",
    "deepnote_cell_type": "text-cell-h2",
    "formattedRanges": [],
    "is_collapsed": false,
    "tags": []
   },
   "source": [
    "## 1.2. NA Check"
   ]
  },
  {
   "cell_type": "code",
   "execution_count": 7,
   "metadata": {
    "ExecuteTime": {
     "end_time": "2022-08-21T20:17:42.926316Z",
     "start_time": "2022-08-21T20:17:42.835080Z"
    },
    "cell_id": "5926b61539724d5696df1ad7788e1b3f",
    "deepnote_cell_height": 668.625,
    "deepnote_cell_type": "code",
    "deepnote_output_heights": [
     576.625
    ],
    "deepnote_to_be_reexecuted": false,
    "execution_millis": 71,
    "execution_start": 1661027438017,
    "source_hash": "59626415",
    "tags": []
   },
   "outputs": [
    {
     "data": {
      "text/plain": [
       "ID                                                                0\n",
       "num_fotos                                                       237\n",
       "marca                                                             0\n",
       "modelo                                                            0\n",
       "versao                                                            0\n",
       "ano_de_fabricacao                                                 0\n",
       "ano_modelo                                                        0\n",
       "odometro                                                          0\n",
       "cambio                                                            0\n",
       "num_portas                                                        0\n",
       "tipo                                                              0\n",
       "blindado                                                          0\n",
       "cor                                                               0\n",
       "tipo_vendedor                                                     0\n",
       "cidade_vendedor                                                   0\n",
       "estado_vendedor                                                   0\n",
       "tipo_anuncio                                                      0\n",
       "entrega_delivery                                                  0\n",
       "troca                                                             0\n",
       "elegivel_revisao                                                  0\n",
       "attr_veiculo_aceita_troca                                     10216\n",
       "attr_veiculo_único_dono                                       25548\n",
       "attr_veiculo_todas_as_revisões_feitas_pela_concessionária     27207\n",
       "attr_veiculo_ipva_pago                                        13223\n",
       "attr_veiculo_licenciado                                       18196\n",
       "attr_veiculo_garantia_de_fábrica                              33658\n",
       "attr_veiculo_todas_as_revisões_feitas_pela_agenda_do_carro    31543\n",
       "attr_veiculo_alienado                                         39446\n",
       "preco                                                             0\n",
       "dtype: int64"
      ]
     },
     "execution_count": 7,
     "metadata": {},
     "output_type": "execute_result"
    }
   ],
   "source": [
    "df1.isna().sum()"
   ]
  },
  {
   "cell_type": "markdown",
   "metadata": {
    "cell_id": "94541d0ef0a24c7186e14e88009b87db",
    "deepnote_cell_type": "text-cell-h3",
    "formattedRanges": [],
    "is_collapsed": false,
    "tags": []
   },
   "source": [
    "### 1.2.1. Fillout NA"
   ]
  },
  {
   "cell_type": "code",
   "execution_count": 8,
   "metadata": {
    "ExecuteTime": {
     "end_time": "2022-08-21T20:17:43.131213Z",
     "start_time": "2022-08-21T20:17:43.118183Z"
    },
    "cell_id": "360a084018444b988ea75bb381b1de96",
    "deepnote_cell_height": 729,
    "deepnote_cell_type": "code",
    "deepnote_output_heights": [
     192.875
    ],
    "deepnote_to_be_reexecuted": false,
    "execution_millis": 43,
    "execution_start": 1661027438087,
    "source_hash": "ba11e70e",
    "tags": []
   },
   "outputs": [],
   "source": [
    "# # num_fotos - considerar nan como 0 fotos > ordinal encoding\n",
    "df1['num_fotos']=df1['num_fotos'].fillna(0)"
   ]
  },
  {
   "cell_type": "markdown",
   "metadata": {
    "cell_id": "40282b891bb541799167afc82716d18e",
    "deepnote_cell_type": "text-cell-h2",
    "formattedRanges": [],
    "is_collapsed": false,
    "tags": []
   },
   "source": [
    "## 1.3. Tipos dos Dados"
   ]
  },
  {
   "cell_type": "code",
   "execution_count": 9,
   "metadata": {
    "ExecuteTime": {
     "end_time": "2022-08-21T20:17:43.441808Z",
     "start_time": "2022-08-21T20:17:43.420806Z"
    },
    "cell_id": "33490acf3dd7461a894c3d711d9919b4",
    "deepnote_cell_height": 669,
    "deepnote_cell_type": "code",
    "deepnote_output_heights": [
     576.625
    ],
    "deepnote_to_be_reexecuted": false,
    "execution_millis": 28,
    "execution_start": 1661027438130,
    "source_hash": "b02ce5c",
    "tags": []
   },
   "outputs": [
    {
     "data": {
      "text/plain": [
       "ID                                                             object\n",
       "num_fotos                                                     float64\n",
       "marca                                                          object\n",
       "modelo                                                         object\n",
       "versao                                                         object\n",
       "ano_de_fabricacao                                               int64\n",
       "ano_modelo                                                    float64\n",
       "odometro                                                      float64\n",
       "cambio                                                         object\n",
       "num_portas                                                      int64\n",
       "tipo                                                           object\n",
       "blindado                                                       object\n",
       "cor                                                            object\n",
       "tipo_vendedor                                                  object\n",
       "cidade_vendedor                                                object\n",
       "estado_vendedor                                                object\n",
       "tipo_anuncio                                                   object\n",
       "entrega_delivery                                                 bool\n",
       "troca                                                            bool\n",
       "elegivel_revisao                                                 bool\n",
       "attr_veiculo_aceita_troca                                      object\n",
       "attr_veiculo_único_dono                                        object\n",
       "attr_veiculo_todas_as_revisões_feitas_pela_concessionária      object\n",
       "attr_veiculo_ipva_pago                                         object\n",
       "attr_veiculo_licenciado                                        object\n",
       "attr_veiculo_garantia_de_fábrica                               object\n",
       "attr_veiculo_todas_as_revisões_feitas_pela_agenda_do_carro     object\n",
       "attr_veiculo_alienado                                         float64\n",
       "preco                                                         float64\n",
       "dtype: object"
      ]
     },
     "execution_count": 9,
     "metadata": {},
     "output_type": "execute_result"
    }
   ],
   "source": [
    "df1.dtypes"
   ]
  },
  {
   "cell_type": "markdown",
   "metadata": {
    "cell_id": "d0bebb5a9f88461698532306e2b60c25",
    "deepnote_cell_type": "text-cell-h3",
    "formattedRanges": [],
    "is_collapsed": false,
    "tags": []
   },
   "source": [
    "### 1.3.1. Change data types"
   ]
  },
  {
   "cell_type": "code",
   "execution_count": 10,
   "metadata": {
    "ExecuteTime": {
     "end_time": "2022-08-21T20:17:43.752745Z",
     "start_time": "2022-08-21T20:17:43.745730Z"
    },
    "cell_id": "bbbe958ae05b4340bfb7ac0fd517d333",
    "deepnote_cell_height": 130,
    "deepnote_cell_type": "code",
    "deepnote_output_heights": [
     231.1875
    ],
    "deepnote_to_be_reexecuted": false,
    "execution_millis": 44,
    "execution_start": 1661027438221,
    "source_hash": "ef85e3c8",
    "tags": []
   },
   "outputs": [],
   "source": [
    "df1['num_fotos']=df1['num_fotos'].astype(int)\n",
    "df1['ano_modelo']=df1['ano_modelo'].astype(int)"
   ]
  },
  {
   "cell_type": "markdown",
   "metadata": {
    "cell_id": "bf485ea169954f4693a548ce196a882e",
    "deepnote_cell_type": "text-cell-h1",
    "formattedRanges": [],
    "is_collapsed": false,
    "tags": []
   },
   "source": [
    "# 2.0. FEATURE ENGINEERING"
   ]
  },
  {
   "cell_type": "code",
   "execution_count": 11,
   "metadata": {
    "ExecuteTime": {
     "end_time": "2022-08-21T20:17:44.114528Z",
     "start_time": "2022-08-21T20:17:44.080835Z"
    },
    "cell_id": "4a7a4dc56fb546d397530df912b80736",
    "deepnote_cell_height": 76,
    "deepnote_cell_type": "code",
    "deepnote_to_be_reexecuted": false,
    "execution_millis": 28,
    "execution_start": 1661027445891,
    "source_hash": "961b4b36",
    "tags": []
   },
   "outputs": [],
   "source": [
    "df2 = df1.copy()"
   ]
  },
  {
   "cell_type": "code",
   "execution_count": 12,
   "metadata": {
    "ExecuteTime": {
     "end_time": "2022-08-21T20:17:45.930577Z",
     "start_time": "2022-08-21T20:17:44.130527Z"
    },
    "cell_id": "836ef711765b442db9d559e6603b7ce0",
    "deepnote_cell_height": 904,
    "deepnote_cell_type": "code",
    "deepnote_to_be_reexecuted": false,
    "execution_millis": 1313,
    "execution_start": 1661027448601,
    "source_hash": "ff466c0",
    "tags": []
   },
   "outputs": [],
   "source": [
    "# ano de fabricacao one hot\n",
    "bin1 = [1985, 2000]\n",
    "bin2 = [2000, 2005]\n",
    "bin3 = [2005, 2010]\n",
    "bin4 = [2010, 2015]\n",
    "bin5 = [2015, 2020]\n",
    "bin6 = [2020, 2025]\n",
    "bins = [bin1, bin2, bin3, bin4, bin5, bin6]\n",
    "\n",
    "year_bins = []\n",
    "\n",
    "for i in range(df2.shape[0]):\n",
    "    tmp = [0 for i in range(len(bins))]\n",
    "    ye = df2['ano_de_fabricacao'][i]\n",
    "    for j in range(len(bins)):\n",
    "        if ye >= bins[j][0] and ye < bins[j][1]:\n",
    "            tmp[j] = 1\n",
    "    year_bins.append(tmp)\n",
    "year_bins = np.asarray(year_bins)\n",
    "new_df = pd.DataFrame(year_bins, columns=['Year_Bin'+str(i+1) for i in range(len(bins))])\n",
    "df2 = pd.concat( [df2, new_df], axis=1 )\n",
    "# df2 = df2.drop(columns=['ano_de_fabricacao'])\n",
    "\n",
    "# categoria marca\n",
    "popular_baixo_padrao = ['FIAT','SUZUKI','CHEVROLET','SMART','HYUNDAI','LIFAN','SSANGYONG','RENAULT','DODGE','ALFA ROMEO',\n",
    "                        'CITROËN','CHRYSLER','BRM','EFFA']\n",
    "\n",
    "popular_alto_padrao = ['JEEP','SUBARU','FORD','KIA','CHERY','PEUGEOT','VOLKSWAGEN','NISSAN','JAC','HONDA','MITSUBISHI']\n",
    "\n",
    "luxo = ['VOLVO','LEXUS','MERCEDES-BENZ','FERRARI','AUDI','TOYOTA','IVECO','MINI','TROLLER']\n",
    "\n",
    "superluxo = ['PORSCHE','RAM','LAMBORGHINI','JAGUAR','LAND ROVER','MASERATI','BMW']\n",
    "\n",
    "df2['categoria_marca'] = df2['marca'].apply( lambda x: 'popular_baixo_padrao' if x in popular_baixo_padrao else\n",
    "                                                       'popular_alto_padrao' if x in popular_alto_padrao else\n",
    "                                                       'luxo' if x in luxo else\n",
    "                                                       'superluxo' if x in superluxo \n",
    "                                                        else 'nao_identificado' )\n",
    "# cilindrada\n",
    "cilindradas = []\n",
    "\n",
    "for i in range(len(df2)):\n",
    "    try:\n",
    "        cilindrada = re.search( \"[0-9]{1}.[0-9]{1}\", df2['versao'][i] )[0]\n",
    "    except:\n",
    "        cilindrada = \"desconhecida\"\n",
    "        \n",
    "    cilindradas.append( cilindrada )\n",
    "    \n",
    "df_cilindradas = pd.DataFrame (cilindradas, columns = ['cilindrada'])\n",
    "df2 = pd.concat( [df2,df_cilindradas],axis=1)\n",
    "\n",
    "# turbo\n",
    "turbo_list = []\n",
    "\n",
    "for i in range(len(df2)):\n",
    "    try:\n",
    "        turbo = re.search( \"TURBO\", df2['versao'][i] )[0]\n",
    "    except:\n",
    "        turbo = \"NÃO TURBO\"\n",
    "        \n",
    "    turbo_list.append( turbo )\n",
    "    \n",
    "df_turbo = pd.DataFrame (turbo_list, columns = ['turbo'])\n",
    "df2 = pd.concat( [df2,df_turbo],axis=1)\n",
    "\n",
    "# 4x4\n",
    "offroad_list = []\n",
    "\n",
    "for i in range(len(df2)):\n",
    "    try:\n",
    "        offroad = re.search( \"4X4\", df2['versao'][i] )[0]\n",
    "    except:\n",
    "        offroad = \"NÃO 4x4\"\n",
    "        \n",
    "    offroad_list.append( offroad )\n",
    "    \n",
    "df_offroad = pd.DataFrame (offroad_list, columns = ['offroad'])\n",
    "df2 = pd.concat( [df2,df_offroad],axis=1)\n",
    "\n",
    "# combustivel\n",
    "df2['combustivel'] = df2['versao'].apply( lambda x: re.search( \"GASOLINA\", x )[0] if re.search( \"GASOLINA\", x ) is not None else \n",
    "                                                    re.search( \"FLEX\", x )[0] if re.search( \"FLEX\", x ) is not None else\n",
    "                                                    re.search( \"HYBRID\", x )[0] if re.search( \"HYBRID\", x ) is not None else\n",
    "                                                    re.search( \"DIESEL\", x )[0] if re.search( \"DIESEL\", x ) is not None else\n",
    "                                                    re.search( \"ELECTIRC\", x )[0] if re.search( \"ELECTIRC\", x ) is not None else\n",
    "                                                    re.search( \"ELÉTRICO\", x )[0] if re.search( \"ELÉTRICO\", x ) is not None else\n",
    "                                                    re.search( \"HÍBRIDO\", x )[0] if re.search( \"HÍBRIDO\", x ) is not None else\n",
    "                                                    re.search( \"GÁS\", x )[0] if re.search( \"GÁS\", x ) is not None else \"DESCONHECIDO\")"
   ]
  },
  {
   "cell_type": "code",
   "execution_count": 13,
   "metadata": {
    "ExecuteTime": {
     "end_time": "2022-08-21T20:17:45.976949Z",
     "start_time": "2022-08-21T20:17:45.935581Z"
    }
   },
   "outputs": [],
   "source": [
    "df2['cilindrada'] = df2['cilindrada'].apply( lambda x: \"0\" if x == \"desconhecida\" else x )\n",
    "df2['cilindrada'] = df2['cilindrada'].astype(float)\n",
    "# df2['faixa_cilindrada'] = df2['cilindrada'].apply( lambda x: \"ate_1.0\" if x <= 1.0 else\n",
    "#                                                 \"ate_1.6\" if x <= 1.6 else\n",
    "#                                                 \"ate_2.0\" if x <= 2.0 else\n",
    "#                                                 \"ate_2.5\" if x<=2.5 else\n",
    "#                                                 \"ate_3.0\" if x<=3.0 else\n",
    "#                                                 \"ate_5.0\" if x<=5.0 else\n",
    "#                                                 \"mais_de_5.0\" if x >5.0 else \"desconhecido\" )\n",
    "# df2 = df2.drop(columns=['cilindrada'])"
   ]
  },
  {
   "cell_type": "code",
   "execution_count": 14,
   "metadata": {
    "ExecuteTime": {
     "end_time": "2022-08-21T20:17:46.008812Z",
     "start_time": "2022-08-21T20:17:45.977809Z"
    }
   },
   "outputs": [
    {
     "data": {
      "text/plain": [
       "array(['popular_alto_padrao', 'superluxo', 'popular_baixo_padrao', 'luxo'],\n",
       "      dtype=object)"
      ]
     },
     "execution_count": 14,
     "metadata": {},
     "output_type": "execute_result"
    }
   ],
   "source": [
    "df2['categoria_marca'].unique()"
   ]
  },
  {
   "cell_type": "markdown",
   "metadata": {
    "cell_id": "a858e03c9f5546dc8dc5667acf1d1924",
    "deepnote_cell_type": "text-cell-h1",
    "formattedRanges": [],
    "is_collapsed": false,
    "tags": []
   },
   "source": [
    "# 3.0. FILTRAGEM DE VARIÁVEIS"
   ]
  },
  {
   "cell_type": "code",
   "execution_count": 15,
   "metadata": {
    "ExecuteTime": {
     "end_time": "2022-08-21T20:17:46.055920Z",
     "start_time": "2022-08-21T20:17:46.010780Z"
    },
    "cell_id": "365e5140047d44ce8cbb7e579eb22789",
    "deepnote_cell_height": 76,
    "deepnote_cell_type": "code",
    "deepnote_to_be_reexecuted": false,
    "execution_millis": 28,
    "execution_start": 1661027449927,
    "source_hash": "c58ba8a7",
    "tags": []
   },
   "outputs": [],
   "source": [
    "df3 = df2.copy()"
   ]
  },
  {
   "cell_type": "markdown",
   "metadata": {
    "cell_id": "86f82b296b04414ba89826ecdb1b4c90",
    "deepnote_cell_type": "text-cell-h2",
    "formattedRanges": [],
    "is_collapsed": false,
    "tags": []
   },
   "source": [
    "## 3.1. Filtragem das Linhas"
   ]
  },
  {
   "cell_type": "code",
   "execution_count": 16,
   "metadata": {
    "ExecuteTime": {
     "end_time": "2022-08-21T20:17:46.071292Z",
     "start_time": "2022-08-21T20:17:46.057783Z"
    },
    "cell_id": "0e2c82914b704b2bb40a9751b8e496da",
    "deepnote_cell_height": 153,
    "deepnote_cell_type": "code",
    "deepnote_to_be_reexecuted": false,
    "execution_millis": 2664,
    "execution_start": 1661027449965,
    "source_hash": "bbe1a525",
    "tags": []
   },
   "outputs": [],
   "source": [
    "# # substituindo ano de fabricacao caso a diferença para o ano modelo seja superior a 1 ano\n",
    "# df3['dif_ano'] = df3.apply(lambda x: x['ano_modelo'] - x['ano_de_fabricacao'], axis=1)\n",
    "# df3[df3['dif_ano'] > 1].count()\n",
    "\n",
    "# df3['ano_de_fabricacao'] = df3.apply(lambda x: (x['ano_modelo']-1) if x['dif_ano'] > 1 else x['ano_de_fabricacao'], axis=1)"
   ]
  },
  {
   "cell_type": "markdown",
   "metadata": {
    "cell_id": "d843af8d54e44a4baa82bd708565361b",
    "deepnote_cell_type": "text-cell-h2",
    "formattedRanges": [],
    "is_collapsed": false,
    "tags": []
   },
   "source": [
    "## 3.2. Seleção das Colunas"
   ]
  },
  {
   "cell_type": "code",
   "execution_count": 17,
   "metadata": {
    "ExecuteTime": {
     "end_time": "2022-08-21T20:17:46.087499Z",
     "start_time": "2022-08-21T20:17:46.072259Z"
    },
    "cell_id": "0ee3e324358647cf85d362d04d568a99",
    "deepnote_cell_height": 76,
    "deepnote_cell_type": "code",
    "deepnote_to_be_reexecuted": false,
    "execution_millis": 24,
    "execution_start": 1661027452641,
    "source_hash": "963b7cf5",
    "tags": []
   },
   "outputs": [],
   "source": [
    "# df3 = df3.drop( columns=['elegivel_revisao','attr_veiculo_alienado'])"
   ]
  },
  {
   "cell_type": "markdown",
   "metadata": {
    "cell_id": "eb71f67aca6742119acd9bf9ef8a2c24",
    "deepnote_cell_type": "text-cell-h1",
    "formattedRanges": [],
    "is_collapsed": false,
    "tags": []
   },
   "source": [
    "# 4.0. EDA"
   ]
  },
  {
   "cell_type": "code",
   "execution_count": 18,
   "metadata": {
    "ExecuteTime": {
     "end_time": "2022-08-21T20:17:46.119400Z",
     "start_time": "2022-08-21T20:17:46.088442Z"
    },
    "cell_id": "7321f42d6d7442d485a4049d27523145",
    "deepnote_cell_height": 76,
    "deepnote_cell_type": "code",
    "deepnote_to_be_reexecuted": false,
    "execution_millis": 16,
    "execution_start": 1661027452675,
    "source_hash": "60288f97",
    "tags": []
   },
   "outputs": [],
   "source": [
    "df4 = df3.copy()"
   ]
  },
  {
   "cell_type": "markdown",
   "metadata": {
    "cell_id": "3a5a367831fb401b83d5237d5882c567",
    "deepnote_cell_type": "text-cell-h1",
    "formattedRanges": [],
    "is_collapsed": false,
    "tags": []
   },
   "source": [
    "# 5.0. DATA PREPARATION"
   ]
  },
  {
   "cell_type": "code",
   "execution_count": 19,
   "metadata": {
    "ExecuteTime": {
     "end_time": "2022-08-21T20:17:46.229344Z",
     "start_time": "2022-08-21T20:17:46.213311Z"
    },
    "cell_id": "4cf034c1a0064ee5aef533e59921e542",
    "deepnote_cell_height": 76,
    "deepnote_cell_type": "code",
    "deepnote_to_be_reexecuted": false,
    "execution_millis": 0,
    "execution_start": 1661027994178,
    "source_hash": "831027fe",
    "tags": []
   },
   "outputs": [],
   "source": [
    "df5 = df4.copy()"
   ]
  },
  {
   "cell_type": "markdown",
   "metadata": {
    "cell_id": "ccf9a8a7cccd4652b584849e468f1fe7",
    "deepnote_cell_type": "text-cell-h2",
    "formattedRanges": [],
    "is_collapsed": false,
    "tags": []
   },
   "source": [
    "## 5.1. Encoding"
   ]
  },
  {
   "cell_type": "code",
   "execution_count": 20,
   "metadata": {
    "ExecuteTime": {
     "end_time": "2022-08-21T20:17:47.169339Z",
     "start_time": "2022-08-21T20:17:46.573775Z"
    },
    "cell_id": "39497d85c5574c238ce7a35e329872ce",
    "deepnote_cell_height": 999,
    "deepnote_cell_type": "code",
    "deepnote_to_be_reexecuted": false,
    "execution_millis": 137,
    "execution_start": 1661027996173,
    "source_hash": "9c3475b7",
    "tags": []
   },
   "outputs": [
    {
     "name": "stderr",
     "output_type": "stream",
     "text": [
      "f:\\SamuelOliveiraAlvesd\\Anaconda3\\envs\\Health_Insurance_Cross_Sell\\lib\\site-packages\\category_encoders\\target_encoder.py:92: FutureWarning: Default parameter min_samples_leaf will change in version 2.6.See https://github.com/scikit-learn-contrib/category_encoders/issues/327\n",
      "  warnings.warn(\"Default parameter min_samples_leaf will change in version 2.6.\"\n",
      "f:\\SamuelOliveiraAlvesd\\Anaconda3\\envs\\Health_Insurance_Cross_Sell\\lib\\site-packages\\category_encoders\\target_encoder.py:97: FutureWarning: Default parameter smoothing will change in version 2.6.See https://github.com/scikit-learn-contrib/category_encoders/issues/327\n",
      "  warnings.warn(\"Default parameter smoothing will change in version 2.6.\"\n"
     ]
    }
   ],
   "source": [
    "# colunas pra dropar: id\n",
    "df5 = df5.drop( columns=['ID','ano_de_fabricacao'] )\n",
    "\n",
    "# binario (0/1): blindado, troca, elegivel_revisao, attr_veiculo_aceita_troca, attr_veiculo_único_dono,\n",
    "# attr_veiculo_todas_as_revisões_feitas_pela_concessionária, attr_veiculo_ipva_pago, attr_veiculo_licenciado\n",
    "# attr_veiculo_ipva_pago, attr_veiculo_licenciado, attr_veiculo_garantia_de_fábrica\n",
    "df5['offroad'] = df5['offroad'].apply( lambda x: 1 if x == '4X4' else 0 )\n",
    "df5['turbo'] = df5['turbo'].apply( lambda x: 1 if x == 'TURBO' else 0 )\n",
    "df5['blindado'] = df5['blindado'].apply( lambda x: 0 if x == \"false\" else 1 if x==\"true\" else 0 )\n",
    "df5['troca'] = df5['troca'].apply( lambda x: 0 if x == \"false\" else 1 if x==\"true\" else 0 )\n",
    "#df5['elegivel_revisao'] = df5['elegivel_revisao'].apply( lambda x: 0 if x == \"false\" else 1 if x==\"true\" else 0 )\n",
    "# df5['entrega_delivery'] = df5['entrega_delivery'].apply( lambda x: 0 if x == \"false\" else 1 if x==\"true\" else 0 )\n",
    "# df5['attr_veiculo_aceita_troca'] = df5['attr_veiculo_aceita_troca'].apply( lambda x: 0 if x == \"Aceita troca\" else 0 )\n",
    "# df5['attr_veiculo_único_dono'] = df5['attr_veiculo_único_dono'].apply( lambda x: 0 if x == \"Único dono\" else 0 )\n",
    "# df5['attr_veiculo_todas_as_revisões_feitas_pela_concessionária'] = df5['attr_veiculo_todas_as_revisões_feitas_pela_concessionária'].apply( lambda x: 0 if x == \"Todas as revisões feitas pela concessionária\" else 0 )\n",
    "# df5['attr_veiculo_todas_as_revisões_feitas_pela_agenda_do_carro'] = df5['attr_veiculo_todas_as_revisões_feitas_pela_agenda_do_carro'].apply( lambda x: 0 if x == \"Todas as revisões feitas pela agenda do carro\" else 0 )\n",
    "# df5['attr_veiculo_ipva_pago'] = df5['attr_veiculo_ipva_pago'].apply( lambda x: 0 if x == \"IPVA pago\" else 0 )\n",
    "# df5['attr_veiculo_licenciado'] = df5['attr_veiculo_licenciado'].apply( lambda x: 0 if x == \"Licenciado\" else 0 )\n",
    "# df5['attr_veiculo_garantia_de_fábrica'] = df5['attr_veiculo_garantia_de_fábrica'].apply( lambda x: 0 if x == \"Garantia de fábrica\" else 0 )\n",
    "df5 = df5.drop( columns = ['attr_veiculo_aceita_troca','attr_veiculo_único_dono','attr_veiculo_todas_as_revisões_feitas_pela_concessionária',\n",
    "                           'attr_veiculo_todas_as_revisões_feitas_pela_agenda_do_carro','attr_veiculo_ipva_pago','attr_veiculo_licenciado',\n",
    "                           'attr_veiculo_garantia_de_fábrica','attr_veiculo_alienado','elegivel_revisao'] )\n",
    "\n",
    "# dummies: marca, cambio, tipo, tipo_vendedor\n",
    "encoder = OneHotEncoder(handle_unknown='ignore')\n",
    "\n",
    "df_cambio = pd.DataFrame(encoder.fit_transform(df5[['cambio']]).toarray())\n",
    "df_cambio.columns = encoder.get_feature_names_out()\n",
    "df5 = df5.join(df_cambio)\n",
    "pickle.dump( encoder, open( 'cambio_encoding', 'wb' ) )\n",
    "\n",
    "df_tipo_vendedor = pd.DataFrame(encoder.fit_transform(df5[['tipo_vendedor']]).toarray())\n",
    "df_tipo_vendedor.columns = encoder.get_feature_names_out()\n",
    "df5 = df5.join(df_tipo_vendedor)\n",
    "# df5['tipo_vendedor'] = ohe.fit_transform(df5[['tipo_vendedor']])\n",
    "pickle.dump( encoder, open( 'tipo_vendedor_encoding', 'wb' ) )\n",
    "\n",
    "df_tipo_anuncio = pd.DataFrame(encoder.fit_transform(df5[['tipo_anuncio']]).toarray())\n",
    "df_tipo_anuncio.columns = encoder.get_feature_names_out()\n",
    "df5 = df5.join(df_tipo_anuncio)\n",
    "# df5['tipo_anuncio'] = ohe.fit_transform(df5[['tipo_anuncio']])\n",
    "pickle.dump( encoder, open( 'tipo_anuncio_encoding', 'wb' ) )\n",
    "\n",
    "df_categoria_marca = pd.DataFrame(encoder.fit_transform(df5[['categoria_marca']]).toarray())\n",
    "df_categoria_marca.columns = encoder.get_feature_names_out()\n",
    "df5 = df5.join(df_categoria_marca)\n",
    "# df5['categoria_marca'] = ohe.fit_transform(df5[['categoria_marca']])\n",
    "pickle.dump( encoder, open( 'categoria_marca_encoding', 'wb' ) )\n",
    "\n",
    "df_combustivel = pd.DataFrame(encoder.fit_transform(df5[['combustivel']]).toarray())\n",
    "df_combustivel.columns = encoder.get_feature_names_out()\n",
    "df5 = df5.join(df_combustivel)\n",
    "# df5['combustivel'] = ohe.fit_transform(df5[['combustivel']])\n",
    "df5 = df5.drop( columns=['cambio','tipo_vendedor','tipo_anuncio','categoria_marca','combustivel'] )\n",
    "pickle.dump( encoder, open( 'combustivel_encoding', 'wb' ) )\n",
    "\n",
    "# frequency encoder/label encoder: modelo, versao\n",
    "# fe_modelo = df5.groupby('modelo').size() / len(df5)\n",
    "# df5.loc[:,'modelo'] = df5['modelo'].map(fe_modelo)\n",
    "\n",
    "# fe_versao = df5.groupby('versao').size() / len(df5)\n",
    "# df5.loc[:,'versao'] = df5['versao'].map(fe_versao)\n",
    "te = TargetEncoder()\n",
    "# le = LabelEncoder()\n",
    "# df5['modelo'] = le.fit_transform(df5['modelo'])\n",
    "# # df5['modelo'] = te.fit_transform(df5['modelo'], df5['preco'])\n",
    "# pickle.dump( le, open( 'modelo_encoding', 'wb' ) )\n",
    "\n",
    "df5['versao'] = te.fit_transform(df5['versao'], df5['preco'])\n",
    "pickle.dump( te, open( 'versao_encoding', 'wb' ) )\n",
    "# df5['versao'] = le.fit_transform(df5['versao'])\n",
    "\n",
    "# # fe_marca = df5.groupby('marca').size() / len(df5)\n",
    "# # df5.loc[:,'marca'] = df5['marca'].map(fe_marca)\n",
    "\n",
    "# # fe_cor = df5.groupby('cor').size() / len(df5)\n",
    "# # df5.loc[:,'cor'] = df5['cor'].map(fe_cor)\n",
    "\n",
    "# # fe_tipo = df5.groupby('tipo').size() / len(df5)\n",
    "# # df5.loc[:,'tipo'] = df5['tipo'].map(fe_tipo)\n",
    "\n",
    "# label encoder\n",
    "# le = LabelEncoder()\n",
    "df5['marca'] = te.fit_transform(df5['marca'],df5['preco'])\n",
    "pickle.dump( te, open( 'marca_encoding', 'wb' ) )\n",
    "df5['cor'] = te.fit_transform(df5['cor'],df5['preco'])\n",
    "pickle.dump( te, open( 'cor_encoding', 'wb' ) )\n",
    "df5['tipo'] = te.fit_transform(df5['tipo'],df5['preco'])\n",
    "pickle.dump( te, open( 'tipo_encoding', 'wb' ) )\n",
    "df5['cidade_vendedor'] = te.fit_transform(df5['cidade_vendedor'],df5['preco'])\n",
    "pickle.dump( te, open( 'cidade_vendedor_encoding', 'wb' ) )\n",
    "df5['estado_vendedor'] = te.fit_transform(df5['estado_vendedor'],df5['preco'])\n",
    "pickle.dump( te, open( 'estado_vendedor_encoding', 'wb' ) )\n",
    "\n",
    "# cols = ['marca','cor','tipo','cidade_vendedor','estado_vendedor','versao','modelo']\n",
    "# ce = CountEncoder(cols=cols, return_df=True)\n",
    "# df5[cols] = te.fit_transform(df5[cols], df5['preco'])\n",
    "# pickle.dump( ce, open( 'ce_encoder', 'wb' ) )\n",
    "\n",
    "df5['modelo'] = te.fit_transform(df5['modelo'], df5['preco'])\n",
    "pickle.dump( te, open( 'modelo_encoding_te', 'wb' ) )"
   ]
  },
  {
   "cell_type": "markdown",
   "metadata": {
    "cell_id": "f4bce0617d74485da3443b901d02195d",
    "deepnote_cell_type": "text-cell-h2",
    "formattedRanges": [],
    "is_collapsed": false,
    "tags": []
   },
   "source": [
    "## 5.2. Normalização"
   ]
  },
  {
   "cell_type": "markdown",
   "metadata": {
    "cell_id": "bc7f9c4081b9453095d225e6a3b43074",
    "deepnote_cell_type": "text-cell-h2",
    "formattedRanges": [],
    "is_collapsed": false,
    "tags": []
   },
   "source": [
    "## 5.3. Rescaling"
   ]
  },
  {
   "cell_type": "code",
   "execution_count": 21,
   "metadata": {
    "ExecuteTime": {
     "end_time": "2022-08-21T20:17:47.232438Z",
     "start_time": "2022-08-21T20:17:47.221443Z"
    },
    "cell_id": "3af4b79e5fb54cae93643e084e35f1c4",
    "deepnote_cell_height": 486,
    "deepnote_cell_type": "code",
    "deepnote_output_heights": [
     268
    ],
    "deepnote_to_be_reexecuted": false,
    "execution_millis": 12620,
    "execution_start": 1661027465359,
    "source_hash": "ec84ad44",
    "tags": []
   },
   "outputs": [],
   "source": [
    "# mms = MinMaxScaler()\n",
    "\n",
    "# df5['num_fotos'] = mms.fit_transform( df5[['num_fotos']].values )\n",
    "# # df5['ano_modelo'] = mms.fit_transform( df5[['ano_modelo']].values )\n",
    "# df5['odometro'] = mms.fit_transform( df5[['odometro']].values )\n",
    "# df5['num_portas'] = mms.fit_transform( df5[['num_portas']].values )"
   ]
  },
  {
   "cell_type": "markdown",
   "metadata": {
    "cell_id": "1e84b83e0ad6413193e2093e642b8772",
    "deepnote_cell_type": "text-cell-h2",
    "formattedRanges": [],
    "is_collapsed": false,
    "tags": []
   },
   "source": [
    "## 5.4. Transformação"
   ]
  },
  {
   "cell_type": "code",
   "execution_count": 22,
   "metadata": {
    "ExecuteTime": {
     "end_time": "2022-08-21T20:17:47.564251Z",
     "start_time": "2022-08-21T20:17:47.542251Z"
    },
    "cell_id": "336b9a267b604abb8bbc2c2bf2431aed",
    "deepnote_cell_height": 76,
    "deepnote_cell_type": "code",
    "deepnote_to_be_reexecuted": false,
    "execution_millis": 9,
    "execution_start": 1661028004526,
    "source_hash": "f5b0bdfa",
    "tags": []
   },
   "outputs": [],
   "source": [
    "df5['preco'] = np.log1p(df5['preco'])"
   ]
  },
  {
   "cell_type": "markdown",
   "metadata": {
    "cell_id": "d6626a41fb6e43a3b0d888125235562e",
    "deepnote_cell_type": "text-cell-h1",
    "formattedRanges": [],
    "is_collapsed": false,
    "tags": []
   },
   "source": [
    "# 6.0. FEATURE SELECTION"
   ]
  },
  {
   "cell_type": "code",
   "execution_count": 23,
   "metadata": {
    "ExecuteTime": {
     "end_time": "2022-08-21T20:17:47.907368Z",
     "start_time": "2022-08-21T20:17:47.870369Z"
    },
    "cell_id": "043edb140d1d494db279cb29075983dc",
    "deepnote_cell_height": 76,
    "deepnote_cell_type": "code",
    "deepnote_to_be_reexecuted": false,
    "execution_millis": 10,
    "execution_start": 1661028007142,
    "source_hash": "6d0f2aa",
    "tags": []
   },
   "outputs": [],
   "source": [
    "df6 = df5.copy()"
   ]
  },
  {
   "cell_type": "markdown",
   "metadata": {
    "cell_id": "ce46cd3c04e64001957575860b5a079a",
    "deepnote_cell_type": "text-cell-h2",
    "formattedRanges": [],
    "is_collapsed": false,
    "tags": []
   },
   "source": [
    "## 6.1. Manual Selection"
   ]
  },
  {
   "cell_type": "markdown",
   "metadata": {
    "cell_id": "ac3c5b3b320246cbbd7a3b80b5eb4361",
    "deepnote_cell_type": "text-cell-h2",
    "formattedRanges": [],
    "is_collapsed": false,
    "tags": []
   },
   "source": [
    "## 6.2. Feature Importancia"
   ]
  },
  {
   "cell_type": "code",
   "execution_count": 24,
   "metadata": {
    "ExecuteTime": {
     "end_time": "2022-08-21T20:17:48.235248Z",
     "start_time": "2022-08-21T20:17:48.224818Z"
    },
    "cell_id": "8ff4039a643a42ba8ff8436d38d74685",
    "deepnote_cell_height": 259.34375,
    "deepnote_cell_type": "code",
    "deepnote_output_heights": [
     59.34375
    ],
    "deepnote_to_be_reexecuted": false,
    "execution_millis": 60755,
    "execution_start": 1661027477825,
    "source_hash": "47d5e3e6",
    "tags": []
   },
   "outputs": [],
   "source": [
    "# # model\n",
    "# forest = en.ExtraTreesRegressor( n_estimators=250, random_state=0, n_jobs=-1 )\n",
    "\n",
    "# # training\n",
    "# x_train_fselection = df6.drop( ['preco'], axis=1 )\n",
    "# y_train_fselection = df6['preco'].values\n",
    "# forest.fit( x_train_fselection, y_train_fselection )"
   ]
  },
  {
   "cell_type": "code",
   "execution_count": 25,
   "metadata": {
    "ExecuteTime": {
     "end_time": "2022-08-21T20:17:48.621986Z",
     "start_time": "2022-08-21T20:17:48.611990Z"
    },
    "cell_id": "7bb0536c4c5e47faa2e0c36e413b275e",
    "deepnote_cell_height": 1360,
    "deepnote_cell_type": "code",
    "deepnote_output_heights": [
     null,
     268
    ],
    "deepnote_to_be_reexecuted": false,
    "execution_millis": 1531,
    "execution_start": 1661027538579,
    "source_hash": "7ffa040c",
    "tags": []
   },
   "outputs": [],
   "source": [
    "# importances = forest.feature_importances_\n",
    "# std = np.std( [tree.feature_importances_ for tree in forest.estimators_], axis=0 )\n",
    "# indices = np.argsort( importances )[::-1]\n",
    "\n",
    "# # print the feature ranking\n",
    "# df = pd.DataFrame()\n",
    "\n",
    "# print( 'Feature Ranking:\\n' )\n",
    "# for i, j in zip( x_train_fselection,forest.feature_importances_ ):\n",
    "#     aux = pd.DataFrame( {'feature': i, 'importance': j}, index=[0] )\n",
    "#     df = pd.concat( [df, aux], axis=0 )\n",
    "    \n",
    "# print( df.sort_values( 'importance', ascending=False ) ) \n",
    "\n",
    "# # plot the impurity-based feature importances of the forest\n",
    "# plt.figure()\n",
    "# plt.title( 'Feature importances' )\n",
    "# plt.bar( range( x_train_fselection.shape[1] ), importances[indices], color='r', yerr=std[indices], align='center' )\n",
    "# plt.xticks( range(x_train_fselection.shape[1]), indices )\n",
    "# plt.xlim( [-1, x_train_fselection.shape[1]] )\n",
    "# plt.show()"
   ]
  },
  {
   "cell_type": "code",
   "execution_count": 26,
   "metadata": {
    "ExecuteTime": {
     "end_time": "2022-08-21T20:17:48.637019Z",
     "start_time": "2022-08-21T20:17:48.633990Z"
    }
   },
   "outputs": [],
   "source": [
    "# a = df.sort_values( by='importance', ascending=False )"
   ]
  },
  {
   "cell_type": "markdown",
   "metadata": {
    "cell_id": "fefb181cca9442c4a15d0a141c1bfa51",
    "deepnote_cell_type": "text-cell-h2",
    "formattedRanges": [],
    "is_collapsed": false,
    "tags": []
   },
   "source": [
    "## 6.3. Boruta Selection"
   ]
  },
  {
   "cell_type": "code",
   "execution_count": 27,
   "metadata": {},
   "outputs": [],
   "source": [
    "from boruta                import BorutaPy"
   ]
  },
  {
   "cell_type": "code",
   "execution_count": 29,
   "metadata": {},
   "outputs": [
    {
     "name": "stdout",
     "output_type": "stream",
     "text": [
      "Iteration: \t1 / 100\n",
      "Confirmed: \t0\n",
      "Tentative: \t47\n",
      "Rejected: \t0\n",
      "Iteration: \t2 / 100\n",
      "Confirmed: \t0\n",
      "Tentative: \t47\n",
      "Rejected: \t0\n",
      "Iteration: \t3 / 100\n",
      "Confirmed: \t0\n",
      "Tentative: \t47\n",
      "Rejected: \t0\n",
      "Iteration: \t4 / 100\n",
      "Confirmed: \t0\n",
      "Tentative: \t47\n",
      "Rejected: \t0\n",
      "Iteration: \t5 / 100\n",
      "Confirmed: \t0\n",
      "Tentative: \t47\n",
      "Rejected: \t0\n",
      "Iteration: \t6 / 100\n",
      "Confirmed: \t0\n",
      "Tentative: \t47\n",
      "Rejected: \t0\n",
      "Iteration: \t7 / 100\n",
      "Confirmed: \t0\n",
      "Tentative: \t47\n",
      "Rejected: \t0\n",
      "Iteration: \t8 / 100\n",
      "Confirmed: \t0\n",
      "Tentative: \t4\n",
      "Rejected: \t43\n",
      "Iteration: \t9 / 100\n",
      "Confirmed: \t3\n",
      "Tentative: \t1\n",
      "Rejected: \t43\n",
      "Iteration: \t10 / 100\n",
      "Confirmed: \t3\n",
      "Tentative: \t1\n",
      "Rejected: \t43\n",
      "Iteration: \t11 / 100\n",
      "Confirmed: \t3\n",
      "Tentative: \t1\n",
      "Rejected: \t43\n",
      "Iteration: \t12 / 100\n",
      "Confirmed: \t3\n",
      "Tentative: \t1\n",
      "Rejected: \t43\n",
      "Iteration: \t13 / 100\n",
      "Confirmed: \t3\n",
      "Tentative: \t1\n",
      "Rejected: \t43\n",
      "Iteration: \t14 / 100\n",
      "Confirmed: \t3\n",
      "Tentative: \t1\n",
      "Rejected: \t43\n",
      "Iteration: \t15 / 100\n",
      "Confirmed: \t3\n",
      "Tentative: \t1\n",
      "Rejected: \t43\n",
      "Iteration: \t16 / 100\n",
      "Confirmed: \t3\n",
      "Tentative: \t1\n",
      "Rejected: \t43\n",
      "Iteration: \t17 / 100\n",
      "Confirmed: \t3\n",
      "Tentative: \t1\n",
      "Rejected: \t43\n",
      "Iteration: \t18 / 100\n",
      "Confirmed: \t3\n",
      "Tentative: \t1\n",
      "Rejected: \t43\n",
      "Iteration: \t19 / 100\n",
      "Confirmed: \t3\n",
      "Tentative: \t1\n",
      "Rejected: \t43\n",
      "Iteration: \t20 / 100\n",
      "Confirmed: \t3\n",
      "Tentative: \t1\n",
      "Rejected: \t43\n",
      "Iteration: \t21 / 100\n",
      "Confirmed: \t3\n",
      "Tentative: \t1\n",
      "Rejected: \t43\n",
      "Iteration: \t22 / 100\n",
      "Confirmed: \t3\n",
      "Tentative: \t0\n",
      "Rejected: \t44\n",
      "\n",
      "\n",
      "BorutaPy finished running.\n",
      "\n",
      "Iteration: \t23 / 100\n",
      "Confirmed: \t3\n",
      "Tentative: \t0\n",
      "Rejected: \t44\n"
     ]
    }
   ],
   "source": [
    "# training\n",
    "x_train_fselection = df6.drop( ['preco'], axis=1 ).values\n",
    "y_train_fselection = df6['preco'].values.ravel()\n",
    "\n",
    "# define RandomForestRegressor\n",
    "rf = RandomForestRegressor(n_jobs=-1)\n",
    "\n",
    "# define Boruta\n",
    "boruta = BorutaPy(rf, n_estimators='auto', verbose=2, random_state=42).fit(x_train_fselection, y_train_fselection)"
   ]
  },
  {
   "cell_type": "code",
   "execution_count": 31,
   "metadata": {},
   "outputs": [
    {
     "data": {
      "text/plain": [
       "Index(['modelo', 'versao', 'odometro'], dtype='object')"
      ]
     },
     "execution_count": 31,
     "metadata": {},
     "output_type": "execute_result"
    }
   ],
   "source": [
    "cols_selected = boruta.support_.tolist()\n",
    "\n",
    "# best features\n",
    "X_train_fs = df6.drop(['preco'], axis=1)\n",
    "cols_selected_boruta = X_train_fs.iloc[:, cols_selected]\n",
    "\n",
    "# not selected boruta\n",
    "cols_not_selected_boruta = list(np.setdiff1d(X_train_fs.columns, cols_selected_boruta.columns))\n",
    "\n",
    "cols_selected_boruta.columns"
   ]
  },
  {
   "cell_type": "code",
   "execution_count": 32,
   "metadata": {},
   "outputs": [
    {
     "data": {
      "text/plain": [
       "['Year_Bin1',\n",
       " 'Year_Bin2',\n",
       " 'Year_Bin3',\n",
       " 'Year_Bin4',\n",
       " 'Year_Bin5',\n",
       " 'Year_Bin6',\n",
       " 'ano_modelo',\n",
       " 'blindado',\n",
       " 'cambio_Automatizada',\n",
       " 'cambio_Automatizada DCT',\n",
       " 'cambio_Automática',\n",
       " 'cambio_Automática Sequencial',\n",
       " 'cambio_CVT',\n",
       " 'cambio_Manual',\n",
       " 'cambio_Semi-automática',\n",
       " 'categoria_marca_luxo',\n",
       " 'categoria_marca_popular_alto_padrao',\n",
       " 'categoria_marca_popular_baixo_padrao',\n",
       " 'categoria_marca_superluxo',\n",
       " 'cidade_vendedor',\n",
       " 'cilindrada',\n",
       " 'combustivel_DESCONHECIDO',\n",
       " 'combustivel_DIESEL',\n",
       " 'combustivel_ELÉTRICO',\n",
       " 'combustivel_FLEX',\n",
       " 'combustivel_GASOLINA',\n",
       " 'combustivel_HYBRID',\n",
       " 'combustivel_HÍBRIDO',\n",
       " 'cor',\n",
       " 'entrega_delivery',\n",
       " 'estado_vendedor',\n",
       " 'marca',\n",
       " 'num_fotos',\n",
       " 'num_portas',\n",
       " 'offroad',\n",
       " 'tipo',\n",
       " 'tipo_anuncio_Acessórios e serviços para autos',\n",
       " 'tipo_anuncio_Concessionária',\n",
       " 'tipo_anuncio_Loja',\n",
       " 'tipo_anuncio_Pessoa Física',\n",
       " 'tipo_vendedor_PF',\n",
       " 'tipo_vendedor_PJ',\n",
       " 'troca',\n",
       " 'turbo']"
      ]
     },
     "execution_count": 32,
     "metadata": {},
     "output_type": "execute_result"
    }
   ],
   "source": [
    "cols_not_selected_boruta"
   ]
  },
  {
   "cell_type": "code",
   "execution_count": null,
   "metadata": {
    "ExecuteTime": {
     "end_time": "2022-08-21T20:17:49.528363Z",
     "start_time": "2022-08-21T20:17:49.517332Z"
    },
    "cell_id": "82bc63bb6da448d49bcdb5a025c6d110",
    "deepnote_cell_height": 153,
    "deepnote_cell_type": "code",
    "deepnote_to_be_reexecuted": false,
    "execution_millis": 7,
    "execution_start": 1661027540112,
    "source_hash": "3c45aad",
    "tags": []
   },
   "outputs": [],
   "source": [
    "# columns = ['ano_modelo','odometro','cambio_Manual','versao','cor','tipo','cidade_vendedor','modelo','estado_vendedor','num_fotos','marca',\n",
    "# 'combustivel_DIESEL','combustivel_FLEX','combustivel_GASOLINA','combustivel_DESCONHECIDO','combustivel_HYBRID','combustivel_HÍBRIDO',\n",
    "# 'categoria_marca_popular_alto_padrao','categoria_marca_superluxo','categoria_marca_popular_baixo_padrao','categoria_marca_luxo','Year_Bin6','Year_Bin5','Year_Bin4','Year_Bin3','Year_Bin2',\n",
    "# 'Year_Bin1','Year_Bin6']"
   ]
  },
  {
   "cell_type": "markdown",
   "metadata": {
    "cell_id": "1de97010650b4343b56b6f0a472ea47b",
    "deepnote_cell_type": "text-cell-h1",
    "formattedRanges": [],
    "is_collapsed": false,
    "tags": []
   },
   "source": [
    "# 7.0. MACHINE LEARNING MODELLING"
   ]
  },
  {
   "cell_type": "code",
   "execution_count": null,
   "metadata": {
    "ExecuteTime": {
     "end_time": "2022-08-21T20:17:50.323126Z",
     "start_time": "2022-08-21T20:17:50.283895Z"
    },
    "cell_id": "69fc853c9ff94e6faf54b662d8f5f5b9",
    "deepnote_cell_height": 166,
    "deepnote_cell_type": "code",
    "deepnote_to_be_reexecuted": false,
    "execution_millis": 26,
    "execution_start": 1661028014268,
    "source_hash": "c5446c83",
    "tags": []
   },
   "outputs": [],
   "source": [
    "df7 = df6.copy()\n",
    "\n",
    "X = df7.drop(columns=[\"preco\"])\n",
    "# df7 = df7[columns]\n",
    "Y = df7['preco'].copy()\n",
    "# Y = df6['preco'].copy()\n",
    "\n",
    "X_train, X_val, y_train, y_val = ms.train_test_split( X, Y, test_size=0.2, random_state=42 )"
   ]
  },
  {
   "cell_type": "markdown",
   "metadata": {
    "cell_id": "7ae14e93f8de48edb17ca2e8a9085a5b",
    "deepnote_cell_type": "text-cell-h2",
    "formattedRanges": [],
    "is_collapsed": false,
    "tags": []
   },
   "source": [
    "## 7.1. Linear Regression"
   ]
  },
  {
   "cell_type": "code",
   "execution_count": null,
   "metadata": {
    "ExecuteTime": {
     "end_time": "2022-08-21T20:17:51.075162Z",
     "start_time": "2022-08-21T20:17:50.823728Z"
    },
    "cell_id": "7d451b985ebc4ce5ab99989f887fbb5a",
    "deepnote_cell_height": 370,
    "deepnote_cell_type": "code",
    "deepnote_to_be_reexecuted": false,
    "execution_millis": 136,
    "execution_start": 1661028017986,
    "source_hash": "d49d0e0f",
    "tags": []
   },
   "outputs": [
    {
     "data": {
      "text/html": [
       "<div>\n",
       "<style scoped>\n",
       "    .dataframe tbody tr th:only-of-type {\n",
       "        vertical-align: middle;\n",
       "    }\n",
       "\n",
       "    .dataframe tbody tr th {\n",
       "        vertical-align: top;\n",
       "    }\n",
       "\n",
       "    .dataframe thead th {\n",
       "        text-align: right;\n",
       "    }\n",
       "</style>\n",
       "<table border=\"1\" class=\"dataframe\">\n",
       "  <thead>\n",
       "    <tr style=\"text-align: right;\">\n",
       "      <th></th>\n",
       "      <th>Model name</th>\n",
       "      <th>MAE</th>\n",
       "      <th>MAPE</th>\n",
       "      <th>RMSE</th>\n",
       "    </tr>\n",
       "  </thead>\n",
       "  <tbody>\n",
       "    <tr>\n",
       "      <th>0</th>\n",
       "      <td>Linear Regression</td>\n",
       "      <td>29588.931281</td>\n",
       "      <td>0.229434</td>\n",
       "      <td>54775.972229</td>\n",
       "    </tr>\n",
       "  </tbody>\n",
       "</table>\n",
       "</div>"
      ],
      "text/plain": [
       "          Model name           MAE      MAPE          RMSE\n",
       "0  Linear Regression  29588.931281  0.229434  54775.972229"
      ]
     },
     "execution_count": 63,
     "metadata": {},
     "output_type": "execute_result"
    }
   ],
   "source": [
    "# model training\n",
    "lr = LinearRegression().fit( X_train, y_train )\n",
    "\n",
    "# prediction\n",
    "yhat_lr = lr.predict( X_val )\n",
    "\n",
    "# performance (error)\n",
    "lr_results = ml_error( 'Linear Regression', np.expm1( y_val ) , np.expm1( yhat_lr ) )\n",
    "lr_results"
   ]
  },
  {
   "cell_type": "markdown",
   "metadata": {
    "cell_id": "f484a15f7a5f44329846360eedf34653",
    "deepnote_cell_type": "text-cell-h3",
    "formattedRanges": [],
    "is_collapsed": false,
    "tags": []
   },
   "source": [
    "### 7.1.1. Cross Validation"
   ]
  },
  {
   "cell_type": "code",
   "execution_count": null,
   "metadata": {
    "cell_id": "774f6873e97741228d6fce6d5f47cab7",
    "deepnote_cell_height": 76,
    "deepnote_cell_type": "code",
    "deepnote_to_be_reexecuted": false,
    "execution_millis": 1,
    "execution_start": 1661027540429,
    "source_hash": "b623e53d",
    "tags": []
   },
   "outputs": [],
   "source": []
  },
  {
   "cell_type": "markdown",
   "metadata": {
    "cell_id": "a89db504a8824d108f7ae36b1484d14b",
    "deepnote_cell_type": "text-cell-h2",
    "formattedRanges": [],
    "is_collapsed": false,
    "tags": []
   },
   "source": [
    "## 7.3. Random Forest Regressor"
   ]
  },
  {
   "cell_type": "code",
   "execution_count": null,
   "metadata": {
    "ExecuteTime": {
     "end_time": "2022-08-21T20:18:01.887647Z",
     "start_time": "2022-08-21T20:17:51.894425Z"
    },
    "cell_id": "c25fc36d278d43c1931de47a88f14631",
    "deepnote_cell_height": 370,
    "deepnote_cell_type": "code",
    "deepnote_to_be_reexecuted": false,
    "execution_millis": 28981,
    "execution_start": 1661028023933,
    "source_hash": "e86c8681",
    "tags": []
   },
   "outputs": [
    {
     "data": {
      "text/html": [
       "<div>\n",
       "<style scoped>\n",
       "    .dataframe tbody tr th:only-of-type {\n",
       "        vertical-align: middle;\n",
       "    }\n",
       "\n",
       "    .dataframe tbody tr th {\n",
       "        vertical-align: top;\n",
       "    }\n",
       "\n",
       "    .dataframe thead th {\n",
       "        text-align: right;\n",
       "    }\n",
       "</style>\n",
       "<table border=\"1\" class=\"dataframe\">\n",
       "  <thead>\n",
       "    <tr style=\"text-align: right;\">\n",
       "      <th></th>\n",
       "      <th>Model name</th>\n",
       "      <th>MAE</th>\n",
       "      <th>MAPE</th>\n",
       "      <th>RMSE</th>\n",
       "    </tr>\n",
       "  </thead>\n",
       "  <tbody>\n",
       "    <tr>\n",
       "      <th>0</th>\n",
       "      <td>Random Forest Regressor</td>\n",
       "      <td>25722.723763</td>\n",
       "      <td>0.202168</td>\n",
       "      <td>42935.860987</td>\n",
       "    </tr>\n",
       "  </tbody>\n",
       "</table>\n",
       "</div>"
      ],
      "text/plain": [
       "                Model name           MAE      MAPE          RMSE\n",
       "0  Random Forest Regressor  25722.723763  0.202168  42935.860987"
      ]
     },
     "execution_count": 64,
     "metadata": {},
     "output_type": "execute_result"
    }
   ],
   "source": [
    "# model\n",
    "rf = RandomForestRegressor( n_estimators=150, n_jobs=-1, random_state=42 ).fit( X_train, y_train )\n",
    "\n",
    "# prediction\n",
    "yhat_rf = rf.predict( X_val )\n",
    "\n",
    "# performance\n",
    "rf_results = ml_error( 'Random Forest Regressor', np.expm1(y_val), np.expm1(yhat_rf) )\n",
    "rf_results"
   ]
  },
  {
   "cell_type": "markdown",
   "metadata": {
    "cell_id": "a60cf8130f3e44bfa16b13b31e307616",
    "deepnote_cell_type": "text-cell-h3",
    "formattedRanges": [],
    "is_collapsed": false,
    "tags": []
   },
   "source": [
    "### 7.3.1. Cross Validation"
   ]
  },
  {
   "cell_type": "code",
   "execution_count": null,
   "metadata": {
    "cell_id": "94dec6e068624b54a466c46c2a0d9dbf",
    "deepnote_cell_height": 76,
    "deepnote_cell_type": "code",
    "deepnote_to_be_reexecuted": false,
    "execution_millis": 4,
    "execution_start": 1661027573234,
    "source_hash": "b623e53d",
    "tags": []
   },
   "outputs": [],
   "source": []
  },
  {
   "cell_type": "markdown",
   "metadata": {
    "cell_id": "d446df4455b3419382e7697df9035620",
    "deepnote_cell_type": "text-cell-h2",
    "formattedRanges": [],
    "is_collapsed": false,
    "tags": []
   },
   "source": [
    "## 7.5. XGBoost Regressor"
   ]
  },
  {
   "cell_type": "code",
   "execution_count": null,
   "metadata": {
    "ExecuteTime": {
     "end_time": "2022-08-21T20:18:11.452112Z",
     "start_time": "2022-08-21T20:18:01.891644Z"
    },
    "cell_id": "1e08a477d2204dcf96b3a8334f61de1a",
    "deepnote_cell_height": 370,
    "deepnote_cell_type": "code",
    "deepnote_to_be_reexecuted": false,
    "execution_millis": 21991,
    "execution_start": 1661028052921,
    "source_hash": "45169da5",
    "tags": []
   },
   "outputs": [
    {
     "name": "stderr",
     "output_type": "stream",
     "text": [
      "C:\\Users\\mathe\\anaconda3\\envs\\ds_em_producao\\lib\\site-packages\\xgboost\\data.py:262: FutureWarning: pandas.Int64Index is deprecated and will be removed from pandas in a future version. Use pandas.Index with the appropriate dtype instead.\n",
      "  elif isinstance(data.columns, (pd.Int64Index, pd.RangeIndex)):\n"
     ]
    },
    {
     "data": {
      "text/html": [
       "<div>\n",
       "<style scoped>\n",
       "    .dataframe tbody tr th:only-of-type {\n",
       "        vertical-align: middle;\n",
       "    }\n",
       "\n",
       "    .dataframe tbody tr th {\n",
       "        vertical-align: top;\n",
       "    }\n",
       "\n",
       "    .dataframe thead th {\n",
       "        text-align: right;\n",
       "    }\n",
       "</style>\n",
       "<table border=\"1\" class=\"dataframe\">\n",
       "  <thead>\n",
       "    <tr style=\"text-align: right;\">\n",
       "      <th></th>\n",
       "      <th>Model name</th>\n",
       "      <th>MAE</th>\n",
       "      <th>MAPE</th>\n",
       "      <th>RMSE</th>\n",
       "    </tr>\n",
       "  </thead>\n",
       "  <tbody>\n",
       "    <tr>\n",
       "      <th>0</th>\n",
       "      <td>XGBoost Regressor</td>\n",
       "      <td>25937.086046</td>\n",
       "      <td>0.203474</td>\n",
       "      <td>43418.215059</td>\n",
       "    </tr>\n",
       "  </tbody>\n",
       "</table>\n",
       "</div>"
      ],
      "text/plain": [
       "          Model name           MAE      MAPE          RMSE\n",
       "0  XGBoost Regressor  25937.086046  0.203474  43418.215059"
      ]
     },
     "execution_count": 65,
     "metadata": {},
     "output_type": "execute_result"
    }
   ],
   "source": [
    "# model\n",
    "model_xgb = xgb.XGBRegressor( n_estimators=400 ).fit( X_train, y_train )\n",
    "\n",
    "# prediction\n",
    "yhat_xgb = model_xgb.predict( X_val )\n",
    "\n",
    "# performance\n",
    "model_xgb_results = ml_error( 'XGBoost Regressor',  np.expm1(y_val), np.expm1(yhat_xgb) )\n",
    "model_xgb_results"
   ]
  },
  {
   "cell_type": "markdown",
   "metadata": {
    "cell_id": "99c889541d064bada91ef12f5ddf32e5",
    "deepnote_cell_type": "text-cell-h3",
    "formattedRanges": [],
    "is_collapsed": false,
    "tags": []
   },
   "source": [
    "### 7.5.1. Cross Validation"
   ]
  },
  {
   "cell_type": "code",
   "execution_count": null,
   "metadata": {
    "cell_id": "251e0b8324534179851c3f1edac3f4f6",
    "deepnote_cell_height": 76,
    "deepnote_cell_type": "code",
    "deepnote_to_be_reexecuted": false,
    "execution_millis": 4,
    "execution_start": 1661027602955,
    "source_hash": "b623e53d",
    "tags": []
   },
   "outputs": [],
   "source": []
  },
  {
   "cell_type": "markdown",
   "metadata": {
    "cell_id": "a307284412264bcbacf08365defe53f4",
    "deepnote_cell_type": "text-cell-h2",
    "formattedRanges": [],
    "is_collapsed": false,
    "tags": []
   },
   "source": [
    "## 7.6. LightGBM"
   ]
  },
  {
   "cell_type": "code",
   "execution_count": null,
   "metadata": {
    "ExecuteTime": {
     "end_time": "2022-08-21T20:18:28.553623Z",
     "start_time": "2022-08-21T20:18:21.092538Z"
    },
    "cell_id": "fc9411f4e3eb467ea4e281defd1a971f",
    "deepnote_cell_height": 370,
    "deepnote_cell_type": "code",
    "deepnote_to_be_reexecuted": false,
    "execution_millis": 3164,
    "execution_start": 1661028074623,
    "source_hash": "e82a3b90",
    "tags": []
   },
   "outputs": [
    {
     "data": {
      "text/html": [
       "<div>\n",
       "<style scoped>\n",
       "    .dataframe tbody tr th:only-of-type {\n",
       "        vertical-align: middle;\n",
       "    }\n",
       "\n",
       "    .dataframe tbody tr th {\n",
       "        vertical-align: top;\n",
       "    }\n",
       "\n",
       "    .dataframe thead th {\n",
       "        text-align: right;\n",
       "    }\n",
       "</style>\n",
       "<table border=\"1\" class=\"dataframe\">\n",
       "  <thead>\n",
       "    <tr style=\"text-align: right;\">\n",
       "      <th></th>\n",
       "      <th>Model name</th>\n",
       "      <th>MAE</th>\n",
       "      <th>MAPE</th>\n",
       "      <th>RMSE</th>\n",
       "    </tr>\n",
       "  </thead>\n",
       "  <tbody>\n",
       "    <tr>\n",
       "      <th>0</th>\n",
       "      <td>LightGBM Regressor</td>\n",
       "      <td>24882.546284</td>\n",
       "      <td>0.194521</td>\n",
       "      <td>41827.41902</td>\n",
       "    </tr>\n",
       "  </tbody>\n",
       "</table>\n",
       "</div>"
      ],
      "text/plain": [
       "           Model name           MAE      MAPE         RMSE\n",
       "0  LightGBM Regressor  24882.546284  0.194521  41827.41902"
      ]
     },
     "execution_count": 66,
     "metadata": {},
     "output_type": "execute_result"
    }
   ],
   "source": [
    "# model\n",
    "model_lgb = lgb.LGBMRegressor(n_jobs=-1, random_state=42, subsample_freq=1, max_bin=500,\n",
    "                              n_estimators=1181, max_depth=10, learning_rate=0.01027, \n",
    "                              num_leaves=128, min_child_samples=1, subsample=0.92676, \n",
    "                              colsample_bytree=0.68369).fit( X_train, y_train )\n",
    "\n",
    "# prediction\n",
    "yhat_lgb = model_lgb.predict( X_val )\n",
    "\n",
    "# performance\n",
    "model_lgb_results = ml_error( 'LightGBM Regressor',  np.expm1(y_val), np.expm1(yhat_lgb) )\n",
    "model_lgb_results"
   ]
  },
  {
   "cell_type": "code",
   "execution_count": null,
   "metadata": {
    "ExecuteTime": {
     "end_time": "2022-08-21T20:21:58.464330Z",
     "start_time": "2022-08-21T20:21:58.456334Z"
    }
   },
   "outputs": [
    {
     "data": {
      "text/plain": [
       "Index(['num_fotos', 'marca', 'modelo', 'versao', 'ano_modelo', 'odometro',\n",
       "       'num_portas', 'tipo', 'blindado', 'cor', 'cidade_vendedor',\n",
       "       'estado_vendedor', 'entrega_delivery', 'troca', 'Year_Bin1',\n",
       "       'Year_Bin2', 'Year_Bin3', 'Year_Bin4', 'Year_Bin5', 'Year_Bin6',\n",
       "       'cilindrada', 'turbo', 'offroad', 'cambio_Automatizada',\n",
       "       'cambio_Automatizada DCT', 'cambio_Automática',\n",
       "       'cambio_Automática Sequencial', 'cambio_CVT', 'cambio_Manual',\n",
       "       'cambio_Semi-automática', 'tipo_vendedor_PF', 'tipo_vendedor_PJ',\n",
       "       'tipo_anuncio_Acessórios e serviços para autos',\n",
       "       'tipo_anuncio_Concessionária', 'tipo_anuncio_Loja',\n",
       "       'tipo_anuncio_Pessoa Física', 'categoria_marca_luxo',\n",
       "       'categoria_marca_popular_alto_padrao',\n",
       "       'categoria_marca_popular_baixo_padrao', 'categoria_marca_superluxo',\n",
       "       'combustivel_DESCONHECIDO', 'combustivel_DIESEL',\n",
       "       'combustivel_ELÉTRICO', 'combustivel_FLEX', 'combustivel_GASOLINA',\n",
       "       'combustivel_HYBRID', 'combustivel_HÍBRIDO'],\n",
       "      dtype='object')"
      ]
     },
     "execution_count": 68,
     "metadata": {},
     "output_type": "execute_result"
    }
   ],
   "source": [
    "X_train.columns"
   ]
  },
  {
   "cell_type": "code",
   "execution_count": null,
   "metadata": {
    "ExecuteTime": {
     "end_time": "2022-08-21T20:19:02.091111Z",
     "start_time": "2022-08-21T20:18:54.406841Z"
    }
   },
   "outputs": [],
   "source": [
    "# join dfs\n",
    "Full_X_train = pd.concat( [X_train, X_val], axis=0 )\n",
    "Full_Y_train = pd.concat( [y_train, y_val], axis=0 )\n",
    "\n",
    "# model\n",
    "model_lgb_full = lgb.LGBMRegressor( n_jobs=-1, random_state=42, subsample_freq=1, max_bin=500,\n",
    "                              n_estimators=1181, max_depth=10, learning_rate=0.01027, \n",
    "                              num_leaves=128, min_child_samples=1, subsample=0.92676, \n",
    "                              colsample_bytree=0.68369 ).fit( Full_X_train, Full_Y_train )\n",
    "\n",
    "# saving trained model\n",
    "pickle.dump( model_lgb_full, open( '/Users/mathe/Repos_ComunidadeDS/mobility_cars_hackday/mobility_cars_lgb.pkl', 'wb' ) )"
   ]
  }
 ],
 "metadata": {
  "deepnote": {},
  "deepnote_execution_queue": [],
  "deepnote_notebook_id": "86967b4a-9342-42f5-be4e-42359f05dce0",
  "kernelspec": {
   "display_name": "Python 3.9.12 ('Health_Insurance_Cross_Sell')",
   "language": "python",
   "name": "python3"
  },
  "language_info": {
   "codemirror_mode": {
    "name": "ipython",
    "version": 3
   },
   "file_extension": ".py",
   "mimetype": "text/x-python",
   "name": "python",
   "nbconvert_exporter": "python",
   "pygments_lexer": "ipython3",
   "version": "3.9.12"
  },
  "vscode": {
   "interpreter": {
    "hash": "df3d6b79a48178a3212a35b7e999043bf15f879d3efd9253b17f405412cf781b"
   }
  }
 },
 "nbformat": 4,
 "nbformat_minor": 2
}
