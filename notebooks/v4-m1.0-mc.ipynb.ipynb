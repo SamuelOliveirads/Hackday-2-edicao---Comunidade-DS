{
 "cells": [
  {
   "cell_type": "markdown",
   "metadata": {
    "cell_id": "6bfc8f60fefb49a2a32461afac126896",
    "deepnote_cell_type": "text-cell-h1",
    "formattedRanges": [],
    "is_collapsed": false,
    "number": 0,
    "style": "decimal",
    "tags": []
   },
   "source": [
    "# 0.0. IMPORTS"
   ]
  },
  {
   "cell_type": "code",
   "execution_count": 1,
   "metadata": {
    "ExecuteTime": {
     "end_time": "2022-08-21T18:49:03.130068Z",
     "start_time": "2022-08-21T18:48:58.290055Z"
    },
    "cell_id": "54727706-ca7e-4fe1-aecb-4428c5265cb9",
    "deepnote_cell_height": 346,
    "deepnote_cell_type": "code",
    "deepnote_to_be_reexecuted": false,
    "execution_millis": 3592,
    "execution_start": 1661027433047,
    "source_hash": "677d6c33",
    "tags": []
   },
   "outputs": [
    {
     "name": "stderr",
     "output_type": "stream",
     "text": [
      "f:\\SamuelOliveiraAlvesd\\Anaconda3\\envs\\Health_Insurance_Cross_Sell\\lib\\site-packages\\xgboost\\compat.py:36: FutureWarning: pandas.Int64Index is deprecated and will be removed from pandas in a future version. Use pandas.Index with the appropriate dtype instead.\n",
      "  from pandas import MultiIndex, Int64Index\n"
     ]
    }
   ],
   "source": [
    "import re\n",
    "import pickle\n",
    "\n",
    "import pandas            as pd\n",
    "import numpy             as np\n",
    "import seaborn           as sns\n",
    "import matplotlib.pyplot as plt\n",
    "import xgboost           as xgb\n",
    "import lightgbm          as lgb\n",
    "\n",
    "from sklearn.preprocessing   import MinMaxScaler\n",
    "from sklearn.ensemble        import RandomForestRegressor\n",
    "from sklearn.metrics         import mean_absolute_error, mean_absolute_percentage_error, mean_squared_error\n",
    "from sklearn.preprocessing   import LabelEncoder\n",
    "from sklearn.linear_model    import LinearRegression, Lasso\n",
    "from category_encoders       import TargetEncoder\n",
    "from sklearn.preprocessing   import OneHotEncoder\n",
    "from category_encoders.count import CountEncoder\n",
    "\n",
    "\n",
    "from sklearn               import model_selection   as ms\n",
    "from sklearn               import ensemble          as en"
   ]
  },
  {
   "cell_type": "markdown",
   "metadata": {
    "cell_id": "9f2cd792ec6f497180716c8a402c1171",
    "deepnote_cell_type": "text-cell-h2",
    "formattedRanges": [],
    "is_collapsed": false,
    "tags": []
   },
   "source": [
    "## 0.1. Aux Functions"
   ]
  },
  {
   "cell_type": "code",
   "execution_count": 2,
   "metadata": {
    "ExecuteTime": {
     "end_time": "2022-08-21T18:49:03.146014Z",
     "start_time": "2022-08-21T18:49:03.132943Z"
    },
    "cell_id": "8af00528bc824108a4a8135bde984010",
    "deepnote_cell_height": 526,
    "deepnote_cell_type": "code",
    "deepnote_to_be_reexecuted": false,
    "execution_millis": 28,
    "execution_start": 1661027436660,
    "source_hash": "5114458d",
    "tags": []
   },
   "outputs": [],
   "source": [
    "def settings():\n",
    "    plt.style.use('bmh')\n",
    "    plt.rcParams['figure.figsize'] = [25,12]\n",
    "    plt.rcParams['font.size'] = 24\n",
    "    plt.rcParams['figure.dpi'] = 100\n",
    "    sns.set()\n",
    "\n",
    "\n",
    "def ml_error( model_name, ytest, yhat ):\n",
    "    mae = mean_absolute_error( ytest, yhat )\n",
    "    mape = mean_absolute_percentage_error( ytest, yhat )\n",
    "    rmse = np.sqrt( mean_squared_error( ytest, yhat ) )\n",
    "    \n",
    "    return pd.DataFrame( {'Model name': model_name,\n",
    "                          'MAE': mae,\n",
    "                          'MAPE': mape,\n",
    "                          'RMSE': rmse }, index=[0] )"
   ]
  },
  {
   "cell_type": "code",
   "execution_count": 3,
   "metadata": {
    "ExecuteTime": {
     "end_time": "2022-08-21T18:49:03.161167Z",
     "start_time": "2022-08-21T18:49:03.151295Z"
    },
    "cell_id": "cc5bb9c793da4e4499979dacb045edde",
    "deepnote_cell_height": 76,
    "deepnote_cell_type": "code",
    "deepnote_to_be_reexecuted": false,
    "execution_millis": 192597,
    "execution_start": 1661027436763,
    "source_hash": "d960d3ca",
    "tags": []
   },
   "outputs": [],
   "source": [
    "settings()"
   ]
  },
  {
   "cell_type": "markdown",
   "metadata": {
    "cell_id": "922d102b0015459ca96ce3795940b967",
    "deepnote_cell_type": "text-cell-h2",
    "formattedRanges": [],
    "is_collapsed": false,
    "tags": []
   },
   "source": [
    "## 0.2. Reading Data"
   ]
  },
  {
   "cell_type": "code",
   "execution_count": 4,
   "metadata": {
    "ExecuteTime": {
     "end_time": "2022-08-21T18:49:03.724368Z",
     "start_time": "2022-08-21T18:49:03.163329Z"
    },
    "cell_id": "e1bd923194c840039f0b076f4ec66b74",
    "deepnote_cell_height": 94,
    "deepnote_cell_type": "code",
    "deepnote_output_heights": [
     20.171875
    ],
    "deepnote_to_be_reexecuted": false,
    "execution_millis": 978,
    "execution_start": 1661027436763,
    "source_hash": "6a49ea95",
    "tags": []
   },
   "outputs": [],
   "source": [
    "df_raw=pd.read_csv('work/treino.csv')\n",
    "df_test=pd.read_csv('work/teste.csv')"
   ]
  },
  {
   "cell_type": "markdown",
   "metadata": {
    "cell_id": "c6c21ee6dd9c40d5bb6af32be115ce6c",
    "deepnote_cell_type": "text-cell-h1",
    "formattedRanges": [],
    "is_collapsed": false,
    "number": 1,
    "style": "decimal",
    "tags": []
   },
   "source": [
    "# 1.0. DESCRIÇÃO DOS DADOS"
   ]
  },
  {
   "cell_type": "code",
   "execution_count": 5,
   "metadata": {
    "ExecuteTime": {
     "end_time": "2022-08-21T18:49:03.748024Z",
     "start_time": "2022-08-21T18:49:03.726365Z"
    },
    "cell_id": "73b5415c314b4ae8948e6b99ebd7d0ff",
    "deepnote_cell_height": 502.0625,
    "deepnote_cell_type": "code",
    "deepnote_output_heights": [
     212.0625
    ],
    "deepnote_to_be_reexecuted": false,
    "execution_millis": 7,
    "execution_start": 1661027437806,
    "source_hash": "94b5aa47",
    "tags": []
   },
   "outputs": [],
   "source": [
    "df1=df_raw.copy()"
   ]
  },
  {
   "cell_type": "markdown",
   "metadata": {
    "cell_id": "ef7358498f3c48abb547dd0fef8d1ec0",
    "deepnote_cell_type": "text-cell-h2",
    "formattedRanges": [],
    "is_collapsed": false,
    "tags": []
   },
   "source": [
    "## 1.1. Dimensão dos Dados"
   ]
  },
  {
   "cell_type": "code",
   "execution_count": 6,
   "metadata": {
    "ExecuteTime": {
     "end_time": "2022-08-21T18:49:03.763189Z",
     "start_time": "2022-08-21T18:49:03.749897Z"
    },
    "cell_id": "6d9e5c7697984803a463157498984843",
    "deepnote_cell_height": 112.1875,
    "deepnote_cell_type": "code",
    "deepnote_output_heights": [
     20.1875
    ],
    "deepnote_to_be_reexecuted": false,
    "execution_millis": 47,
    "execution_start": 1661027437845,
    "source_hash": "effe9690",
    "tags": []
   },
   "outputs": [
    {
     "data": {
      "text/plain": [
       "(39446, 29)"
      ]
     },
     "execution_count": 6,
     "metadata": {},
     "output_type": "execute_result"
    }
   ],
   "source": [
    "df1.shape"
   ]
  },
  {
   "cell_type": "markdown",
   "metadata": {
    "cell_id": "a8bf769327fa4111b6ea22d988656c3d",
    "deepnote_cell_type": "text-cell-h2",
    "formattedRanges": [],
    "is_collapsed": false,
    "tags": []
   },
   "source": [
    "## 1.2. NA Check"
   ]
  },
  {
   "cell_type": "code",
   "execution_count": 7,
   "metadata": {
    "ExecuteTime": {
     "end_time": "2022-08-21T18:49:03.894252Z",
     "start_time": "2022-08-21T18:49:03.765324Z"
    },
    "cell_id": "5926b61539724d5696df1ad7788e1b3f",
    "deepnote_cell_height": 668.625,
    "deepnote_cell_type": "code",
    "deepnote_output_heights": [
     576.625
    ],
    "deepnote_to_be_reexecuted": false,
    "execution_millis": 71,
    "execution_start": 1661027438017,
    "source_hash": "59626415",
    "tags": []
   },
   "outputs": [
    {
     "data": {
      "text/plain": [
       "ID                                                                0\n",
       "num_fotos                                                       237\n",
       "marca                                                             0\n",
       "modelo                                                            0\n",
       "versao                                                            0\n",
       "ano_de_fabricacao                                                 0\n",
       "ano_modelo                                                        0\n",
       "odometro                                                          0\n",
       "cambio                                                            0\n",
       "num_portas                                                        0\n",
       "tipo                                                              0\n",
       "blindado                                                          0\n",
       "cor                                                               0\n",
       "tipo_vendedor                                                     0\n",
       "cidade_vendedor                                                   0\n",
       "estado_vendedor                                                   0\n",
       "tipo_anuncio                                                      0\n",
       "entrega_delivery                                                  0\n",
       "troca                                                             0\n",
       "elegivel_revisao                                                  0\n",
       "attr_veiculo_aceita_troca                                     10216\n",
       "attr_veiculo_único_dono                                       25548\n",
       "attr_veiculo_todas_as_revisões_feitas_pela_concessionária     27207\n",
       "attr_veiculo_ipva_pago                                        13223\n",
       "attr_veiculo_licenciado                                       18196\n",
       "attr_veiculo_garantia_de_fábrica                              33658\n",
       "attr_veiculo_todas_as_revisões_feitas_pela_agenda_do_carro    31543\n",
       "attr_veiculo_alienado                                         39446\n",
       "preco                                                             0\n",
       "dtype: int64"
      ]
     },
     "execution_count": 7,
     "metadata": {},
     "output_type": "execute_result"
    }
   ],
   "source": [
    "df1.isna().sum()"
   ]
  },
  {
   "cell_type": "markdown",
   "metadata": {
    "cell_id": "94541d0ef0a24c7186e14e88009b87db",
    "deepnote_cell_type": "text-cell-h3",
    "formattedRanges": [],
    "is_collapsed": false,
    "tags": []
   },
   "source": [
    "### 1.2.1. Fillout NA"
   ]
  },
  {
   "cell_type": "code",
   "execution_count": 8,
   "metadata": {
    "ExecuteTime": {
     "end_time": "2022-08-21T18:49:03.909783Z",
     "start_time": "2022-08-21T18:49:03.895252Z"
    },
    "cell_id": "360a084018444b988ea75bb381b1de96",
    "deepnote_cell_height": 729,
    "deepnote_cell_type": "code",
    "deepnote_output_heights": [
     192.875
    ],
    "deepnote_to_be_reexecuted": false,
    "execution_millis": 43,
    "execution_start": 1661027438087,
    "source_hash": "ba11e70e",
    "tags": []
   },
   "outputs": [],
   "source": [
    "# # num_fotos - considerar nan como 0 fotos > ordinal encoding\n",
    "df1['num_fotos']=df1['num_fotos'].fillna(0)"
   ]
  },
  {
   "cell_type": "markdown",
   "metadata": {
    "cell_id": "40282b891bb541799167afc82716d18e",
    "deepnote_cell_type": "text-cell-h2",
    "formattedRanges": [],
    "is_collapsed": false,
    "tags": []
   },
   "source": [
    "## 1.3. Tipos dos Dados"
   ]
  },
  {
   "cell_type": "code",
   "execution_count": 9,
   "metadata": {
    "ExecuteTime": {
     "end_time": "2022-08-21T18:49:03.919313Z",
     "start_time": "2022-08-21T18:49:03.912747Z"
    },
    "cell_id": "33490acf3dd7461a894c3d711d9919b4",
    "deepnote_cell_height": 669,
    "deepnote_cell_type": "code",
    "deepnote_output_heights": [
     576.625
    ],
    "deepnote_to_be_reexecuted": false,
    "execution_millis": 28,
    "execution_start": 1661027438130,
    "source_hash": "b02ce5c",
    "tags": []
   },
   "outputs": [
    {
     "data": {
      "text/plain": [
       "ID                                                             object\n",
       "num_fotos                                                     float64\n",
       "marca                                                          object\n",
       "modelo                                                         object\n",
       "versao                                                         object\n",
       "ano_de_fabricacao                                               int64\n",
       "ano_modelo                                                    float64\n",
       "odometro                                                      float64\n",
       "cambio                                                         object\n",
       "num_portas                                                      int64\n",
       "tipo                                                           object\n",
       "blindado                                                       object\n",
       "cor                                                            object\n",
       "tipo_vendedor                                                  object\n",
       "cidade_vendedor                                                object\n",
       "estado_vendedor                                                object\n",
       "tipo_anuncio                                                   object\n",
       "entrega_delivery                                                 bool\n",
       "troca                                                            bool\n",
       "elegivel_revisao                                                 bool\n",
       "attr_veiculo_aceita_troca                                      object\n",
       "attr_veiculo_único_dono                                        object\n",
       "attr_veiculo_todas_as_revisões_feitas_pela_concessionária      object\n",
       "attr_veiculo_ipva_pago                                         object\n",
       "attr_veiculo_licenciado                                        object\n",
       "attr_veiculo_garantia_de_fábrica                               object\n",
       "attr_veiculo_todas_as_revisões_feitas_pela_agenda_do_carro     object\n",
       "attr_veiculo_alienado                                         float64\n",
       "preco                                                         float64\n",
       "dtype: object"
      ]
     },
     "execution_count": 9,
     "metadata": {},
     "output_type": "execute_result"
    }
   ],
   "source": [
    "df1.dtypes"
   ]
  },
  {
   "cell_type": "markdown",
   "metadata": {
    "cell_id": "d0bebb5a9f88461698532306e2b60c25",
    "deepnote_cell_type": "text-cell-h3",
    "formattedRanges": [],
    "is_collapsed": false,
    "tags": []
   },
   "source": [
    "### 1.3.1. Change data types"
   ]
  },
  {
   "cell_type": "code",
   "execution_count": 10,
   "metadata": {
    "ExecuteTime": {
     "end_time": "2022-08-21T18:49:03.934697Z",
     "start_time": "2022-08-21T18:49:03.921136Z"
    },
    "cell_id": "bbbe958ae05b4340bfb7ac0fd517d333",
    "deepnote_cell_height": 130,
    "deepnote_cell_type": "code",
    "deepnote_output_heights": [
     231.1875
    ],
    "deepnote_to_be_reexecuted": false,
    "execution_millis": 44,
    "execution_start": 1661027438221,
    "source_hash": "ef85e3c8",
    "tags": []
   },
   "outputs": [],
   "source": [
    "df1['num_fotos']=df1['num_fotos'].astype(int)\n",
    "df1['ano_modelo']=df1['ano_modelo'].astype(int)"
   ]
  },
  {
   "cell_type": "markdown",
   "metadata": {
    "cell_id": "bf485ea169954f4693a548ce196a882e",
    "deepnote_cell_type": "text-cell-h1",
    "formattedRanges": [],
    "is_collapsed": false,
    "tags": []
   },
   "source": [
    "# 2.0. FEATURE ENGINEERING"
   ]
  },
  {
   "cell_type": "code",
   "execution_count": 11,
   "metadata": {
    "ExecuteTime": {
     "end_time": "2022-08-21T18:49:03.950595Z",
     "start_time": "2022-08-21T18:49:03.936757Z"
    },
    "cell_id": "4a7a4dc56fb546d397530df912b80736",
    "deepnote_cell_height": 76,
    "deepnote_cell_type": "code",
    "deepnote_to_be_reexecuted": false,
    "execution_millis": 28,
    "execution_start": 1661027445891,
    "source_hash": "961b4b36",
    "tags": []
   },
   "outputs": [],
   "source": [
    "df2 = df1.copy()"
   ]
  },
  {
   "cell_type": "code",
   "execution_count": 12,
   "metadata": {
    "ExecuteTime": {
     "end_time": "2022-08-21T18:49:05.704760Z",
     "start_time": "2022-08-21T18:49:03.954044Z"
    },
    "cell_id": "836ef711765b442db9d559e6603b7ce0",
    "deepnote_cell_height": 904,
    "deepnote_cell_type": "code",
    "deepnote_to_be_reexecuted": false,
    "execution_millis": 1313,
    "execution_start": 1661027448601,
    "source_hash": "ff466c0",
    "tags": []
   },
   "outputs": [],
   "source": [
    "# ano de fabricacao one hot\n",
    "bin1 = [1985, 2000]\n",
    "bin2 = [2000, 2005]\n",
    "bin3 = [2005, 2010]\n",
    "bin4 = [2010, 2015]\n",
    "bin5 = [2015, 2020]\n",
    "bin6 = [2020, 2025]\n",
    "bins = [bin1, bin2, bin3, bin4, bin5, bin6]\n",
    "\n",
    "year_bins = []\n",
    "\n",
    "for i in range(df2.shape[0]):\n",
    "    tmp = [0 for i in range(len(bins))]\n",
    "    ye = df2['ano_de_fabricacao'][i]\n",
    "    for j in range(len(bins)):\n",
    "        if ye >= bins[j][0] and ye < bins[j][1]:\n",
    "            tmp[j] = 1\n",
    "    year_bins.append(tmp)\n",
    "year_bins = np.asarray(year_bins)\n",
    "new_df = pd.DataFrame(year_bins, columns=['Year_Bin'+str(i+1) for i in range(len(bins))])\n",
    "df2 = pd.concat( [df2, new_df], axis=1 )\n",
    "# df2 = df2.drop(columns=['ano_de_fabricacao'])\n",
    "\n",
    "# categoria marca\n",
    "popular_baixo_padrao = ['FIAT','SUZUKI','CHEVROLET','SMART','HYUNDAI','LIFAN','SSANGYONG','RENAULT','DODGE','ALFA ROMEO',\n",
    "                        'CITROËN','CHRYSLER','BRM','EFFA']\n",
    "\n",
    "popular_alto_padrao = ['JEEP','SUBARU','FORD','KIA','CHERY','PEUGEOT','VOLKSWAGEN','NISSAN','JAC','HONDA','MITSUBISHI']\n",
    "\n",
    "luxo = ['VOLVO','LEXUS','MERCEDES-BENZ','FERRARI','AUDI','TOYOTA','IVECO','MINI','TROLLER']\n",
    "\n",
    "superluxo = ['PORSCHE','RAM','LAMBORGHINI','JAGUAR','LAND ROVER','MASERATI','BMW']\n",
    "\n",
    "df2['categoria_marca'] = df2['marca'].apply( lambda x: 'popular_baixo_padrao' if x in popular_baixo_padrao else\n",
    "                                                       'popular_alto_padrao' if x in popular_alto_padrao else\n",
    "                                                       'luxo' if x in luxo else\n",
    "                                                       'superluxo' if x in superluxo \n",
    "                                                        else 'nao_identificado' )\n",
    "# cilindrada\n",
    "cilindradas = []\n",
    "\n",
    "for i in range(len(df2)):\n",
    "    try:\n",
    "        cilindrada = re.search( \"[0-9]{1}.[0-9]{1}\", df2['versao'][i] )[0]\n",
    "    except:\n",
    "        cilindrada = \"desconhecida\"\n",
    "        \n",
    "    cilindradas.append( cilindrada )\n",
    "    \n",
    "df_cilindradas = pd.DataFrame (cilindradas, columns = ['cilindrada'])\n",
    "df2 = pd.concat( [df2,df_cilindradas],axis=1)\n",
    "\n",
    "# turbo\n",
    "turbo_list = []\n",
    "\n",
    "for i in range(len(df2)):\n",
    "    try:\n",
    "        turbo = re.search( \"TURBO\", df2['versao'][i] )[0]\n",
    "    except:\n",
    "        turbo = \"NÃO TURBO\"\n",
    "        \n",
    "    turbo_list.append( turbo )\n",
    "    \n",
    "df_turbo = pd.DataFrame (turbo_list, columns = ['turbo'])\n",
    "df2 = pd.concat( [df2,df_turbo],axis=1)\n",
    "\n",
    "# 4x4\n",
    "offroad_list = []\n",
    "\n",
    "for i in range(len(df2)):\n",
    "    try:\n",
    "        offroad = re.search( \"4X4\", df2['versao'][i] )[0]\n",
    "    except:\n",
    "        offroad = \"NÃO 4x4\"\n",
    "        \n",
    "    offroad_list.append( offroad )\n",
    "    \n",
    "df_offroad = pd.DataFrame (offroad_list, columns = ['offroad'])\n",
    "df2 = pd.concat( [df2,df_offroad],axis=1)\n",
    "\n",
    "# combustivel\n",
    "df2['combustivel'] = df2['versao'].apply( lambda x: re.search( \"GASOLINA\", x )[0] if re.search( \"GASOLINA\", x ) is not None else \n",
    "                                                    re.search( \"FLEX\", x )[0] if re.search( \"FLEX\", x ) is not None else\n",
    "                                                    re.search( \"HYBRID\", x )[0] if re.search( \"HYBRID\", x ) is not None else\n",
    "                                                    re.search( \"DIESEL\", x )[0] if re.search( \"DIESEL\", x ) is not None else\n",
    "                                                    re.search( \"ELECTIRC\", x )[0] if re.search( \"ELECTIRC\", x ) is not None else\n",
    "                                                    re.search( \"ELÉTRICO\", x )[0] if re.search( \"ELÉTRICO\", x ) is not None else\n",
    "                                                    \"HYBRID\" if re.search( \"HÍBRIDO\", x ) is not None else\n",
    "                                                    re.search( \"GÁS\", x )[0] if re.search( \"GÁS\", x ) is not None else \"DESCONHECIDO\")"
   ]
  },
  {
   "cell_type": "code",
   "execution_count": 13,
   "metadata": {
    "ExecuteTime": {
     "end_time": "2022-08-21T18:49:06.878460Z",
     "start_time": "2022-08-21T18:49:05.705729Z"
    }
   },
   "outputs": [
    {
     "name": "stderr",
     "output_type": "stream",
     "text": [
      "C:\\Users\\SamuelOliveiraAlvesd\\AppData\\Local\\Temp\\ipykernel_16884\\2644332185.py:15: RuntimeWarning: divide by zero encountered in double_scalars\n",
      "  if df2['odometro'][i] / ( 2022 - df2['ano_de_fabricacao'][i] ) < 10000:\n",
      "C:\\Users\\SamuelOliveiraAlvesd\\AppData\\Local\\Temp\\ipykernel_16884\\2644332185.py:17: RuntimeWarning: divide by zero encountered in double_scalars\n",
      "  if df2['odometro'][i] / ( 2022 - df2['ano_de_fabricacao'][i] ) <= 20000:\n"
     ]
    }
   ],
   "source": [
    "df2['cilindrada'] = df2['cilindrada'].apply( lambda x: \"0\" if x == \"desconhecida\" else x )\n",
    "df2['cilindrada'] = df2['cilindrada'].astype(float)\n",
    "# df2['faixa_cilindrada'] = df2['cilindrada'].apply( lambda x: \"ate_1.0\" if x <= 1.0 else\n",
    "#                                                 \"ate_1.6\" if x <= 1.6 else\n",
    "#                                                 \"ate_2.0\" if x <= 2.0 else\n",
    "#                                                 \"ate_2.5\" if x<=2.5 else\n",
    "#                                                 \"ate_3.0\" if x<=3.0 else\n",
    "#                                                 \"ate_5.0\" if x<=5.0 else\n",
    "#                                                 \"mais_de_5.0\" if x >5.0 else \"desconhecido\" )\n",
    "# df2 = df2.drop(columns=['cilindrada'])\n",
    "\n",
    "# kilometragem\n",
    "km = []\n",
    "for i in range(len(df2)):\n",
    "    if df2['odometro'][i] / ( 2022 - df2['ano_de_fabricacao'][i] ) < 10000:\n",
    "        kilometragem = \"pouco_usado\"\n",
    "    if df2['odometro'][i] / ( 2022 - df2['ano_de_fabricacao'][i] ) <= 20000:\n",
    "        kilometragem = \"na_media\"\n",
    "    else:\n",
    "        kilometragem = \"muito_usado\"\n",
    "        \n",
    "    km.append(kilometragem)\n",
    "    \n",
    "df_km = pd.DataFrame (km, columns = ['km'])\n",
    "df2 = pd.concat( [df2,df_km],axis=1)\n",
    "\n",
    "df2['antigo_atual'] = df2['ano_de_fabricacao'].apply( lambda x: \"antigo\" if x < 2011 else \"novo\" )\n",
    "\n",
    "# valvulas\n",
    "df2['valvulas'] = df2['versao'].apply( lambda x: re.search( \"[0-9]{2}V\", x )[0] if re.search( \"[0-9]{2}V\", x ) is not None else \n",
    "                                                    re.search( \"[0-9]{1}V\", x )[0] if re.search( \"[0-9]{1}V\", x ) is not None\n",
    "                                                    else \"DESCONHECIDO\" )"
   ]
  },
  {
   "cell_type": "markdown",
   "metadata": {
    "cell_id": "a858e03c9f5546dc8dc5667acf1d1924",
    "deepnote_cell_type": "text-cell-h1",
    "formattedRanges": [],
    "is_collapsed": false,
    "tags": []
   },
   "source": [
    "# 3.0. FILTRAGEM DE VARIÁVEIS"
   ]
  },
  {
   "cell_type": "code",
   "execution_count": 14,
   "metadata": {
    "ExecuteTime": {
     "end_time": "2022-08-21T18:49:06.914346Z",
     "start_time": "2022-08-21T18:49:06.881454Z"
    },
    "cell_id": "365e5140047d44ce8cbb7e579eb22789",
    "deepnote_cell_height": 76,
    "deepnote_cell_type": "code",
    "deepnote_to_be_reexecuted": false,
    "execution_millis": 28,
    "execution_start": 1661027449927,
    "source_hash": "c58ba8a7",
    "tags": []
   },
   "outputs": [],
   "source": [
    "df3 = df2.copy()"
   ]
  },
  {
   "cell_type": "markdown",
   "metadata": {
    "cell_id": "86f82b296b04414ba89826ecdb1b4c90",
    "deepnote_cell_type": "text-cell-h2",
    "formattedRanges": [],
    "is_collapsed": false,
    "tags": []
   },
   "source": [
    "## 3.1. Filtragem das Linhas"
   ]
  },
  {
   "cell_type": "code",
   "execution_count": 15,
   "metadata": {
    "ExecuteTime": {
     "end_time": "2022-08-21T18:49:06.937881Z",
     "start_time": "2022-08-21T18:49:06.917607Z"
    },
    "cell_id": "0e2c82914b704b2bb40a9751b8e496da",
    "deepnote_cell_height": 153,
    "deepnote_cell_type": "code",
    "deepnote_to_be_reexecuted": false,
    "execution_millis": 2664,
    "execution_start": 1661027449965,
    "source_hash": "bbe1a525",
    "tags": []
   },
   "outputs": [],
   "source": [
    "# # substituindo ano de fabricacao caso a diferença para o ano modelo seja superior a 1 ano\n",
    "# df3['dif_ano'] = df3.apply(lambda x: x['ano_modelo'] - x['ano_de_fabricacao'], axis=1)\n",
    "# df3[df3['dif_ano'] > 1].count()\n",
    "\n",
    "# df3['ano_de_fabricacao'] = df3.apply(lambda x: (x['ano_modelo']-1) if x['dif_ano'] > 1 else x['ano_de_fabricacao'], axis=1)"
   ]
  },
  {
   "cell_type": "markdown",
   "metadata": {
    "cell_id": "d843af8d54e44a4baa82bd708565361b",
    "deepnote_cell_type": "text-cell-h2",
    "formattedRanges": [],
    "is_collapsed": false,
    "tags": []
   },
   "source": [
    "## 3.2. Seleção das Colunas"
   ]
  },
  {
   "cell_type": "code",
   "execution_count": 16,
   "metadata": {
    "ExecuteTime": {
     "end_time": "2022-08-21T18:49:06.953856Z",
     "start_time": "2022-08-21T18:49:06.943517Z"
    },
    "cell_id": "0ee3e324358647cf85d362d04d568a99",
    "deepnote_cell_height": 76,
    "deepnote_cell_type": "code",
    "deepnote_to_be_reexecuted": false,
    "execution_millis": 24,
    "execution_start": 1661027452641,
    "source_hash": "963b7cf5",
    "tags": []
   },
   "outputs": [],
   "source": [
    "# df3 = df3.drop( columns=['elegivel_revisao','attr_veiculo_alienado'])"
   ]
  },
  {
   "cell_type": "markdown",
   "metadata": {
    "cell_id": "eb71f67aca6742119acd9bf9ef8a2c24",
    "deepnote_cell_type": "text-cell-h1",
    "formattedRanges": [],
    "is_collapsed": false,
    "tags": []
   },
   "source": [
    "# 4.0. EDA"
   ]
  },
  {
   "cell_type": "code",
   "execution_count": 17,
   "metadata": {
    "ExecuteTime": {
     "end_time": "2022-08-21T18:49:06.977734Z",
     "start_time": "2022-08-21T18:49:06.958041Z"
    },
    "cell_id": "7321f42d6d7442d485a4049d27523145",
    "deepnote_cell_height": 76,
    "deepnote_cell_type": "code",
    "deepnote_to_be_reexecuted": false,
    "execution_millis": 16,
    "execution_start": 1661027452675,
    "source_hash": "60288f97",
    "tags": []
   },
   "outputs": [],
   "source": [
    "df4 = df3.copy()"
   ]
  },
  {
   "cell_type": "markdown",
   "metadata": {
    "cell_id": "3a5a367831fb401b83d5237d5882c567",
    "deepnote_cell_type": "text-cell-h1",
    "formattedRanges": [],
    "is_collapsed": false,
    "tags": []
   },
   "source": [
    "# 5.0. DATA PREPARATION"
   ]
  },
  {
   "cell_type": "code",
   "execution_count": 18,
   "metadata": {
    "ExecuteTime": {
     "end_time": "2022-08-21T18:50:23.588323Z",
     "start_time": "2022-08-21T18:50:23.570015Z"
    },
    "cell_id": "4cf034c1a0064ee5aef533e59921e542",
    "deepnote_cell_height": 76,
    "deepnote_cell_type": "code",
    "deepnote_to_be_reexecuted": false,
    "execution_millis": 0,
    "execution_start": 1661027994178,
    "source_hash": "831027fe",
    "tags": []
   },
   "outputs": [],
   "source": [
    "df5 = df4.copy()"
   ]
  },
  {
   "cell_type": "markdown",
   "metadata": {
    "cell_id": "ccf9a8a7cccd4652b584849e468f1fe7",
    "deepnote_cell_type": "text-cell-h2",
    "formattedRanges": [],
    "is_collapsed": false,
    "tags": []
   },
   "source": [
    "## 5.1. Encoding"
   ]
  },
  {
   "cell_type": "code",
   "execution_count": 19,
   "metadata": {
    "ExecuteTime": {
     "end_time": "2022-08-21T18:50:24.788145Z",
     "start_time": "2022-08-21T18:50:23.868907Z"
    },
    "cell_id": "39497d85c5574c238ce7a35e329872ce",
    "deepnote_cell_height": 999,
    "deepnote_cell_type": "code",
    "deepnote_to_be_reexecuted": false,
    "execution_millis": 137,
    "execution_start": 1661027996173,
    "source_hash": "9c3475b7",
    "tags": []
   },
   "outputs": [
    {
     "name": "stderr",
     "output_type": "stream",
     "text": [
      "f:\\SamuelOliveiraAlvesd\\Anaconda3\\envs\\Health_Insurance_Cross_Sell\\lib\\site-packages\\category_encoders\\target_encoder.py:92: FutureWarning: Default parameter min_samples_leaf will change in version 2.6.See https://github.com/scikit-learn-contrib/category_encoders/issues/327\n",
      "  warnings.warn(\"Default parameter min_samples_leaf will change in version 2.6.\"\n",
      "f:\\SamuelOliveiraAlvesd\\Anaconda3\\envs\\Health_Insurance_Cross_Sell\\lib\\site-packages\\category_encoders\\target_encoder.py:97: FutureWarning: Default parameter smoothing will change in version 2.6.See https://github.com/scikit-learn-contrib/category_encoders/issues/327\n",
      "  warnings.warn(\"Default parameter smoothing will change in version 2.6.\"\n"
     ]
    }
   ],
   "source": [
    "# colunas pra dropar: id\n",
    "df5 = df5.drop( columns=['ID','ano_de_fabricacao'] )\n",
    "\n",
    "# binario (0/1): blindado, troca, elegivel_revisao, attr_veiculo_aceita_troca, attr_veiculo_único_dono,\n",
    "# attr_veiculo_todas_as_revisões_feitas_pela_concessionária, attr_veiculo_ipva_pago, attr_veiculo_licenciado\n",
    "# attr_veiculo_ipva_pago, attr_veiculo_licenciado, attr_veiculo_garantia_de_fábrica\n",
    "df5['offroad'] = df5['offroad'].apply( lambda x: 1 if x == '4X4' else 0 )\n",
    "df5['turbo'] = df5['turbo'].apply( lambda x: 1 if x == 'TURBO' else 0 )\n",
    "df5['blindado'] = df5['blindado'].apply( lambda x: 0 if x == \"false\" else 1 if x==\"true\" else 0 )\n",
    "df5['troca'] = df5['troca'].apply( lambda x: 0 if x == \"false\" else 1 if x==\"true\" else 0 )\n",
    "#df5['elegivel_revisao'] = df5['elegivel_revisao'].apply( lambda x: 0 if x == \"false\" else 1 if x==\"true\" else 0 )\n",
    "# df5['entrega_delivery'] = df5['entrega_delivery'].apply( lambda x: 0 if x == \"false\" else 1 if x==\"true\" else 0 )\n",
    "# df5['attr_veiculo_aceita_troca'] = df5['attr_veiculo_aceita_troca'].apply( lambda x: 0 if x == \"Aceita troca\" else 0 )\n",
    "# df5['attr_veiculo_único_dono'] = df5['attr_veiculo_único_dono'].apply( lambda x: 0 if x == \"Único dono\" else 0 )\n",
    "# df5['attr_veiculo_todas_as_revisões_feitas_pela_concessionária'] = df5['attr_veiculo_todas_as_revisões_feitas_pela_concessionária'].apply( lambda x: 0 if x == \"Todas as revisões feitas pela concessionária\" else 0 )\n",
    "# df5['attr_veiculo_todas_as_revisões_feitas_pela_agenda_do_carro'] = df5['attr_veiculo_todas_as_revisões_feitas_pela_agenda_do_carro'].apply( lambda x: 0 if x == \"Todas as revisões feitas pela agenda do carro\" else 0 )\n",
    "# df5['attr_veiculo_ipva_pago'] = df5['attr_veiculo_ipva_pago'].apply( lambda x: 0 if x == \"IPVA pago\" else 0 )\n",
    "# df5['attr_veiculo_licenciado'] = df5['attr_veiculo_licenciado'].apply( lambda x: 0 if x == \"Licenciado\" else 0 )\n",
    "# df5['attr_veiculo_garantia_de_fábrica'] = df5['attr_veiculo_garantia_de_fábrica'].apply( lambda x: 0 if x == \"Garantia de fábrica\" else 0 )\n",
    "df5 = df5.drop( columns = ['attr_veiculo_aceita_troca','attr_veiculo_único_dono','attr_veiculo_todas_as_revisões_feitas_pela_concessionária',\n",
    "                           'attr_veiculo_todas_as_revisões_feitas_pela_agenda_do_carro','attr_veiculo_ipva_pago','attr_veiculo_licenciado',\n",
    "                           'attr_veiculo_garantia_de_fábrica','attr_veiculo_alienado','elegivel_revisao'] )\n",
    "\n",
    "# dummies: marca, cambio, tipo, tipo_vendedor\n",
    "encoder = OneHotEncoder(handle_unknown='ignore')\n",
    "\n",
    "df_cambio = pd.DataFrame(encoder.fit_transform(df5[['cambio']]).toarray())\n",
    "df_cambio.columns = encoder.get_feature_names_out()\n",
    "df5 = df5.join(df_cambio)\n",
    "pickle.dump( encoder, open( 'cambio_encoding', 'wb' ) )\n",
    "\n",
    "df_tipo_vendedor = pd.DataFrame(encoder.fit_transform(df5[['tipo_vendedor']]).toarray())\n",
    "df_tipo_vendedor.columns = encoder.get_feature_names_out()\n",
    "df5 = df5.join(df_tipo_vendedor)\n",
    "# df5['tipo_vendedor'] = ohe.fit_transform(df5[['tipo_vendedor']])\n",
    "pickle.dump( encoder, open( 'tipo_vendedor_encoding', 'wb' ) )\n",
    "\n",
    "df_tipo_anuncio = pd.DataFrame(encoder.fit_transform(df5[['tipo_anuncio']]).toarray())\n",
    "df_tipo_anuncio.columns = encoder.get_feature_names_out()\n",
    "df5 = df5.join(df_tipo_anuncio)\n",
    "# df5['tipo_anuncio'] = ohe.fit_transform(df5[['tipo_anuncio']])\n",
    "pickle.dump( encoder, open( 'tipo_anuncio_encoding', 'wb' ) )\n",
    "\n",
    "df_categoria_marca = pd.DataFrame(encoder.fit_transform(df5[['categoria_marca']]).toarray())\n",
    "df_categoria_marca.columns = encoder.get_feature_names_out()\n",
    "df5 = df5.join(df_categoria_marca)\n",
    "# df5['categoria_marca'] = ohe.fit_transform(df5[['categoria_marca']])\n",
    "pickle.dump( encoder, open( 'categoria_marca_encoding', 'wb' ) )\n",
    "\n",
    "# df_km = pd.DataFrame(encoder.fit_transform(df5[['km']]).toarray())\n",
    "# df_km.columns = encoder.get_feature_names_out()\n",
    "# df5 = df5.join(df_km)\n",
    "# df5['categoria_marca'] = ohe.fit_transform(df5[['categoria_marca']])\n",
    "# pickle.dump( encoder, open( 'categoria_marca_encoding', 'wb' ) )\n",
    "\n",
    "df_combustivel = pd.DataFrame(encoder.fit_transform(df5[['combustivel']]).toarray())\n",
    "df_combustivel.columns = encoder.get_feature_names_out()\n",
    "df5 = df5.join(df_combustivel)\n",
    "# df5['combustivel'] = ohe.fit_transform(df5[['combustivel']])\n",
    "df5 = df5.drop( columns=['cambio','tipo_vendedor','tipo_anuncio','categoria_marca','combustivel',\n",
    "                         'km'] )\n",
    "pickle.dump( encoder, open( 'combustivel_encoding', 'wb' ) )\n",
    "\n",
    "# frequency encoder/label encoder: modelo, versao\n",
    "# fe_modelo = df5.groupby('modelo').size() / len(df5)\n",
    "# df5.loc[:,'modelo'] = df5['modelo'].map(fe_modelo)\n",
    "\n",
    "# fe_versao = df5.groupby('versao').size() / len(df5)\n",
    "# df5.loc[:,'versao'] = df5['versao'].map(fe_versao)\n",
    "te = TargetEncoder()\n",
    "# le = LabelEncoder()\n",
    "# df5['modelo'] = le.fit_transform(df5['modelo'])\n",
    "# # df5['modelo'] = te.fit_transform(df5['modelo'], df5['preco'])\n",
    "# pickle.dump( le, open( 'modelo_encoding', 'wb' ) )\n",
    "\n",
    "df5['versao'] = te.fit_transform(df5['versao'], df5['preco'])\n",
    "pickle.dump( te, open( 'versao_encoding', 'wb' ) )\n",
    "# df5['versao'] = le.fit_transform(df5['versao'])\n",
    "\n",
    "# # fe_marca = df5.groupby('marca').size() / len(df5)\n",
    "# # df5.loc[:,'marca'] = df5['marca'].map(fe_marca)\n",
    "\n",
    "# # fe_cor = df5.groupby('cor').size() / len(df5)\n",
    "# # df5.loc[:,'cor'] = df5['cor'].map(fe_cor)\n",
    "\n",
    "# # fe_tipo = df5.groupby('tipo').size() / len(df5)\n",
    "# # df5.loc[:,'tipo'] = df5['tipo'].map(fe_tipo)\n",
    "\n",
    "# label encoder\n",
    "# le = LabelEncoder()\n",
    "df5['marca'] = te.fit_transform(df5['marca'],df5['preco'])\n",
    "pickle.dump( te, open( 'marca_encoding', 'wb' ) )\n",
    "df5['cor'] = te.fit_transform(df5['cor'],df5['preco'])\n",
    "pickle.dump( te, open( 'cor_encoding', 'wb' ) )\n",
    "df5['tipo'] = te.fit_transform(df5['tipo'],df5['preco'])\n",
    "pickle.dump( te, open( 'tipo_encoding', 'wb' ) )\n",
    "df5['cidade_vendedor'] = te.fit_transform(df5['cidade_vendedor'],df5['preco'])\n",
    "pickle.dump( te, open( 'cidade_vendedor_encoding', 'wb' ) )\n",
    "df5['estado_vendedor'] = te.fit_transform(df5['estado_vendedor'],df5['preco'])\n",
    "pickle.dump( te, open( 'estado_vendedor_encoding', 'wb' ) )\n",
    "\n",
    "# cols = ['marca','cor','tipo','cidade_vendedor','estado_vendedor','versao','modelo']\n",
    "# ce = CountEncoder(cols=cols, return_df=True)\n",
    "# df5[cols] = te.fit_transform(df5[cols], df5['preco'])\n",
    "# pickle.dump( ce, open( 'ce_encoder', 'wb' ) )\n",
    "\n",
    "df5['modelo'] = te.fit_transform(df5['modelo'], df5['preco'])\n",
    "pickle.dump( te, open( 'modelo_encoding_te', 'wb' ) )\n",
    "\n",
    "# df5['cambio'] = te.fit_transform(df5['cambio'],df5['preco'])\n",
    "# df5['tipo_anuncio'] = te.fit_transform(df5['tipo_anuncio'],df5['preco'])\n",
    "# df5['tipo_vendedor'] = te.fit_transform(df5['tipo_vendedor'],df5['preco'])\n",
    "# df5['categoria_marca'] = te.fit_transform(df5['categoria_marca'],df5['preco'])\n",
    "# df5['combustivel'] = te.fit_transform(df5['combustivel'],df5['preco'])\n",
    "# df5['km'] = te.fit_transform(df5['km'],df5['preco'])\n",
    "df5['antigo_atual'] = te.fit_transform(df5['antigo_atual'],df5['preco'])\n",
    "pickle.dump( te, open( 'antigo_atual_encoding', 'wb' ) )\n",
    "\n",
    "df5['valvulas'] = te.fit_transform(df5['valvulas'],df5['preco'])\n",
    "pickle.dump( te, open( 'valvulas_encoding', 'wb' ) )"
   ]
  },
  {
   "cell_type": "markdown",
   "metadata": {
    "cell_id": "f4bce0617d74485da3443b901d02195d",
    "deepnote_cell_type": "text-cell-h2",
    "formattedRanges": [],
    "is_collapsed": false,
    "tags": []
   },
   "source": [
    "## 5.2. Normalização"
   ]
  },
  {
   "cell_type": "markdown",
   "metadata": {
    "cell_id": "bc7f9c4081b9453095d225e6a3b43074",
    "deepnote_cell_type": "text-cell-h2",
    "formattedRanges": [],
    "is_collapsed": false,
    "tags": []
   },
   "source": [
    "## 5.3. Rescaling"
   ]
  },
  {
   "cell_type": "code",
   "execution_count": 20,
   "metadata": {
    "ExecuteTime": {
     "end_time": "2022-08-21T18:50:24.803580Z",
     "start_time": "2022-08-21T18:50:24.790150Z"
    },
    "cell_id": "3af4b79e5fb54cae93643e084e35f1c4",
    "deepnote_cell_height": 486,
    "deepnote_cell_type": "code",
    "deepnote_output_heights": [
     268
    ],
    "deepnote_to_be_reexecuted": false,
    "execution_millis": 12620,
    "execution_start": 1661027465359,
    "source_hash": "ec84ad44",
    "tags": []
   },
   "outputs": [],
   "source": [
    "# mms = MinMaxScaler()\n",
    "\n",
    "# df5['num_fotos'] = mms.fit_transform( df5[['num_fotos']].values )\n",
    "# # df5['ano_modelo'] = mms.fit_transform( df5[['ano_modelo']].values )\n",
    "# df5['odometro'] = mms.fit_transform( df5[['odometro']].values )\n",
    "# df5['num_portas'] = mms.fit_transform( df5[['num_portas']].values )"
   ]
  },
  {
   "cell_type": "markdown",
   "metadata": {
    "cell_id": "1e84b83e0ad6413193e2093e642b8772",
    "deepnote_cell_type": "text-cell-h2",
    "formattedRanges": [],
    "is_collapsed": false,
    "tags": []
   },
   "source": [
    "## 5.4. Transformação"
   ]
  },
  {
   "cell_type": "code",
   "execution_count": 21,
   "metadata": {
    "ExecuteTime": {
     "end_time": "2022-08-21T18:50:24.852407Z",
     "start_time": "2022-08-21T18:50:24.831047Z"
    },
    "cell_id": "336b9a267b604abb8bbc2c2bf2431aed",
    "deepnote_cell_height": 76,
    "deepnote_cell_type": "code",
    "deepnote_to_be_reexecuted": false,
    "execution_millis": 9,
    "execution_start": 1661028004526,
    "source_hash": "f5b0bdfa",
    "tags": []
   },
   "outputs": [],
   "source": [
    "df5['preco'] = np.log1p(df5['preco'])"
   ]
  },
  {
   "cell_type": "markdown",
   "metadata": {
    "cell_id": "d6626a41fb6e43a3b0d888125235562e",
    "deepnote_cell_type": "text-cell-h1",
    "formattedRanges": [],
    "is_collapsed": false,
    "tags": []
   },
   "source": [
    "# 6.0. FEATURE SELECTION"
   ]
  },
  {
   "cell_type": "code",
   "execution_count": 22,
   "metadata": {
    "ExecuteTime": {
     "end_time": "2022-08-21T18:50:25.233265Z",
     "start_time": "2022-08-21T18:50:25.198220Z"
    },
    "cell_id": "043edb140d1d494db279cb29075983dc",
    "deepnote_cell_height": 76,
    "deepnote_cell_type": "code",
    "deepnote_to_be_reexecuted": false,
    "execution_millis": 10,
    "execution_start": 1661028007142,
    "source_hash": "6d0f2aa",
    "tags": []
   },
   "outputs": [],
   "source": [
    "df6 = df5.copy()"
   ]
  },
  {
   "cell_type": "markdown",
   "metadata": {
    "cell_id": "ce46cd3c04e64001957575860b5a079a",
    "deepnote_cell_type": "text-cell-h2",
    "formattedRanges": [],
    "is_collapsed": false,
    "tags": []
   },
   "source": [
    "## 6.1. Manual Selection"
   ]
  },
  {
   "cell_type": "markdown",
   "metadata": {
    "cell_id": "ac3c5b3b320246cbbd7a3b80b5eb4361",
    "deepnote_cell_type": "text-cell-h2",
    "formattedRanges": [],
    "is_collapsed": false,
    "tags": []
   },
   "source": [
    "## 6.2. Feature Importancia"
   ]
  },
  {
   "cell_type": "code",
   "execution_count": 23,
   "metadata": {
    "ExecuteTime": {
     "end_time": "2022-08-21T18:50:25.577996Z",
     "start_time": "2022-08-21T18:50:25.565532Z"
    },
    "cell_id": "8ff4039a643a42ba8ff8436d38d74685",
    "deepnote_cell_height": 259.34375,
    "deepnote_cell_type": "code",
    "deepnote_output_heights": [
     59.34375
    ],
    "deepnote_to_be_reexecuted": false,
    "execution_millis": 60755,
    "execution_start": 1661027477825,
    "source_hash": "47d5e3e6",
    "tags": []
   },
   "outputs": [],
   "source": [
    "# # model\n",
    "# forest = en.ExtraTreesRegressor( n_estimators=250, random_state=0, n_jobs=-1 )\n",
    "\n",
    "# # training\n",
    "# x_train_fselection = df6.drop( ['preco'], axis=1 )\n",
    "# y_train_fselection = df6['preco'].values\n",
    "# forest.fit( x_train_fselection, y_train_fselection )"
   ]
  },
  {
   "cell_type": "code",
   "execution_count": 24,
   "metadata": {
    "ExecuteTime": {
     "end_time": "2022-08-21T18:50:25.914232Z",
     "start_time": "2022-08-21T18:50:25.901012Z"
    },
    "cell_id": "7bb0536c4c5e47faa2e0c36e413b275e",
    "deepnote_cell_height": 1360,
    "deepnote_cell_type": "code",
    "deepnote_output_heights": [
     null,
     268
    ],
    "deepnote_to_be_reexecuted": false,
    "execution_millis": 1531,
    "execution_start": 1661027538579,
    "source_hash": "7ffa040c",
    "tags": []
   },
   "outputs": [],
   "source": [
    "# importances = forest.feature_importances_\n",
    "# std = np.std( [tree.feature_importances_ for tree in forest.estimators_], axis=0 )\n",
    "# indices = np.argsort( importances )[::-1]\n",
    "\n",
    "# # print the feature ranking\n",
    "# df = pd.DataFrame()\n",
    "\n",
    "# print( 'Feature Ranking:\\n' )\n",
    "# for i, j in zip( x_train_fselection,forest.feature_importances_ ):\n",
    "#     aux = pd.DataFrame( {'feature': i, 'importance': j}, index=[0] )\n",
    "#     df = pd.concat( [df, aux], axis=0 )\n",
    "    \n",
    "# print( df.sort_values( 'importance', ascending=False ) ) \n",
    "\n",
    "# # plot the impurity-based feature importances of the forest\n",
    "# # plt.figure()\n",
    "# # plt.title( 'Feature importances' )\n",
    "# # plt.bar( range( x_train_fselection.shape[1] ), importances[indices], color='r', yerr=std[indices], align='center' )\n",
    "# # plt.xticks( range(x_train_fselection.shape[1]), indices )\n",
    "# # plt.xlim( [-1, x_train_fselection.shape[1]] )\n",
    "# # # plt.show()"
   ]
  },
  {
   "cell_type": "code",
   "execution_count": 25,
   "metadata": {
    "ExecuteTime": {
     "end_time": "2022-08-21T18:50:25.947664Z",
     "start_time": "2022-08-21T18:50:25.937200Z"
    }
   },
   "outputs": [],
   "source": [
    "# cols = ['blindado','troca','combustivel_DESCONHECIDO']"
   ]
  },
  {
   "cell_type": "markdown",
   "metadata": {
    "cell_id": "fefb181cca9442c4a15d0a141c1bfa51",
    "deepnote_cell_type": "text-cell-h2",
    "formattedRanges": [],
    "is_collapsed": false,
    "tags": []
   },
   "source": [
    "## 6.3. Boruta Selection"
   ]
  },
  {
   "cell_type": "markdown",
   "metadata": {
    "cell_id": "1de97010650b4343b56b6f0a472ea47b",
    "deepnote_cell_type": "text-cell-h1",
    "formattedRanges": [],
    "is_collapsed": false,
    "tags": []
   },
   "source": [
    "# 7.0. MACHINE LEARNING MODELLING"
   ]
  },
  {
   "cell_type": "code",
   "execution_count": 26,
   "metadata": {
    "ExecuteTime": {
     "end_time": "2022-08-21T18:51:14.248264Z",
     "start_time": "2022-08-21T18:51:14.196457Z"
    },
    "cell_id": "69fc853c9ff94e6faf54b662d8f5f5b9",
    "deepnote_cell_height": 166,
    "deepnote_cell_type": "code",
    "deepnote_to_be_reexecuted": false,
    "execution_millis": 26,
    "execution_start": 1661028014268,
    "source_hash": "c5446c83",
    "tags": []
   },
   "outputs": [],
   "source": [
    "df7 = df6.copy()\n",
    "\n",
    "X = df7.drop(columns=[\"preco\"])\n",
    "# X = df7.drop(columns=cols)\n",
    "Y = df7['preco'].copy()\n",
    "# Y = df6['preco'].copy()\n",
    "\n",
    "X_train, X_val, y_train, y_val = ms.train_test_split( X, Y, test_size=0.2, random_state=42 )"
   ]
  },
  {
   "cell_type": "markdown",
   "metadata": {
    "cell_id": "7ae14e93f8de48edb17ca2e8a9085a5b",
    "deepnote_cell_type": "text-cell-h2",
    "formattedRanges": [],
    "is_collapsed": false,
    "tags": []
   },
   "source": [
    "## 7.1. Linear Regression"
   ]
  },
  {
   "cell_type": "code",
   "execution_count": 27,
   "metadata": {
    "ExecuteTime": {
     "end_time": "2022-08-21T18:51:15.440443Z",
     "start_time": "2022-08-21T18:51:15.210010Z"
    },
    "cell_id": "7d451b985ebc4ce5ab99989f887fbb5a",
    "deepnote_cell_height": 370,
    "deepnote_cell_type": "code",
    "deepnote_to_be_reexecuted": false,
    "execution_millis": 136,
    "execution_start": 1661028017986,
    "source_hash": "d49d0e0f",
    "tags": []
   },
   "outputs": [
    {
     "data": {
      "text/html": [
       "<div>\n",
       "<style scoped>\n",
       "    .dataframe tbody tr th:only-of-type {\n",
       "        vertical-align: middle;\n",
       "    }\n",
       "\n",
       "    .dataframe tbody tr th {\n",
       "        vertical-align: top;\n",
       "    }\n",
       "\n",
       "    .dataframe thead th {\n",
       "        text-align: right;\n",
       "    }\n",
       "</style>\n",
       "<table border=\"1\" class=\"dataframe\">\n",
       "  <thead>\n",
       "    <tr style=\"text-align: right;\">\n",
       "      <th></th>\n",
       "      <th>Model name</th>\n",
       "      <th>MAE</th>\n",
       "      <th>MAPE</th>\n",
       "      <th>RMSE</th>\n",
       "    </tr>\n",
       "  </thead>\n",
       "  <tbody>\n",
       "    <tr>\n",
       "      <th>0</th>\n",
       "      <td>Linear Regression</td>\n",
       "      <td>29534.946712</td>\n",
       "      <td>0.228926</td>\n",
       "      <td>54773.260422</td>\n",
       "    </tr>\n",
       "  </tbody>\n",
       "</table>\n",
       "</div>"
      ],
      "text/plain": [
       "          Model name           MAE      MAPE          RMSE\n",
       "0  Linear Regression  29534.946712  0.228926  54773.260422"
      ]
     },
     "execution_count": 27,
     "metadata": {},
     "output_type": "execute_result"
    }
   ],
   "source": [
    "# model training\n",
    "lr = LinearRegression().fit( X_train, y_train )\n",
    "\n",
    "# prediction\n",
    "yhat_lr = lr.predict( X_val )\n",
    "\n",
    "# performance (error)\n",
    "lr_results = ml_error( 'Linear Regression', np.expm1( y_val ) , np.expm1( yhat_lr ) )\n",
    "lr_results"
   ]
  },
  {
   "cell_type": "markdown",
   "metadata": {
    "cell_id": "f484a15f7a5f44329846360eedf34653",
    "deepnote_cell_type": "text-cell-h3",
    "formattedRanges": [],
    "is_collapsed": false,
    "tags": []
   },
   "source": [
    "### 7.1.1. Cross Validation"
   ]
  },
  {
   "cell_type": "code",
   "execution_count": null,
   "metadata": {
    "cell_id": "774f6873e97741228d6fce6d5f47cab7",
    "deepnote_cell_height": 76,
    "deepnote_cell_type": "code",
    "deepnote_to_be_reexecuted": false,
    "execution_millis": 1,
    "execution_start": 1661027540429,
    "source_hash": "b623e53d",
    "tags": []
   },
   "outputs": [],
   "source": []
  },
  {
   "cell_type": "markdown",
   "metadata": {
    "cell_id": "a89db504a8824d108f7ae36b1484d14b",
    "deepnote_cell_type": "text-cell-h2",
    "formattedRanges": [],
    "is_collapsed": false,
    "tags": []
   },
   "source": [
    "## 7.3. Random Forest Regressor"
   ]
  },
  {
   "cell_type": "code",
   "execution_count": 28,
   "metadata": {
    "ExecuteTime": {
     "end_time": "2022-08-21T18:51:26.269416Z",
     "start_time": "2022-08-21T18:51:17.882641Z"
    },
    "cell_id": "c25fc36d278d43c1931de47a88f14631",
    "deepnote_cell_height": 370,
    "deepnote_cell_type": "code",
    "deepnote_to_be_reexecuted": false,
    "execution_millis": 28981,
    "execution_start": 1661028023933,
    "source_hash": "e86c8681",
    "tags": []
   },
   "outputs": [
    {
     "ename": "KeyboardInterrupt",
     "evalue": "",
     "output_type": "error",
     "traceback": [
      "\u001b[1;31m---------------------------------------------------------------------------\u001b[0m",
      "\u001b[1;31mKeyboardInterrupt\u001b[0m                         Traceback (most recent call last)",
      "\u001b[1;32mf:\\SamuelOliveiraAlvesd\\Desktop\\Data_Science\\Hackday\\hackday2-dia2-3versao.ipynb Célula: 56\u001b[0m in \u001b[0;36m<cell line: 2>\u001b[1;34m()\u001b[0m\n\u001b[0;32m      <a href='vscode-notebook-cell:/f%3A/SamuelOliveiraAlvesd/Desktop/Data_Science/Hackday/hackday2-dia2-3versao.ipynb#Y106sZmlsZQ%3D%3D?line=0'>1</a>\u001b[0m \u001b[39m# model\u001b[39;00m\n\u001b[1;32m----> <a href='vscode-notebook-cell:/f%3A/SamuelOliveiraAlvesd/Desktop/Data_Science/Hackday/hackday2-dia2-3versao.ipynb#Y106sZmlsZQ%3D%3D?line=1'>2</a>\u001b[0m rf \u001b[39m=\u001b[39m RandomForestRegressor( n_estimators\u001b[39m=\u001b[39;49m\u001b[39m150\u001b[39;49m, n_jobs\u001b[39m=\u001b[39;49m\u001b[39m-\u001b[39;49m\u001b[39m1\u001b[39;49m, random_state\u001b[39m=\u001b[39;49m\u001b[39m42\u001b[39;49m )\u001b[39m.\u001b[39;49mfit( X_train, y_train )\n\u001b[0;32m      <a href='vscode-notebook-cell:/f%3A/SamuelOliveiraAlvesd/Desktop/Data_Science/Hackday/hackday2-dia2-3versao.ipynb#Y106sZmlsZQ%3D%3D?line=3'>4</a>\u001b[0m \u001b[39m# prediction\u001b[39;00m\n\u001b[0;32m      <a href='vscode-notebook-cell:/f%3A/SamuelOliveiraAlvesd/Desktop/Data_Science/Hackday/hackday2-dia2-3versao.ipynb#Y106sZmlsZQ%3D%3D?line=4'>5</a>\u001b[0m yhat_rf \u001b[39m=\u001b[39m rf\u001b[39m.\u001b[39mpredict( X_val )\n",
      "File \u001b[1;32mf:\\SamuelOliveiraAlvesd\\Anaconda3\\envs\\Health_Insurance_Cross_Sell\\lib\\site-packages\\sklearn\\ensemble\\_forest.py:476\u001b[0m, in \u001b[0;36mBaseForest.fit\u001b[1;34m(self, X, y, sample_weight)\u001b[0m\n\u001b[0;32m    465\u001b[0m trees \u001b[39m=\u001b[39m [\n\u001b[0;32m    466\u001b[0m     \u001b[39mself\u001b[39m\u001b[39m.\u001b[39m_make_estimator(append\u001b[39m=\u001b[39m\u001b[39mFalse\u001b[39;00m, random_state\u001b[39m=\u001b[39mrandom_state)\n\u001b[0;32m    467\u001b[0m     \u001b[39mfor\u001b[39;00m i \u001b[39min\u001b[39;00m \u001b[39mrange\u001b[39m(n_more_estimators)\n\u001b[0;32m    468\u001b[0m ]\n\u001b[0;32m    470\u001b[0m \u001b[39m# Parallel loop: we prefer the threading backend as the Cython code\u001b[39;00m\n\u001b[0;32m    471\u001b[0m \u001b[39m# for fitting the trees is internally releasing the Python GIL\u001b[39;00m\n\u001b[0;32m    472\u001b[0m \u001b[39m# making threading more efficient than multiprocessing in\u001b[39;00m\n\u001b[0;32m    473\u001b[0m \u001b[39m# that case. However, for joblib 0.12+ we respect any\u001b[39;00m\n\u001b[0;32m    474\u001b[0m \u001b[39m# parallel_backend contexts set at a higher level,\u001b[39;00m\n\u001b[0;32m    475\u001b[0m \u001b[39m# since correctness does not rely on using threads.\u001b[39;00m\n\u001b[1;32m--> 476\u001b[0m trees \u001b[39m=\u001b[39m Parallel(\n\u001b[0;32m    477\u001b[0m     n_jobs\u001b[39m=\u001b[39;49m\u001b[39mself\u001b[39;49m\u001b[39m.\u001b[39;49mn_jobs,\n\u001b[0;32m    478\u001b[0m     verbose\u001b[39m=\u001b[39;49m\u001b[39mself\u001b[39;49m\u001b[39m.\u001b[39;49mverbose,\n\u001b[0;32m    479\u001b[0m     prefer\u001b[39m=\u001b[39;49m\u001b[39m\"\u001b[39;49m\u001b[39mthreads\u001b[39;49m\u001b[39m\"\u001b[39;49m,\n\u001b[0;32m    480\u001b[0m )(\n\u001b[0;32m    481\u001b[0m     delayed(_parallel_build_trees)(\n\u001b[0;32m    482\u001b[0m         t,\n\u001b[0;32m    483\u001b[0m         \u001b[39mself\u001b[39;49m\u001b[39m.\u001b[39;49mbootstrap,\n\u001b[0;32m    484\u001b[0m         X,\n\u001b[0;32m    485\u001b[0m         y,\n\u001b[0;32m    486\u001b[0m         sample_weight,\n\u001b[0;32m    487\u001b[0m         i,\n\u001b[0;32m    488\u001b[0m         \u001b[39mlen\u001b[39;49m(trees),\n\u001b[0;32m    489\u001b[0m         verbose\u001b[39m=\u001b[39;49m\u001b[39mself\u001b[39;49m\u001b[39m.\u001b[39;49mverbose,\n\u001b[0;32m    490\u001b[0m         class_weight\u001b[39m=\u001b[39;49m\u001b[39mself\u001b[39;49m\u001b[39m.\u001b[39;49mclass_weight,\n\u001b[0;32m    491\u001b[0m         n_samples_bootstrap\u001b[39m=\u001b[39;49mn_samples_bootstrap,\n\u001b[0;32m    492\u001b[0m     )\n\u001b[0;32m    493\u001b[0m     \u001b[39mfor\u001b[39;49;00m i, t \u001b[39min\u001b[39;49;00m \u001b[39menumerate\u001b[39;49m(trees)\n\u001b[0;32m    494\u001b[0m )\n\u001b[0;32m    496\u001b[0m \u001b[39m# Collect newly grown trees\u001b[39;00m\n\u001b[0;32m    497\u001b[0m \u001b[39mself\u001b[39m\u001b[39m.\u001b[39mestimators_\u001b[39m.\u001b[39mextend(trees)\n",
      "File \u001b[1;32mf:\\SamuelOliveiraAlvesd\\Anaconda3\\envs\\Health_Insurance_Cross_Sell\\lib\\site-packages\\joblib\\parallel.py:1056\u001b[0m, in \u001b[0;36mParallel.__call__\u001b[1;34m(self, iterable)\u001b[0m\n\u001b[0;32m   1053\u001b[0m     \u001b[39mself\u001b[39m\u001b[39m.\u001b[39m_iterating \u001b[39m=\u001b[39m \u001b[39mFalse\u001b[39;00m\n\u001b[0;32m   1055\u001b[0m \u001b[39mwith\u001b[39;00m \u001b[39mself\u001b[39m\u001b[39m.\u001b[39m_backend\u001b[39m.\u001b[39mretrieval_context():\n\u001b[1;32m-> 1056\u001b[0m     \u001b[39mself\u001b[39;49m\u001b[39m.\u001b[39;49mretrieve()\n\u001b[0;32m   1057\u001b[0m \u001b[39m# Make sure that we get a last message telling us we are done\u001b[39;00m\n\u001b[0;32m   1058\u001b[0m elapsed_time \u001b[39m=\u001b[39m time\u001b[39m.\u001b[39mtime() \u001b[39m-\u001b[39m \u001b[39mself\u001b[39m\u001b[39m.\u001b[39m_start_time\n",
      "File \u001b[1;32mf:\\SamuelOliveiraAlvesd\\Anaconda3\\envs\\Health_Insurance_Cross_Sell\\lib\\site-packages\\joblib\\parallel.py:935\u001b[0m, in \u001b[0;36mParallel.retrieve\u001b[1;34m(self)\u001b[0m\n\u001b[0;32m    933\u001b[0m \u001b[39mtry\u001b[39;00m:\n\u001b[0;32m    934\u001b[0m     \u001b[39mif\u001b[39;00m \u001b[39mgetattr\u001b[39m(\u001b[39mself\u001b[39m\u001b[39m.\u001b[39m_backend, \u001b[39m'\u001b[39m\u001b[39msupports_timeout\u001b[39m\u001b[39m'\u001b[39m, \u001b[39mFalse\u001b[39;00m):\n\u001b[1;32m--> 935\u001b[0m         \u001b[39mself\u001b[39m\u001b[39m.\u001b[39m_output\u001b[39m.\u001b[39mextend(job\u001b[39m.\u001b[39;49mget(timeout\u001b[39m=\u001b[39;49m\u001b[39mself\u001b[39;49m\u001b[39m.\u001b[39;49mtimeout))\n\u001b[0;32m    936\u001b[0m     \u001b[39melse\u001b[39;00m:\n\u001b[0;32m    937\u001b[0m         \u001b[39mself\u001b[39m\u001b[39m.\u001b[39m_output\u001b[39m.\u001b[39mextend(job\u001b[39m.\u001b[39mget())\n",
      "File \u001b[1;32mf:\\SamuelOliveiraAlvesd\\Anaconda3\\envs\\Health_Insurance_Cross_Sell\\lib\\multiprocessing\\pool.py:765\u001b[0m, in \u001b[0;36mApplyResult.get\u001b[1;34m(self, timeout)\u001b[0m\n\u001b[0;32m    764\u001b[0m \u001b[39mdef\u001b[39;00m \u001b[39mget\u001b[39m(\u001b[39mself\u001b[39m, timeout\u001b[39m=\u001b[39m\u001b[39mNone\u001b[39;00m):\n\u001b[1;32m--> 765\u001b[0m     \u001b[39mself\u001b[39;49m\u001b[39m.\u001b[39;49mwait(timeout)\n\u001b[0;32m    766\u001b[0m     \u001b[39mif\u001b[39;00m \u001b[39mnot\u001b[39;00m \u001b[39mself\u001b[39m\u001b[39m.\u001b[39mready():\n\u001b[0;32m    767\u001b[0m         \u001b[39mraise\u001b[39;00m \u001b[39mTimeoutError\u001b[39;00m\n",
      "File \u001b[1;32mf:\\SamuelOliveiraAlvesd\\Anaconda3\\envs\\Health_Insurance_Cross_Sell\\lib\\multiprocessing\\pool.py:762\u001b[0m, in \u001b[0;36mApplyResult.wait\u001b[1;34m(self, timeout)\u001b[0m\n\u001b[0;32m    761\u001b[0m \u001b[39mdef\u001b[39;00m \u001b[39mwait\u001b[39m(\u001b[39mself\u001b[39m, timeout\u001b[39m=\u001b[39m\u001b[39mNone\u001b[39;00m):\n\u001b[1;32m--> 762\u001b[0m     \u001b[39mself\u001b[39;49m\u001b[39m.\u001b[39;49m_event\u001b[39m.\u001b[39;49mwait(timeout)\n",
      "File \u001b[1;32mf:\\SamuelOliveiraAlvesd\\Anaconda3\\envs\\Health_Insurance_Cross_Sell\\lib\\threading.py:574\u001b[0m, in \u001b[0;36mEvent.wait\u001b[1;34m(self, timeout)\u001b[0m\n\u001b[0;32m    572\u001b[0m signaled \u001b[39m=\u001b[39m \u001b[39mself\u001b[39m\u001b[39m.\u001b[39m_flag\n\u001b[0;32m    573\u001b[0m \u001b[39mif\u001b[39;00m \u001b[39mnot\u001b[39;00m signaled:\n\u001b[1;32m--> 574\u001b[0m     signaled \u001b[39m=\u001b[39m \u001b[39mself\u001b[39;49m\u001b[39m.\u001b[39;49m_cond\u001b[39m.\u001b[39;49mwait(timeout)\n\u001b[0;32m    575\u001b[0m \u001b[39mreturn\u001b[39;00m signaled\n",
      "File \u001b[1;32mf:\\SamuelOliveiraAlvesd\\Anaconda3\\envs\\Health_Insurance_Cross_Sell\\lib\\threading.py:312\u001b[0m, in \u001b[0;36mCondition.wait\u001b[1;34m(self, timeout)\u001b[0m\n\u001b[0;32m    310\u001b[0m \u001b[39mtry\u001b[39;00m:    \u001b[39m# restore state no matter what (e.g., KeyboardInterrupt)\u001b[39;00m\n\u001b[0;32m    311\u001b[0m     \u001b[39mif\u001b[39;00m timeout \u001b[39mis\u001b[39;00m \u001b[39mNone\u001b[39;00m:\n\u001b[1;32m--> 312\u001b[0m         waiter\u001b[39m.\u001b[39;49macquire()\n\u001b[0;32m    313\u001b[0m         gotit \u001b[39m=\u001b[39m \u001b[39mTrue\u001b[39;00m\n\u001b[0;32m    314\u001b[0m     \u001b[39melse\u001b[39;00m:\n",
      "\u001b[1;31mKeyboardInterrupt\u001b[0m: "
     ]
    }
   ],
   "source": [
    "# model\n",
    "rf = RandomForestRegressor( n_estimators=150, n_jobs=-1, random_state=42 ).fit( X_train, y_train )\n",
    "\n",
    "# prediction\n",
    "yhat_rf = rf.predict( X_val )\n",
    "\n",
    "# performance\n",
    "rf_results = ml_error( 'Random Forest Regressor', np.expm1(y_val), np.expm1(yhat_rf) )\n",
    "rf_results"
   ]
  },
  {
   "cell_type": "markdown",
   "metadata": {
    "cell_id": "a60cf8130f3e44bfa16b13b31e307616",
    "deepnote_cell_type": "text-cell-h3",
    "formattedRanges": [],
    "is_collapsed": false,
    "tags": []
   },
   "source": [
    "### 7.3.1. Cross Validation"
   ]
  },
  {
   "cell_type": "code",
   "execution_count": null,
   "metadata": {
    "cell_id": "94dec6e068624b54a466c46c2a0d9dbf",
    "deepnote_cell_height": 76,
    "deepnote_cell_type": "code",
    "deepnote_to_be_reexecuted": false,
    "execution_millis": 4,
    "execution_start": 1661027573234,
    "source_hash": "b623e53d",
    "tags": []
   },
   "outputs": [],
   "source": []
  },
  {
   "cell_type": "markdown",
   "metadata": {
    "cell_id": "d446df4455b3419382e7697df9035620",
    "deepnote_cell_type": "text-cell-h2",
    "formattedRanges": [],
    "is_collapsed": false,
    "tags": []
   },
   "source": [
    "## 7.5. XGBoost Regressor"
   ]
  },
  {
   "cell_type": "code",
   "execution_count": null,
   "metadata": {
    "ExecuteTime": {
     "end_time": "2022-08-21T18:51:34.331549Z",
     "start_time": "2022-08-21T18:51:26.272416Z"
    },
    "cell_id": "1e08a477d2204dcf96b3a8334f61de1a",
    "deepnote_cell_height": 370,
    "deepnote_cell_type": "code",
    "deepnote_to_be_reexecuted": false,
    "execution_millis": 21991,
    "execution_start": 1661028052921,
    "source_hash": "45169da5",
    "tags": []
   },
   "outputs": [
    {
     "name": "stderr",
     "output_type": "stream",
     "text": [
      "C:\\Users\\mathe\\anaconda3\\envs\\ds_em_producao\\lib\\site-packages\\xgboost\\data.py:262: FutureWarning: pandas.Int64Index is deprecated and will be removed from pandas in a future version. Use pandas.Index with the appropriate dtype instead.\n",
      "  elif isinstance(data.columns, (pd.Int64Index, pd.RangeIndex)):\n"
     ]
    },
    {
     "data": {
      "text/html": [
       "<div>\n",
       "<style scoped>\n",
       "    .dataframe tbody tr th:only-of-type {\n",
       "        vertical-align: middle;\n",
       "    }\n",
       "\n",
       "    .dataframe tbody tr th {\n",
       "        vertical-align: top;\n",
       "    }\n",
       "\n",
       "    .dataframe thead th {\n",
       "        text-align: right;\n",
       "    }\n",
       "</style>\n",
       "<table border=\"1\" class=\"dataframe\">\n",
       "  <thead>\n",
       "    <tr style=\"text-align: right;\">\n",
       "      <th></th>\n",
       "      <th>Model name</th>\n",
       "      <th>MAE</th>\n",
       "      <th>MAPE</th>\n",
       "      <th>RMSE</th>\n",
       "    </tr>\n",
       "  </thead>\n",
       "  <tbody>\n",
       "    <tr>\n",
       "      <th>0</th>\n",
       "      <td>XGBoost Regressor</td>\n",
       "      <td>25984.094792</td>\n",
       "      <td>0.204358</td>\n",
       "      <td>43125.821164</td>\n",
       "    </tr>\n",
       "  </tbody>\n",
       "</table>\n",
       "</div>"
      ],
      "text/plain": [
       "          Model name           MAE      MAPE          RMSE\n",
       "0  XGBoost Regressor  25984.094792  0.204358  43125.821164"
      ]
     },
     "execution_count": 45,
     "metadata": {},
     "output_type": "execute_result"
    }
   ],
   "source": [
    "# model\n",
    "model_xgb = xgb.XGBRegressor( n_estimators=400 ).fit( X_train, y_train )\n",
    "\n",
    "# prediction\n",
    "yhat_xgb = model_xgb.predict( X_val )\n",
    "\n",
    "# performance\n",
    "model_xgb_results = ml_error( 'XGBoost Regressor',  np.expm1(y_val), np.expm1(yhat_xgb) )\n",
    "model_xgb_results"
   ]
  },
  {
   "cell_type": "markdown",
   "metadata": {
    "cell_id": "99c889541d064bada91ef12f5ddf32e5",
    "deepnote_cell_type": "text-cell-h3",
    "formattedRanges": [],
    "is_collapsed": false,
    "tags": []
   },
   "source": [
    "### 7.5.1. Cross Validation"
   ]
  },
  {
   "cell_type": "code",
   "execution_count": null,
   "metadata": {
    "cell_id": "251e0b8324534179851c3f1edac3f4f6",
    "deepnote_cell_height": 76,
    "deepnote_cell_type": "code",
    "deepnote_to_be_reexecuted": false,
    "execution_millis": 4,
    "execution_start": 1661027602955,
    "source_hash": "b623e53d",
    "tags": []
   },
   "outputs": [],
   "source": []
  },
  {
   "cell_type": "markdown",
   "metadata": {
    "cell_id": "a307284412264bcbacf08365defe53f4",
    "deepnote_cell_type": "text-cell-h2",
    "formattedRanges": [],
    "is_collapsed": false,
    "tags": []
   },
   "source": [
    "## 7.6. LightGBM"
   ]
  },
  {
   "cell_type": "code",
   "execution_count": 29,
   "metadata": {
    "ExecuteTime": {
     "end_time": "2022-08-21T18:51:36.943480Z",
     "start_time": "2022-08-21T18:51:34.333541Z"
    },
    "cell_id": "fc9411f4e3eb467ea4e281defd1a971f",
    "deepnote_cell_height": 370,
    "deepnote_cell_type": "code",
    "deepnote_to_be_reexecuted": false,
    "execution_millis": 3164,
    "execution_start": 1661028074623,
    "source_hash": "e82a3b90",
    "tags": []
   },
   "outputs": [
    {
     "data": {
      "text/html": [
       "<div>\n",
       "<style scoped>\n",
       "    .dataframe tbody tr th:only-of-type {\n",
       "        vertical-align: middle;\n",
       "    }\n",
       "\n",
       "    .dataframe tbody tr th {\n",
       "        vertical-align: top;\n",
       "    }\n",
       "\n",
       "    .dataframe thead th {\n",
       "        text-align: right;\n",
       "    }\n",
       "</style>\n",
       "<table border=\"1\" class=\"dataframe\">\n",
       "  <thead>\n",
       "    <tr style=\"text-align: right;\">\n",
       "      <th></th>\n",
       "      <th>Model name</th>\n",
       "      <th>MAE</th>\n",
       "      <th>MAPE</th>\n",
       "      <th>RMSE</th>\n",
       "    </tr>\n",
       "  </thead>\n",
       "  <tbody>\n",
       "    <tr>\n",
       "      <th>0</th>\n",
       "      <td>LightGBM Regressor</td>\n",
       "      <td>24964.16048</td>\n",
       "      <td>0.195114</td>\n",
       "      <td>42172.434674</td>\n",
       "    </tr>\n",
       "  </tbody>\n",
       "</table>\n",
       "</div>"
      ],
      "text/plain": [
       "           Model name          MAE      MAPE          RMSE\n",
       "0  LightGBM Regressor  24964.16048  0.195114  42172.434674"
      ]
     },
     "execution_count": 29,
     "metadata": {},
     "output_type": "execute_result"
    }
   ],
   "source": [
    "# model\n",
    "model_lgb = lgb.LGBMRegressor( n_jobs=-1, random_state=42, subsample_freq=1, max_bin=500, n_estimators = 768, max_depth = 18, learning_rate = 0.02391, num_leaves = 68, min_child_samples = 6, subsample = 0.959787, colsample_bytree = 0.6179 ).fit( X_train, y_train )\n",
    "\n",
    "# prediction\n",
    "yhat_lgb = model_lgb.predict( X_val )\n",
    "\n",
    "# performance\n",
    "model_lgb_results = ml_error( 'LightGBM Regressor',  np.expm1(y_val), np.expm1(yhat_lgb) )\n",
    "model_lgb_results"
   ]
  },
  {
   "cell_type": "code",
   "execution_count": 30,
   "metadata": {},
   "outputs": [
    {
     "name": "stdout",
     "output_type": "stream",
     "text": [
      "Iteration No: 1 started. Evaluating function at random point.\n",
      "LGBMRegressor(colsample_bytree=0.4336523194681686,\n",
      "              learning_rate=0.01562069367563987, max_bin=558, max_depth=16,\n",
      "              min_child_samples=11, n_estimators=357, num_leaves=58,\n",
      "              random_state=42, subsample=0.48628644736757387, subsample_freq=1)\n",
      "Iteration No: 1 ended. Evaluation done at random point.\n",
      "Time taken: 14.1211\n",
      "Function value obtained: 25387.2070\n",
      "Current minimum: 25387.2070\n",
      "Iteration No: 2 started. Evaluating function at random point.\n",
      "LGBMRegressor(colsample_bytree=0.6748592831835591,\n",
      "              learning_rate=0.027796975515266827, max_bin=102, max_depth=2,\n",
      "              min_child_samples=1, n_estimators=1011, num_leaves=120,\n",
      "              random_state=42, subsample=0.9926009813266569, subsample_freq=1)\n",
      "Iteration No: 2 ended. Evaluation done at random point.\n",
      "Time taken: 9.7084\n",
      "Function value obtained: 26392.6489\n",
      "Current minimum: 25387.2070\n",
      "Iteration No: 3 started. Evaluating function at random point.\n",
      "LGBMRegressor(colsample_bytree=0.34785563936575864,\n",
      "              learning_rate=0.011208547084229371, max_bin=429, max_depth=1,\n",
      "              min_child_samples=6, n_estimators=110, num_leaves=52,\n",
      "              random_state=42, subsample=0.9750677428993865, subsample_freq=1)\n",
      "Iteration No: 3 ended. Evaluation done at random point.\n",
      "Time taken: 2.5891\n",
      "Function value obtained: 43285.0355\n",
      "Current minimum: 25387.2070\n",
      "Iteration No: 4 started. Evaluating function at random point.\n",
      "LGBMRegressor(colsample_bytree=0.5329243641741116,\n",
      "              learning_rate=0.09256818992066886, max_bin=65, max_depth=8,\n",
      "              min_child_samples=86, n_estimators=966, num_leaves=61,\n",
      "              random_state=42, subsample=0.6962921616583908, subsample_freq=1)\n",
      "Iteration No: 4 ended. Evaluation done at random point.\n",
      "Time taken: 17.5404\n",
      "Function value obtained: 25427.5985\n",
      "Current minimum: 25387.2070\n",
      "Iteration No: 5 started. Evaluating function at random point.\n",
      "LGBMRegressor(colsample_bytree=0.7307739910016395,\n",
      "              learning_rate=0.005899741796710488, max_bin=11, max_depth=12,\n",
      "              min_child_samples=24, n_estimators=1419, num_leaves=4,\n",
      "              random_state=42, subsample=0.2789741927247112, subsample_freq=1)\n",
      "Iteration No: 5 ended. Evaluation done at random point.\n",
      "Time taken: 13.8951\n",
      "Function value obtained: 27292.5063\n",
      "Current minimum: 25387.2070\n",
      "Iteration No: 6 started. Evaluating function at random point.\n",
      "LGBMRegressor(colsample_bytree=0.3267504134379605,\n",
      "              learning_rate=0.006055098539300354, max_bin=428, max_depth=4,\n",
      "              min_child_samples=76, n_estimators=1266, num_leaves=25,\n",
      "              random_state=42, subsample=0.45389808076668253, subsample_freq=1)\n",
      "Iteration No: 6 ended. Evaluation done at random point.\n",
      "Time taken: 21.6390\n",
      "Function value obtained: 26205.2862\n",
      "Current minimum: 25387.2070\n",
      "Iteration No: 7 started. Evaluating function at random point.\n",
      "LGBMRegressor(colsample_bytree=0.42755965348496006,\n",
      "              learning_rate=0.007934293594590601, max_bin=398, max_depth=17,\n",
      "              min_child_samples=93, n_estimators=144, num_leaves=52,\n",
      "              random_state=42, subsample=0.7409083960635999, subsample_freq=1)\n",
      "Iteration No: 7 ended. Evaluation done at random point.\n",
      "Time taken: 4.5686\n",
      "Function value obtained: 32584.3808\n",
      "Current minimum: 25387.2070\n",
      "Iteration No: 8 started. Evaluating function at random point.\n",
      "LGBMRegressor(colsample_bytree=0.9704670111745175,\n",
      "              learning_rate=0.048872853588355795, max_bin=400, max_depth=19,\n",
      "              min_child_samples=54, n_estimators=829, num_leaves=96,\n",
      "              random_state=42, subsample=0.607413607380656, subsample_freq=1)\n",
      "Iteration No: 8 ended. Evaluation done at random point.\n",
      "Time taken: 30.4161\n",
      "Function value obtained: 25500.4112\n",
      "Current minimum: 25387.2070\n",
      "Iteration No: 9 started. Evaluating function at random point.\n",
      "LGBMRegressor(colsample_bytree=0.39946494851033243,\n",
      "              learning_rate=0.0021405919019849063, max_bin=426, max_depth=7,\n",
      "              min_child_samples=43, n_estimators=486, num_leaves=4,\n",
      "              random_state=42, subsample=0.4251374422667913, subsample_freq=1)\n",
      "Iteration No: 9 ended. Evaluation done at random point.\n",
      "Time taken: 7.1301\n",
      "Function value obtained: 38155.7998\n",
      "Current minimum: 25387.2070\n",
      "Iteration No: 10 started. Evaluating function at random point.\n",
      "LGBMRegressor(colsample_bytree=0.9277157242122138,\n",
      "              learning_rate=0.03804968634158327, max_bin=12, max_depth=15,\n",
      "              min_child_samples=93, n_estimators=378, num_leaves=78,\n",
      "              random_state=42, subsample=0.6685231742268474, subsample_freq=1)\n",
      "Iteration No: 10 ended. Evaluation done at random point.\n",
      "Time taken: 10.7380\n",
      "Function value obtained: 25369.3921\n",
      "Current minimum: 25369.3921\n",
      "Iteration No: 11 started. Searching for the next optimal point.\n",
      "LGBMRegressor(max_bin=2, max_depth=20, min_child_samples=100, n_estimators=556,\n",
      "              num_leaves=128, random_state=42, subsample=0.9887491931967062,\n",
      "              subsample_freq=1)\n",
      "Iteration No: 11 ended. Search finished for the next optimal point.\n",
      "Time taken: 17.2144\n",
      "Function value obtained: 35590.0929\n",
      "Current minimum: 25369.3921\n",
      "Iteration No: 12 started. Searching for the next optimal point.\n",
      "LGBMRegressor(colsample_bytree=0.8332466165967107,\n",
      "              learning_rate=0.03868125460684525, max_bin=145, max_depth=15,\n",
      "              min_child_samples=71, n_estimators=374, num_leaves=75,\n",
      "              random_state=42, subsample=0.6697411614933166, subsample_freq=1)\n",
      "Iteration No: 12 ended. Search finished for the next optimal point.\n",
      "Time taken: 10.8867\n",
      "Function value obtained: 25033.7190\n",
      "Current minimum: 25033.7190\n",
      "Iteration No: 13 started. Searching for the next optimal point.\n",
      "LGBMRegressor(colsample_bytree=0.6687929342400425,\n",
      "              learning_rate=0.03970272313468299, max_bin=426, max_depth=15,\n",
      "              min_child_samples=4, n_estimators=367, num_leaves=43,\n",
      "              random_state=42, subsample=0.8330398887909816, subsample_freq=1)\n",
      "Iteration No: 13 ended. Search finished for the next optimal point.\n",
      "Time taken: 7.7990\n",
      "Function value obtained: 25166.9089\n",
      "Current minimum: 25033.7190\n",
      "Iteration No: 14 started. Searching for the next optimal point.\n",
      "LGBMRegressor(colsample_bytree=0.6602874355874911,\n",
      "              learning_rate=0.0014634673572112705, max_bin=413, max_depth=15,\n",
      "              min_child_samples=90, n_estimators=883, num_leaves=89,\n",
      "              random_state=42, subsample=0.4133434390579796, subsample_freq=1)\n",
      "Iteration No: 14 ended. Search finished for the next optimal point.\n",
      "Time taken: 33.2919\n",
      "Function value obtained: 30299.0249\n",
      "Current minimum: 25033.7190\n",
      "Iteration No: 15 started. Searching for the next optimal point.\n",
      "LGBMRegressor(colsample_bytree=0.7889530673343157,\n",
      "              learning_rate=0.00662234008041655, max_bin=246, max_depth=20,\n",
      "              min_child_samples=78, n_estimators=811, num_leaves=34,\n",
      "              random_state=42, subsample=0.8712806295371001, subsample_freq=1)\n",
      "Iteration No: 15 ended. Search finished for the next optimal point.\n",
      "Time taken: 15.7117\n",
      "Function value obtained: 25391.9441\n",
      "Current minimum: 25033.7190\n",
      "Iteration No: 16 started. Searching for the next optimal point.\n",
      "LGBMRegressor(colsample_bytree=0.6085335367906602,\n",
      "              learning_rate=0.049257525664695614, max_bin=700, max_depth=15,\n",
      "              min_child_samples=1, n_estimators=497, num_leaves=56,\n",
      "              random_state=42, subsample=0.7977539422748197, subsample_freq=1)\n",
      "Iteration No: 16 ended. Search finished for the next optimal point.\n",
      "Time taken: 9.8988\n",
      "Function value obtained: 25026.8828\n",
      "Current minimum: 25026.8828\n",
      "Iteration No: 17 started. Searching for the next optimal point.\n",
      "LGBMRegressor(colsample_bytree=0.15, learning_rate=0.06916842195940144,\n",
      "              max_bin=700, max_depth=15, min_child_samples=1, n_estimators=476,\n",
      "              num_leaves=37, random_state=42, subsample=0.4287342562807625,\n",
      "              subsample_freq=1)\n",
      "Iteration No: 17 ended. Search finished for the next optimal point.\n",
      "Time taken: 9.9847\n",
      "Function value obtained: 25897.8746\n",
      "Current minimum: 25026.8828\n",
      "Iteration No: 18 started. Searching for the next optimal point.\n",
      "LGBMRegressor(colsample_bytree=0.7545401585210235,\n",
      "              learning_rate=0.004254317527562355, max_bin=286, max_depth=20,\n",
      "              min_child_samples=74, n_estimators=853, num_leaves=19,\n",
      "              random_state=42, subsample=0.8521052019734291, subsample_freq=1)\n",
      "Iteration No: 18 ended. Search finished for the next optimal point.\n",
      "Time taken: 14.2664\n",
      "Function value obtained: 26017.5289\n",
      "Current minimum: 25026.8828\n",
      "Iteration No: 19 started. Searching for the next optimal point.\n",
      "LGBMRegressor(colsample_bytree=0.15750405701246994,\n",
      "              learning_rate=0.045350741941014565, max_bin=700, max_depth=15,\n",
      "              min_child_samples=1, n_estimators=820, num_leaves=128,\n",
      "              random_state=42, subsample_freq=1)\n",
      "Iteration No: 19 ended. Search finished for the next optimal point.\n",
      "Time taken: 19.3249\n",
      "Function value obtained: 25315.5358\n",
      "Current minimum: 25026.8828\n",
      "Iteration No: 20 started. Searching for the next optimal point.\n",
      "LGBMRegressor(colsample_bytree=0.7246153570698796,\n",
      "              learning_rate=0.01919955081219283, max_bin=431, max_depth=16,\n",
      "              min_child_samples=68, n_estimators=592, num_leaves=45,\n",
      "              random_state=42, subsample=0.838891262390735, subsample_freq=1)\n",
      "Iteration No: 20 ended. Search finished for the next optimal point.\n",
      "Time taken: 12.6875\n",
      "Function value obtained: 25152.8132\n",
      "Current minimum: 25026.8828\n",
      "Iteration No: 21 started. Searching for the next optimal point.\n",
      "LGBMRegressor(learning_rate=0.02882498651733992, max_bin=190, max_depth=16,\n",
      "              min_child_samples=100, n_estimators=1060, num_leaves=19,\n",
      "              random_state=42, subsample_freq=1)\n",
      "Iteration No: 21 ended. Search finished for the next optimal point.\n",
      "Time taken: 14.7967\n",
      "Function value obtained: 25234.4190\n",
      "Current minimum: 25026.8828\n",
      "Iteration No: 22 started. Searching for the next optimal point.\n",
      "LGBMRegressor(colsample_bytree=0.9773866366017795,\n",
      "              learning_rate=0.09566155743848744, max_bin=95, max_depth=8,\n",
      "              min_child_samples=38, n_estimators=1225, num_leaves=77,\n",
      "              random_state=42, subsample=0.8845718554048859, subsample_freq=1)\n",
      "Iteration No: 22 ended. Search finished for the next optimal point.\n",
      "Time taken: 19.8693\n",
      "Function value obtained: 25707.6825\n",
      "Current minimum: 25026.8828\n",
      "Iteration No: 23 started. Searching for the next optimal point.\n",
      "LGBMRegressor(colsample_bytree=0.15, learning_rate=0.041389925823445625,\n",
      "              max_bin=230, max_depth=8, min_child_samples=100, n_estimators=725,\n",
      "              num_leaves=56, random_state=42, subsample=0.05, subsample_freq=1)\n",
      "Iteration No: 23 ended. Search finished for the next optimal point.\n",
      "Time taken: 8.3603\n",
      "Function value obtained: 27199.5695\n",
      "Current minimum: 25026.8828\n",
      "Iteration No: 24 started. Searching for the next optimal point.\n",
      "LGBMRegressor(colsample_bytree=0.8608276365991482,\n",
      "              learning_rate=0.03265045403777086, max_bin=437, max_depth=19,\n",
      "              min_child_samples=54, n_estimators=115, num_leaves=43,\n",
      "              random_state=42, subsample=0.6457918764840648, subsample_freq=1)\n",
      "Iteration No: 24 ended. Search finished for the next optimal point.\n",
      "Time taken: 4.2362\n",
      "Function value obtained: 25498.0003\n",
      "Current minimum: 25026.8828\n",
      "Iteration No: 25 started. Searching for the next optimal point.\n",
      "LGBMRegressor(colsample_bytree=0.8908901525441801,\n",
      "              learning_rate=0.03952617206690944, max_bin=603, max_depth=19,\n",
      "              min_child_samples=42, n_estimators=307, num_leaves=118,\n",
      "              random_state=42, subsample=0.35540446264277525, subsample_freq=1)\n",
      "Iteration No: 25 ended. Search finished for the next optimal point.\n",
      "Time taken: 11.6384\n",
      "Function value obtained: 25084.2388\n",
      "Current minimum: 25026.8828\n",
      "Iteration No: 26 started. Searching for the next optimal point.\n",
      "LGBMRegressor(colsample_bytree=0.7408186080382645,\n",
      "              learning_rate=0.058092237897417374, max_bin=331, max_depth=4,\n",
      "              min_child_samples=51, n_estimators=1281, num_leaves=83,\n",
      "              random_state=42, subsample=0.07611527052859127, subsample_freq=1)\n",
      "Iteration No: 26 ended. Search finished for the next optimal point.\n",
      "Time taken: 14.4827\n",
      "Function value obtained: 25869.8056\n",
      "Current minimum: 25026.8828\n",
      "Iteration No: 27 started. Searching for the next optimal point.\n",
      "LGBMRegressor(colsample_bytree=0.516128688260616,\n",
      "              learning_rate=0.02495536142507882, max_bin=499, max_depth=16,\n",
      "              min_child_samples=100, n_estimators=1274, num_leaves=21,\n",
      "              random_state=42, subsample_freq=1)\n",
      "Iteration No: 27 ended. Search finished for the next optimal point.\n",
      "Time taken: 19.6279\n",
      "Function value obtained: 25276.1145\n",
      "Current minimum: 25026.8828\n",
      "Iteration No: 28 started. Searching for the next optimal point.\n",
      "LGBMRegressor(colsample_bytree=0.9092764901043807,\n",
      "              learning_rate=0.024585274478948642, max_bin=2, max_depth=16,\n",
      "              min_child_samples=56, n_estimators=127, num_leaves=83,\n",
      "              random_state=42, subsample_freq=1)\n",
      "Iteration No: 28 ended. Search finished for the next optimal point.\n",
      "Time taken: 4.6341\n",
      "Function value obtained: 35889.4196\n",
      "Current minimum: 25026.8828\n",
      "Iteration No: 29 started. Searching for the next optimal point.\n",
      "LGBMRegressor(colsample_bytree=0.4441874209399579,\n",
      "              learning_rate=0.04035942385895986, max_bin=444, max_depth=15,\n",
      "              min_child_samples=54, n_estimators=382, num_leaves=66,\n",
      "              random_state=42, subsample=0.6638841182981463, subsample_freq=1)\n",
      "Iteration No: 29 ended. Search finished for the next optimal point.\n",
      "Time taken: 12.1433\n",
      "Function value obtained: 25060.7507\n",
      "Current minimum: 25026.8828\n",
      "Iteration No: 30 started. Searching for the next optimal point.\n",
      "LGBMRegressor(colsample_bytree=0.7929836836099737,\n",
      "              learning_rate=0.03791468010692788, max_bin=99, max_depth=15,\n",
      "              min_child_samples=56, n_estimators=371, num_leaves=64,\n",
      "              random_state=42, subsample=0.6748916792068707, subsample_freq=1)\n",
      "Iteration No: 30 ended. Search finished for the next optimal point.\n",
      "Time taken: 9.8360\n",
      "Function value obtained: 25067.5335\n",
      "Current minimum: 25026.8828\n",
      "Iteration No: 31 started. Searching for the next optimal point.\n",
      "LGBMRegressor(colsample_bytree=0.7656751894755527,\n",
      "              learning_rate=0.02345011449222923, max_bin=393, max_depth=16,\n",
      "              min_child_samples=32, n_estimators=647, num_leaves=46,\n",
      "              random_state=42, subsample=0.8127172501890264, subsample_freq=1)\n",
      "Iteration No: 31 ended. Search finished for the next optimal point.\n",
      "Time taken: 14.4043\n",
      "Function value obtained: 25091.6072\n",
      "Current minimum: 25026.8828\n",
      "Iteration No: 32 started. Searching for the next optimal point.\n",
      "LGBMRegressor(colsample_bytree=0.6609998980597641,\n",
      "              learning_rate=0.038695458159702004, max_bin=292, max_depth=15,\n",
      "              min_child_samples=27, n_estimators=371, num_leaves=59,\n",
      "              random_state=42, subsample=0.6739075967044312, subsample_freq=1)\n",
      "Iteration No: 32 ended. Search finished for the next optimal point.\n",
      "Time taken: 8.4930\n",
      "Function value obtained: 25080.9292\n",
      "Current minimum: 25026.8828\n",
      "Iteration No: 33 started. Searching for the next optimal point.\n",
      "LGBMRegressor(colsample_bytree=0.5883142221584754,\n",
      "              learning_rate=0.017239882809058436, max_bin=344, max_depth=16,\n",
      "              min_child_samples=47, n_estimators=618, num_leaves=29,\n",
      "              random_state=42, subsample=0.7578642981722998, subsample_freq=1)\n",
      "Iteration No: 33 ended. Search finished for the next optimal point.\n",
      "Time taken: 11.6576\n",
      "Function value obtained: 25310.6318\n",
      "Current minimum: 25026.8828\n",
      "Iteration No: 34 started. Searching for the next optimal point.\n",
      "LGBMRegressor(colsample_bytree=0.24247177813947318,\n",
      "              learning_rate=0.03879127617295525, max_bin=700, max_depth=14,\n",
      "              n_estimators=876, num_leaves=123, random_state=42,\n",
      "              subsample=0.9600574264187558, subsample_freq=1)\n",
      "Iteration No: 34 ended. Search finished for the next optimal point.\n",
      "Time taken: 28.5304\n",
      "Function value obtained: 25204.7952\n",
      "Current minimum: 25026.8828\n",
      "Iteration No: 35 started. Searching for the next optimal point.\n",
      "LGBMRegressor(colsample_bytree=0.1962319720830723,\n",
      "              learning_rate=0.033138078968923644, max_bin=700, max_depth=19,\n",
      "              min_child_samples=1, n_estimators=198, num_leaves=46,\n",
      "              random_state=42, subsample=0.5518940215511796, subsample_freq=1)\n",
      "Iteration No: 35 ended. Search finished for the next optimal point.\n",
      "Time taken: 6.6190\n",
      "Function value obtained: 26205.4677\n",
      "Current minimum: 25026.8828\n",
      "Iteration No: 36 started. Searching for the next optimal point.\n",
      "LGBMRegressor(colsample_bytree=0.94308765022665,\n",
      "              learning_rate=0.0245316633919445, max_bin=471, max_depth=18,\n",
      "              min_child_samples=49, n_estimators=385, num_leaves=74,\n",
      "              random_state=42, subsample=0.4016140067192884, subsample_freq=1)\n",
      "Iteration No: 36 ended. Search finished for the next optimal point.\n",
      "Time taken: 17.0752\n",
      "Function value obtained: 25066.5114\n",
      "Current minimum: 25026.8828\n",
      "Iteration No: 37 started. Searching for the next optimal point.\n",
      "LGBMRegressor(colsample_bytree=0.5611506571398559,\n",
      "              learning_rate=0.04011630409777341, max_bin=514, max_depth=15,\n",
      "              min_child_samples=31, n_estimators=406, num_leaves=40,\n",
      "              random_state=42, subsample=0.7978501861238464, subsample_freq=1)\n",
      "Iteration No: 37 ended. Search finished for the next optimal point.\n",
      "Time taken: 9.4172\n",
      "Function value obtained: 25187.3785\n",
      "Current minimum: 25026.8828\n",
      "Iteration No: 38 started. Searching for the next optimal point.\n",
      "LGBMRegressor(learning_rate=0.035779337187211185, max_bin=638, max_depth=20,\n",
      "              min_child_samples=47, num_leaves=35, random_state=42,\n",
      "              subsample=0.5451622040835019, subsample_freq=1)\n",
      "Iteration No: 38 ended. Search finished for the next optimal point.\n",
      "Time taken: 4.3790\n",
      "Function value obtained: 25650.2290\n",
      "Current minimum: 25026.8828\n",
      "Iteration No: 39 started. Searching for the next optimal point.\n",
      "LGBMRegressor(colsample_bytree=0.9635193290561224,\n",
      "              learning_rate=0.012475756040256601, max_bin=700, max_depth=20,\n",
      "              min_child_samples=94, n_estimators=837, num_leaves=51,\n",
      "              random_state=42, subsample=0.8718105064479045, subsample_freq=1)\n",
      "Iteration No: 39 ended. Search finished for the next optimal point.\n",
      "Time taken: 26.2074\n",
      "Function value obtained: 25127.7461\n",
      "Current minimum: 25026.8828\n",
      "Iteration No: 40 started. Searching for the next optimal point.\n",
      "LGBMRegressor(colsample_bytree=0.21242352043209622,\n",
      "              learning_rate=0.047159615870842324, max_bin=245, max_depth=15,\n",
      "              min_child_samples=80, n_estimators=948, num_leaves=72,\n",
      "              random_state=42, subsample=0.6979131265685524, subsample_freq=1)\n",
      "Iteration No: 40 ended. Search finished for the next optimal point.\n",
      "Time taken: 23.7780\n",
      "Function value obtained: 25328.8118\n",
      "Current minimum: 25026.8828\n",
      "Iteration No: 41 started. Searching for the next optimal point.\n",
      "LGBMRegressor(colsample_bytree=0.7296742493595808,\n",
      "              learning_rate=0.06268151803784155, max_bin=700, max_depth=10,\n",
      "              min_child_samples=82, n_estimators=1051, num_leaves=124,\n",
      "              random_state=42, subsample=0.6007992510639432, subsample_freq=1)\n",
      "Iteration No: 41 ended. Search finished for the next optimal point.\n",
      "Time taken: 21.7245\n",
      "Function value obtained: 25346.5222\n",
      "Current minimum: 25026.8828\n",
      "Iteration No: 42 started. Searching for the next optimal point.\n",
      "LGBMRegressor(colsample_bytree=0.7341258643041269,\n",
      "              learning_rate=0.04224163103334178, max_bin=593, max_depth=15,\n",
      "              min_child_samples=1, n_estimators=431, num_leaves=42,\n",
      "              random_state=42, subsample=0.8005125358006423, subsample_freq=1)\n",
      "Iteration No: 42 ended. Search finished for the next optimal point.\n",
      "Time taken: 8.3671\n",
      "Function value obtained: 25128.2299\n",
      "Current minimum: 25026.8828\n",
      "Iteration No: 43 started. Searching for the next optimal point.\n",
      "LGBMRegressor(learning_rate=0.04272344110571076, max_bin=448, max_depth=20,\n",
      "              min_child_samples=100, n_estimators=137, num_leaves=128,\n",
      "              random_state=42, subsample=0.36516693008114626, subsample_freq=1)\n",
      "Iteration No: 43 ended. Search finished for the next optimal point.\n",
      "Time taken: 6.3053\n",
      "Function value obtained: 25204.5589\n",
      "Current minimum: 25026.8828\n",
      "Iteration No: 44 started. Searching for the next optimal point.\n",
      "LGBMRegressor(colsample_bytree=0.44105792519360276,\n",
      "              learning_rate=0.04019484615140461, max_bin=326, max_depth=15,\n",
      "              min_child_samples=81, n_estimators=389, num_leaves=80,\n",
      "              random_state=42, subsample=0.6497462020628907, subsample_freq=1)\n",
      "Iteration No: 44 ended. Search finished for the next optimal point.\n",
      "Time taken: 10.1160\n",
      "Function value obtained: 25097.0346\n",
      "Current minimum: 25026.8828\n",
      "Iteration No: 45 started. Searching for the next optimal point.\n",
      "LGBMRegressor(learning_rate=0.009360217143302504, max_bin=276, max_depth=20,\n",
      "              min_child_samples=4, n_estimators=922, num_leaves=10,\n",
      "              random_state=42, subsample=0.8588171468946674, subsample_freq=1)\n",
      "Iteration No: 45 ended. Search finished for the next optimal point.\n",
      "Time taken: 10.9558\n",
      "Function value obtained: 26022.5708\n",
      "Current minimum: 25026.8828\n",
      "Iteration No: 46 started. Searching for the next optimal point.\n",
      "LGBMRegressor(colsample_bytree=0.9298023949136398,\n",
      "              learning_rate=0.037508011637538446, max_bin=700, max_depth=15,\n",
      "              min_child_samples=1, n_estimators=520, num_leaves=95,\n",
      "              random_state=42, subsample_freq=1)\n",
      "Iteration No: 46 ended. Search finished for the next optimal point.\n",
      "Time taken: 16.0299\n",
      "Function value obtained: 25016.0604\n",
      "Current minimum: 25016.0604\n",
      "Iteration No: 47 started. Searching for the next optimal point.\n",
      "LGBMRegressor(learning_rate=0.03503671354608417, max_bin=533, max_depth=19,\n",
      "              min_child_samples=25, n_estimators=293, num_leaves=40,\n",
      "              random_state=42, subsample=0.196257232669806, subsample_freq=1)\n",
      "Iteration No: 47 ended. Search finished for the next optimal point.\n",
      "Time taken: 8.9072\n",
      "Function value obtained: 25389.5611\n",
      "Current minimum: 25016.0604\n",
      "Iteration No: 48 started. Searching for the next optimal point.\n",
      "LGBMRegressor(learning_rate=0.03076992487640687, max_bin=700, max_depth=15,\n",
      "              min_child_samples=1, n_estimators=520, num_leaves=78,\n",
      "              random_state=42, subsample_freq=1)\n",
      "Iteration No: 48 ended. Search finished for the next optimal point.\n",
      "Time taken: 14.0788\n",
      "Function value obtained: 25017.9536\n",
      "Current minimum: 25016.0604\n",
      "Iteration No: 49 started. Searching for the next optimal point.\n",
      "LGBMRegressor(colsample_bytree=0.3279186659814807, max_bin=684, max_depth=14,\n",
      "              min_child_samples=24, n_estimators=878, num_leaves=123,\n",
      "              random_state=42, subsample_freq=1)\n",
      "Iteration No: 49 ended. Search finished for the next optimal point.\n",
      "Time taken: 24.7645\n",
      "Function value obtained: 25769.0968\n",
      "Current minimum: 25016.0604\n",
      "Iteration No: 50 started. Searching for the next optimal point.\n",
      "LGBMRegressor(colsample_bytree=0.5572791250735155,\n",
      "              learning_rate=0.043095311914656355, max_bin=700, max_depth=15,\n",
      "              min_child_samples=10, n_estimators=501, num_leaves=57,\n",
      "              random_state=42, subsample=0.8588011861387044, subsample_freq=1)\n",
      "Iteration No: 50 ended. Search finished for the next optimal point.\n",
      "Time taken: 9.5951\n",
      "Function value obtained: 25009.8191\n",
      "Current minimum: 25009.8191\n",
      "Iteration No: 51 started. Searching for the next optimal point.\n",
      "LGBMRegressor(colsample_bytree=0.8650786661430081,\n",
      "              learning_rate=0.03878459532901049, max_bin=110, max_depth=15,\n",
      "              min_child_samples=64, n_estimators=389, num_leaves=24,\n",
      "              random_state=42, subsample=0.601888972168452, subsample_freq=1)\n",
      "Iteration No: 51 ended. Search finished for the next optimal point.\n",
      "Time taken: 6.3287\n",
      "Function value obtained: 25339.8065\n",
      "Current minimum: 25009.8191\n",
      "Iteration No: 52 started. Searching for the next optimal point.\n",
      "LGBMRegressor(colsample_bytree=0.2144471142461995,\n",
      "              learning_rate=0.034318036901059314, max_bin=700, max_depth=15,\n",
      "              min_child_samples=65, n_estimators=380, num_leaves=128,\n",
      "              random_state=42, subsample=0.5449437617075329, subsample_freq=1)\n",
      "Iteration No: 52 ended. Search finished for the next optimal point.\n",
      "Time taken: 11.1161\n",
      "Function value obtained: 25443.2844\n",
      "Current minimum: 25009.8191\n",
      "Iteration No: 53 started. Searching for the next optimal point.\n",
      "LGBMRegressor(colsample_bytree=0.15, learning_rate=0.0600763003154886,\n",
      "              max_bin=396, max_depth=15, min_child_samples=1, n_estimators=377,\n",
      "              num_leaves=33, random_state=42, subsample=0.7730436744341879,\n",
      "              subsample_freq=1)\n",
      "Iteration No: 53 ended. Search finished for the next optimal point.\n",
      "Time taken: 8.1988\n",
      "Function value obtained: 25807.9437\n",
      "Current minimum: 25009.8191\n",
      "Iteration No: 54 started. Searching for the next optimal point.\n",
      "LGBMRegressor(colsample_bytree=0.8666928863319832,\n",
      "              learning_rate=0.02396163753803389, max_bin=512, max_depth=18,\n",
      "              min_child_samples=29, n_estimators=376, num_leaves=128,\n",
      "              random_state=42, subsample=0.5685113924970042, subsample_freq=1)\n"
     ]
    },
    {
     "ename": "KeyboardInterrupt",
     "evalue": "",
     "output_type": "error",
     "traceback": [
      "\u001b[1;31m---------------------------------------------------------------------------\u001b[0m",
      "\u001b[1;31mKeyboardInterrupt\u001b[0m                         Traceback (most recent call last)",
      "\u001b[1;32mf:\\SamuelOliveiraAlvesd\\Desktop\\Data_Science\\Hackday\\hackday2-dia2-3versao.ipynb Célula: 65\u001b[0m in \u001b[0;36m<cell line: 34>\u001b[1;34m()\u001b[0m\n\u001b[0;32m     <a href='vscode-notebook-cell:/f%3A/SamuelOliveiraAlvesd/Desktop/Data_Science/Hackday/hackday2-dia2-3versao.ipynb#Y122sZmlsZQ%3D%3D?line=30'>31</a>\u001b[0m checkpoint_callback \u001b[39m=\u001b[39m CheckpointSaver(\u001b[39m'\u001b[39m\u001b[39mlgbm_ft.pkl\u001b[39m\u001b[39m'\u001b[39m)\n\u001b[0;32m     <a href='vscode-notebook-cell:/f%3A/SamuelOliveiraAlvesd/Desktop/Data_Science/Hackday/hackday2-dia2-3versao.ipynb#Y122sZmlsZQ%3D%3D?line=32'>33</a>\u001b[0m \u001b[39m# return results and run bayesian optimize\u001b[39;00m\n\u001b[1;32m---> <a href='vscode-notebook-cell:/f%3A/SamuelOliveiraAlvesd/Desktop/Data_Science/Hackday/hackday2-dia2-3versao.ipynb#Y122sZmlsZQ%3D%3D?line=33'>34</a>\u001b[0m result \u001b[39m=\u001b[39m gp_minimize( model_eval, search_space, n_calls \u001b[39m=\u001b[39;49m \u001b[39m100\u001b[39;49m, \n\u001b[0;32m     <a href='vscode-notebook-cell:/f%3A/SamuelOliveiraAlvesd/Desktop/Data_Science/Hackday/hackday2-dia2-3versao.ipynb#Y122sZmlsZQ%3D%3D?line=34'>35</a>\u001b[0m                       n_initial_points \u001b[39m=\u001b[39;49m \u001b[39m10\u001b[39;49m, verbose\u001b[39m=\u001b[39;49m\u001b[39mTrue\u001b[39;49;00m, n_jobs\u001b[39m=\u001b[39;49m\u001b[39m-\u001b[39;49m\u001b[39m1\u001b[39;49m, \n\u001b[0;32m     <a href='vscode-notebook-cell:/f%3A/SamuelOliveiraAlvesd/Desktop/Data_Science/Hackday/hackday2-dia2-3versao.ipynb#Y122sZmlsZQ%3D%3D?line=35'>36</a>\u001b[0m                       random_state\u001b[39m=\u001b[39;49m \u001b[39m42\u001b[39;49m, callback\u001b[39m=\u001b[39;49m[checkpoint_callback])\n\u001b[0;32m     <a href='vscode-notebook-cell:/f%3A/SamuelOliveiraAlvesd/Desktop/Data_Science/Hackday/hackday2-dia2-3versao.ipynb#Y122sZmlsZQ%3D%3D?line=36'>37</a>\u001b[0m result\n",
      "File \u001b[1;32mf:\\SamuelOliveiraAlvesd\\Anaconda3\\envs\\Health_Insurance_Cross_Sell\\lib\\site-packages\\skopt\\optimizer\\gp.py:259\u001b[0m, in \u001b[0;36mgp_minimize\u001b[1;34m(func, dimensions, base_estimator, n_calls, n_random_starts, n_initial_points, initial_point_generator, acq_func, acq_optimizer, x0, y0, random_state, verbose, callback, n_points, n_restarts_optimizer, xi, kappa, noise, n_jobs, model_queue_size)\u001b[0m\n\u001b[0;32m    254\u001b[0m \u001b[39mif\u001b[39;00m base_estimator \u001b[39mis\u001b[39;00m \u001b[39mNone\u001b[39;00m:\n\u001b[0;32m    255\u001b[0m     base_estimator \u001b[39m=\u001b[39m cook_estimator(\n\u001b[0;32m    256\u001b[0m         \u001b[39m\"\u001b[39m\u001b[39mGP\u001b[39m\u001b[39m\"\u001b[39m, space\u001b[39m=\u001b[39mspace, random_state\u001b[39m=\u001b[39mrng\u001b[39m.\u001b[39mrandint(\u001b[39m0\u001b[39m, np\u001b[39m.\u001b[39miinfo(np\u001b[39m.\u001b[39mint32)\u001b[39m.\u001b[39mmax),\n\u001b[0;32m    257\u001b[0m         noise\u001b[39m=\u001b[39mnoise)\n\u001b[1;32m--> 259\u001b[0m \u001b[39mreturn\u001b[39;00m base_minimize(\n\u001b[0;32m    260\u001b[0m     func, space, base_estimator\u001b[39m=\u001b[39;49mbase_estimator,\n\u001b[0;32m    261\u001b[0m     acq_func\u001b[39m=\u001b[39;49macq_func,\n\u001b[0;32m    262\u001b[0m     xi\u001b[39m=\u001b[39;49mxi, kappa\u001b[39m=\u001b[39;49mkappa, acq_optimizer\u001b[39m=\u001b[39;49macq_optimizer, n_calls\u001b[39m=\u001b[39;49mn_calls,\n\u001b[0;32m    263\u001b[0m     n_points\u001b[39m=\u001b[39;49mn_points, n_random_starts\u001b[39m=\u001b[39;49mn_random_starts,\n\u001b[0;32m    264\u001b[0m     n_initial_points\u001b[39m=\u001b[39;49mn_initial_points,\n\u001b[0;32m    265\u001b[0m     initial_point_generator\u001b[39m=\u001b[39;49minitial_point_generator,\n\u001b[0;32m    266\u001b[0m     n_restarts_optimizer\u001b[39m=\u001b[39;49mn_restarts_optimizer,\n\u001b[0;32m    267\u001b[0m     x0\u001b[39m=\u001b[39;49mx0, y0\u001b[39m=\u001b[39;49my0, random_state\u001b[39m=\u001b[39;49mrng, verbose\u001b[39m=\u001b[39;49mverbose,\n\u001b[0;32m    268\u001b[0m     callback\u001b[39m=\u001b[39;49mcallback, n_jobs\u001b[39m=\u001b[39;49mn_jobs, model_queue_size\u001b[39m=\u001b[39;49mmodel_queue_size)\n",
      "File \u001b[1;32mf:\\SamuelOliveiraAlvesd\\Anaconda3\\envs\\Health_Insurance_Cross_Sell\\lib\\site-packages\\skopt\\optimizer\\base.py:299\u001b[0m, in \u001b[0;36mbase_minimize\u001b[1;34m(func, dimensions, base_estimator, n_calls, n_random_starts, n_initial_points, initial_point_generator, acq_func, acq_optimizer, x0, y0, random_state, verbose, callback, n_points, n_restarts_optimizer, xi, kappa, n_jobs, model_queue_size)\u001b[0m\n\u001b[0;32m    297\u001b[0m \u001b[39mfor\u001b[39;00m n \u001b[39min\u001b[39;00m \u001b[39mrange\u001b[39m(n_calls):\n\u001b[0;32m    298\u001b[0m     next_x \u001b[39m=\u001b[39m optimizer\u001b[39m.\u001b[39mask()\n\u001b[1;32m--> 299\u001b[0m     next_y \u001b[39m=\u001b[39m func(next_x)\n\u001b[0;32m    300\u001b[0m     result \u001b[39m=\u001b[39m optimizer\u001b[39m.\u001b[39mtell(next_x, next_y)\n\u001b[0;32m    301\u001b[0m     result\u001b[39m.\u001b[39mspecs \u001b[39m=\u001b[39m specs\n",
      "File \u001b[1;32mf:\\SamuelOliveiraAlvesd\\Anaconda3\\envs\\Health_Insurance_Cross_Sell\\lib\\site-packages\\skopt\\utils.py:789\u001b[0m, in \u001b[0;36muse_named_args.<locals>.decorator.<locals>.wrapper\u001b[1;34m(x)\u001b[0m\n\u001b[0;32m    786\u001b[0m arg_dict \u001b[39m=\u001b[39m {dim\u001b[39m.\u001b[39mname: value \u001b[39mfor\u001b[39;00m dim, value \u001b[39min\u001b[39;00m \u001b[39mzip\u001b[39m(dimensions, x)}\n\u001b[0;32m    788\u001b[0m \u001b[39m# Call the wrapped objective function with the named arguments.\u001b[39;00m\n\u001b[1;32m--> 789\u001b[0m objective_value \u001b[39m=\u001b[39m func(\u001b[39m*\u001b[39m\u001b[39m*\u001b[39marg_dict)\n\u001b[0;32m    791\u001b[0m \u001b[39mreturn\u001b[39;00m objective_value\n",
      "\u001b[1;32mf:\\SamuelOliveiraAlvesd\\Desktop\\Data_Science\\Hackday\\hackday2-dia2-3versao.ipynb Célula: 65\u001b[0m in \u001b[0;36mmodel_eval\u001b[1;34m(**params)\u001b[0m\n\u001b[0;32m     <a href='vscode-notebook-cell:/f%3A/SamuelOliveiraAlvesd/Desktop/Data_Science/Hackday/hackday2-dia2-3versao.ipynb#Y122sZmlsZQ%3D%3D?line=24'>25</a>\u001b[0m \u001b[39mprint\u001b[39m(lgbm_model)\n\u001b[0;32m     <a href='vscode-notebook-cell:/f%3A/SamuelOliveiraAlvesd/Desktop/Data_Science/Hackday/hackday2-dia2-3versao.ipynb#Y122sZmlsZQ%3D%3D?line=25'>26</a>\u001b[0m kf \u001b[39m=\u001b[39m KFold(n_splits\u001b[39m=\u001b[39m\u001b[39m10\u001b[39m, random_state\u001b[39m=\u001b[39m\u001b[39m42\u001b[39m, shuffle\u001b[39m=\u001b[39m\u001b[39mTrue\u001b[39;00m)  \n\u001b[1;32m---> <a href='vscode-notebook-cell:/f%3A/SamuelOliveiraAlvesd/Desktop/Data_Science/Hackday/hackday2-dia2-3versao.ipynb#Y122sZmlsZQ%3D%3D?line=26'>27</a>\u001b[0m ft_result \u001b[39m=\u001b[39m cross_val_score(lgbm_model, X, np\u001b[39m.\u001b[39;49mexpm1(Y), scoring\u001b[39m=\u001b[39;49m\u001b[39m'\u001b[39;49m\u001b[39mneg_mean_absolute_error\u001b[39;49m\u001b[39m'\u001b[39;49m, cv\u001b[39m=\u001b[39;49mkf\u001b[39m.\u001b[39;49msplit(X), n_jobs\u001b[39m=\u001b[39;49m\u001b[39m-\u001b[39;49m\u001b[39m1\u001b[39;49m, verbose\u001b[39m=\u001b[39;49m\u001b[39m0\u001b[39;49m)\u001b[39m*\u001b[39m\u001b[39m-\u001b[39m\u001b[39m1\u001b[39m\n\u001b[0;32m     <a href='vscode-notebook-cell:/f%3A/SamuelOliveiraAlvesd/Desktop/Data_Science/Hackday/hackday2-dia2-3versao.ipynb#Y122sZmlsZQ%3D%3D?line=27'>28</a>\u001b[0m \u001b[39mreturn\u001b[39;00m np\u001b[39m.\u001b[39mmean(ft_result)\n",
      "File \u001b[1;32mf:\\SamuelOliveiraAlvesd\\Anaconda3\\envs\\Health_Insurance_Cross_Sell\\lib\\site-packages\\sklearn\\model_selection\\_validation.py:515\u001b[0m, in \u001b[0;36mcross_val_score\u001b[1;34m(estimator, X, y, groups, scoring, cv, n_jobs, verbose, fit_params, pre_dispatch, error_score)\u001b[0m\n\u001b[0;32m    512\u001b[0m \u001b[39m# To ensure multimetric format is not supported\u001b[39;00m\n\u001b[0;32m    513\u001b[0m scorer \u001b[39m=\u001b[39m check_scoring(estimator, scoring\u001b[39m=\u001b[39mscoring)\n\u001b[1;32m--> 515\u001b[0m cv_results \u001b[39m=\u001b[39m cross_validate(\n\u001b[0;32m    516\u001b[0m     estimator\u001b[39m=\u001b[39;49mestimator,\n\u001b[0;32m    517\u001b[0m     X\u001b[39m=\u001b[39;49mX,\n\u001b[0;32m    518\u001b[0m     y\u001b[39m=\u001b[39;49my,\n\u001b[0;32m    519\u001b[0m     groups\u001b[39m=\u001b[39;49mgroups,\n\u001b[0;32m    520\u001b[0m     scoring\u001b[39m=\u001b[39;49m{\u001b[39m\"\u001b[39;49m\u001b[39mscore\u001b[39;49m\u001b[39m\"\u001b[39;49m: scorer},\n\u001b[0;32m    521\u001b[0m     cv\u001b[39m=\u001b[39;49mcv,\n\u001b[0;32m    522\u001b[0m     n_jobs\u001b[39m=\u001b[39;49mn_jobs,\n\u001b[0;32m    523\u001b[0m     verbose\u001b[39m=\u001b[39;49mverbose,\n\u001b[0;32m    524\u001b[0m     fit_params\u001b[39m=\u001b[39;49mfit_params,\n\u001b[0;32m    525\u001b[0m     pre_dispatch\u001b[39m=\u001b[39;49mpre_dispatch,\n\u001b[0;32m    526\u001b[0m     error_score\u001b[39m=\u001b[39;49merror_score,\n\u001b[0;32m    527\u001b[0m )\n\u001b[0;32m    528\u001b[0m \u001b[39mreturn\u001b[39;00m cv_results[\u001b[39m\"\u001b[39m\u001b[39mtest_score\u001b[39m\u001b[39m\"\u001b[39m]\n",
      "File \u001b[1;32mf:\\SamuelOliveiraAlvesd\\Anaconda3\\envs\\Health_Insurance_Cross_Sell\\lib\\site-packages\\sklearn\\model_selection\\_validation.py:266\u001b[0m, in \u001b[0;36mcross_validate\u001b[1;34m(estimator, X, y, groups, scoring, cv, n_jobs, verbose, fit_params, pre_dispatch, return_train_score, return_estimator, error_score)\u001b[0m\n\u001b[0;32m    263\u001b[0m \u001b[39m# We clone the estimator to make sure that all the folds are\u001b[39;00m\n\u001b[0;32m    264\u001b[0m \u001b[39m# independent, and that it is pickle-able.\u001b[39;00m\n\u001b[0;32m    265\u001b[0m parallel \u001b[39m=\u001b[39m Parallel(n_jobs\u001b[39m=\u001b[39mn_jobs, verbose\u001b[39m=\u001b[39mverbose, pre_dispatch\u001b[39m=\u001b[39mpre_dispatch)\n\u001b[1;32m--> 266\u001b[0m results \u001b[39m=\u001b[39m parallel(\n\u001b[0;32m    267\u001b[0m     delayed(_fit_and_score)(\n\u001b[0;32m    268\u001b[0m         clone(estimator),\n\u001b[0;32m    269\u001b[0m         X,\n\u001b[0;32m    270\u001b[0m         y,\n\u001b[0;32m    271\u001b[0m         scorers,\n\u001b[0;32m    272\u001b[0m         train,\n\u001b[0;32m    273\u001b[0m         test,\n\u001b[0;32m    274\u001b[0m         verbose,\n\u001b[0;32m    275\u001b[0m         \u001b[39mNone\u001b[39;49;00m,\n\u001b[0;32m    276\u001b[0m         fit_params,\n\u001b[0;32m    277\u001b[0m         return_train_score\u001b[39m=\u001b[39;49mreturn_train_score,\n\u001b[0;32m    278\u001b[0m         return_times\u001b[39m=\u001b[39;49m\u001b[39mTrue\u001b[39;49;00m,\n\u001b[0;32m    279\u001b[0m         return_estimator\u001b[39m=\u001b[39;49mreturn_estimator,\n\u001b[0;32m    280\u001b[0m         error_score\u001b[39m=\u001b[39;49merror_score,\n\u001b[0;32m    281\u001b[0m     )\n\u001b[0;32m    282\u001b[0m     \u001b[39mfor\u001b[39;49;00m train, test \u001b[39min\u001b[39;49;00m cv\u001b[39m.\u001b[39;49msplit(X, y, groups)\n\u001b[0;32m    283\u001b[0m )\n\u001b[0;32m    285\u001b[0m _warn_or_raise_about_fit_failures(results, error_score)\n\u001b[0;32m    287\u001b[0m \u001b[39m# For callabe scoring, the return type is only know after calling. If the\u001b[39;00m\n\u001b[0;32m    288\u001b[0m \u001b[39m# return type is a dictionary, the error scores can now be inserted with\u001b[39;00m\n\u001b[0;32m    289\u001b[0m \u001b[39m# the correct key.\u001b[39;00m\n",
      "File \u001b[1;32mf:\\SamuelOliveiraAlvesd\\Anaconda3\\envs\\Health_Insurance_Cross_Sell\\lib\\site-packages\\joblib\\parallel.py:1056\u001b[0m, in \u001b[0;36mParallel.__call__\u001b[1;34m(self, iterable)\u001b[0m\n\u001b[0;32m   1053\u001b[0m     \u001b[39mself\u001b[39m\u001b[39m.\u001b[39m_iterating \u001b[39m=\u001b[39m \u001b[39mFalse\u001b[39;00m\n\u001b[0;32m   1055\u001b[0m \u001b[39mwith\u001b[39;00m \u001b[39mself\u001b[39m\u001b[39m.\u001b[39m_backend\u001b[39m.\u001b[39mretrieval_context():\n\u001b[1;32m-> 1056\u001b[0m     \u001b[39mself\u001b[39;49m\u001b[39m.\u001b[39;49mretrieve()\n\u001b[0;32m   1057\u001b[0m \u001b[39m# Make sure that we get a last message telling us we are done\u001b[39;00m\n\u001b[0;32m   1058\u001b[0m elapsed_time \u001b[39m=\u001b[39m time\u001b[39m.\u001b[39mtime() \u001b[39m-\u001b[39m \u001b[39mself\u001b[39m\u001b[39m.\u001b[39m_start_time\n",
      "File \u001b[1;32mf:\\SamuelOliveiraAlvesd\\Anaconda3\\envs\\Health_Insurance_Cross_Sell\\lib\\site-packages\\joblib\\parallel.py:935\u001b[0m, in \u001b[0;36mParallel.retrieve\u001b[1;34m(self)\u001b[0m\n\u001b[0;32m    933\u001b[0m \u001b[39mtry\u001b[39;00m:\n\u001b[0;32m    934\u001b[0m     \u001b[39mif\u001b[39;00m \u001b[39mgetattr\u001b[39m(\u001b[39mself\u001b[39m\u001b[39m.\u001b[39m_backend, \u001b[39m'\u001b[39m\u001b[39msupports_timeout\u001b[39m\u001b[39m'\u001b[39m, \u001b[39mFalse\u001b[39;00m):\n\u001b[1;32m--> 935\u001b[0m         \u001b[39mself\u001b[39m\u001b[39m.\u001b[39m_output\u001b[39m.\u001b[39mextend(job\u001b[39m.\u001b[39;49mget(timeout\u001b[39m=\u001b[39;49m\u001b[39mself\u001b[39;49m\u001b[39m.\u001b[39;49mtimeout))\n\u001b[0;32m    936\u001b[0m     \u001b[39melse\u001b[39;00m:\n\u001b[0;32m    937\u001b[0m         \u001b[39mself\u001b[39m\u001b[39m.\u001b[39m_output\u001b[39m.\u001b[39mextend(job\u001b[39m.\u001b[39mget())\n",
      "File \u001b[1;32mf:\\SamuelOliveiraAlvesd\\Anaconda3\\envs\\Health_Insurance_Cross_Sell\\lib\\site-packages\\joblib\\_parallel_backends.py:542\u001b[0m, in \u001b[0;36mLokyBackend.wrap_future_result\u001b[1;34m(future, timeout)\u001b[0m\n\u001b[0;32m    539\u001b[0m \u001b[39m\"\"\"Wrapper for Future.result to implement the same behaviour as\u001b[39;00m\n\u001b[0;32m    540\u001b[0m \u001b[39mAsyncResults.get from multiprocessing.\"\"\"\u001b[39;00m\n\u001b[0;32m    541\u001b[0m \u001b[39mtry\u001b[39;00m:\n\u001b[1;32m--> 542\u001b[0m     \u001b[39mreturn\u001b[39;00m future\u001b[39m.\u001b[39;49mresult(timeout\u001b[39m=\u001b[39;49mtimeout)\n\u001b[0;32m    543\u001b[0m \u001b[39mexcept\u001b[39;00m CfTimeoutError \u001b[39mas\u001b[39;00m e:\n\u001b[0;32m    544\u001b[0m     \u001b[39mraise\u001b[39;00m \u001b[39mTimeoutError\u001b[39;00m \u001b[39mfrom\u001b[39;00m \u001b[39me\u001b[39;00m\n",
      "File \u001b[1;32mf:\\SamuelOliveiraAlvesd\\Anaconda3\\envs\\Health_Insurance_Cross_Sell\\lib\\concurrent\\futures\\_base.py:441\u001b[0m, in \u001b[0;36mFuture.result\u001b[1;34m(self, timeout)\u001b[0m\n\u001b[0;32m    438\u001b[0m \u001b[39melif\u001b[39;00m \u001b[39mself\u001b[39m\u001b[39m.\u001b[39m_state \u001b[39m==\u001b[39m FINISHED:\n\u001b[0;32m    439\u001b[0m     \u001b[39mreturn\u001b[39;00m \u001b[39mself\u001b[39m\u001b[39m.\u001b[39m__get_result()\n\u001b[1;32m--> 441\u001b[0m \u001b[39mself\u001b[39;49m\u001b[39m.\u001b[39;49m_condition\u001b[39m.\u001b[39;49mwait(timeout)\n\u001b[0;32m    443\u001b[0m \u001b[39mif\u001b[39;00m \u001b[39mself\u001b[39m\u001b[39m.\u001b[39m_state \u001b[39min\u001b[39;00m [CANCELLED, CANCELLED_AND_NOTIFIED]:\n\u001b[0;32m    444\u001b[0m     \u001b[39mraise\u001b[39;00m CancelledError()\n",
      "File \u001b[1;32mf:\\SamuelOliveiraAlvesd\\Anaconda3\\envs\\Health_Insurance_Cross_Sell\\lib\\threading.py:312\u001b[0m, in \u001b[0;36mCondition.wait\u001b[1;34m(self, timeout)\u001b[0m\n\u001b[0;32m    310\u001b[0m \u001b[39mtry\u001b[39;00m:    \u001b[39m# restore state no matter what (e.g., KeyboardInterrupt)\u001b[39;00m\n\u001b[0;32m    311\u001b[0m     \u001b[39mif\u001b[39;00m timeout \u001b[39mis\u001b[39;00m \u001b[39mNone\u001b[39;00m:\n\u001b[1;32m--> 312\u001b[0m         waiter\u001b[39m.\u001b[39;49macquire()\n\u001b[0;32m    313\u001b[0m         gotit \u001b[39m=\u001b[39m \u001b[39mTrue\u001b[39;00m\n\u001b[0;32m    314\u001b[0m     \u001b[39melse\u001b[39;00m:\n",
      "\u001b[1;31mKeyboardInterrupt\u001b[0m: "
     ]
    }
   ],
   "source": [
    "from sklearn.model_selection import KFold, cross_val_score\n",
    "from skopt.space import Real, Integer\n",
    "from skopt.utils import use_named_args\n",
    "from skopt import gp_minimize\n",
    "from skopt.callbacks import CheckpointSaver\n",
    "\n",
    "# Search space for hyper parameters\n",
    "search_space = [Integer( 2, 700, name = 'max_bin'),\n",
    "                Integer( 100, 1500, name = 'n_estimators'), \n",
    "                Integer(1, 20, name = 'max_depth'), \n",
    "                Real(0.001, 0.1, 'log-uniform', name = 'learning_rate'),\n",
    "                Integer(2, 128, name = 'num_leaves'),\n",
    "                Integer(1, 100, name = 'min_child_samples'),\n",
    "                Real(0.05, 1.0, name = 'subsample'),\n",
    "                Real(0.15, 1.0, name = 'colsample_bytree')]\n",
    "\n",
    "# model definition\n",
    "lgbm_model = lgb.LGBMRegressor(n_jobs=-1, random_state=42, subsample_freq=1)\n",
    "\n",
    "# applying cross-validation into tunning\n",
    "@use_named_args(search_space)\n",
    "def model_eval( **params ):\n",
    "\t\n",
    "    lgbm_model.set_params(**params)\n",
    "    print(lgbm_model)\n",
    "    kf = KFold(n_splits=10, random_state=42, shuffle=True)  \n",
    "    ft_result = cross_val_score(lgbm_model, X, np.expm1(Y), scoring='neg_mean_absolute_error', cv=kf.split(X), n_jobs=-1, verbose=0)*-1\n",
    "    return np.mean(ft_result)\n",
    "\n",
    "# create checkpoints\n",
    "checkpoint_callback = CheckpointSaver('lgbm_ft.pkl')\n",
    "\n",
    "# return results and run bayesian optimize\n",
    "result = gp_minimize( model_eval, search_space, n_calls = 100, \n",
    "                      n_initial_points = 10, verbose=True, n_jobs=-1, \n",
    "                      random_state= 42, callback=[checkpoint_callback])\n",
    "result"
   ]
  },
  {
   "cell_type": "code",
   "execution_count": null,
   "metadata": {
    "ExecuteTime": {
     "end_time": "2022-08-21T18:51:42.860819Z",
     "start_time": "2022-08-21T18:51:40.062680Z"
    }
   },
   "outputs": [],
   "source": [
    "# join dfs\n",
    "Full_X_train = pd.concat( [X_train, X_val], axis=0 )\n",
    "Full_Y_train = pd.concat( [y_train, y_val], axis=0 )\n",
    "\n",
    "# model\n",
    "model_lgb_full = lgb.LGBMRegressor( n_jobs=-1, random_state=42, subsample_freq=1, max_bin=500, n_estimators = 768, max_depth = 18, learning_rate = 0.02391, num_leaves = 68, min_child_samples = 6, subsample = 0.959787, colsample_bytree = 0.6179 ).fit( Full_X_train, Full_Y_train )\n",
    "\n",
    "# saving trained model\n",
    "pickle.dump( model_lgb_full, open( '/Users/mathe/Repos_ComunidadeDS/mobility_cars_hackday/mobility_cars_lgb.pkl', 'wb' ) )"
   ]
  }
 ],
 "metadata": {
  "deepnote": {},
  "deepnote_execution_queue": [],
  "deepnote_notebook_id": "86967b4a-9342-42f5-be4e-42359f05dce0",
  "kernelspec": {
   "display_name": "Python 3.9.12 ('Health_Insurance_Cross_Sell')",
   "language": "python",
   "name": "python3"
  },
  "language_info": {
   "codemirror_mode": {
    "name": "ipython",
    "version": 3
   },
   "file_extension": ".py",
   "mimetype": "text/x-python",
   "name": "python",
   "nbconvert_exporter": "python",
   "pygments_lexer": "ipython3",
   "version": "3.9.12"
  },
  "vscode": {
   "interpreter": {
    "hash": "df3d6b79a48178a3212a35b7e999043bf15f879d3efd9253b17f405412cf781b"
   }
  }
 },
 "nbformat": 4,
 "nbformat_minor": 2
}
