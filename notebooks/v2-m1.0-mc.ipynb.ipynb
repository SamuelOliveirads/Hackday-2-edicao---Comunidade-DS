{
 "cells": [
  {
   "cell_type": "markdown",
   "metadata": {
    "cell_id": "6bfc8f60fefb49a2a32461afac126896",
    "deepnote_cell_type": "text-cell-h1",
    "formattedRanges": [],
    "is_collapsed": false,
    "number": 0,
    "style": "decimal",
    "tags": []
   },
   "source": [
    "# 0.0. IMPORTS"
   ]
  },
  {
   "cell_type": "code",
   "execution_count": 121,
   "metadata": {
    "cell_id": "54727706-ca7e-4fe1-aecb-4428c5265cb9",
    "deepnote_cell_height": 346,
    "deepnote_cell_type": "code",
    "deepnote_to_be_reexecuted": false,
    "execution_millis": 3675,
    "execution_start": 1661086902786,
    "source_hash": "d3705b62",
    "tags": []
   },
   "outputs": [],
   "source": [
    "import pandas            as pd\n",
    "import numpy             as np\n",
    "import seaborn           as sns\n",
    "import matplotlib.pyplot as plt\n",
    "import xgboost           as xgb\n",
    "\n",
    "\n",
    "#from pycorrcat import pycorrcat\n",
    "\n",
    "from boruta                import BorutaPy\n",
    "from lightgbm              import LGBMRegressor\n",
    "from sklearn.ensemble      import RandomForestRegressor\n",
    "from sklearn.metrics       import mean_absolute_error, mean_absolute_percentage_error, mean_squared_error\n",
    "from sklearn.preprocessing import LabelEncoder, RobustScaler, MinMaxScaler\n",
    "from sklearn.linear_model  import LinearRegression, Lasso\n",
    "\n",
    "from sklearn               import model_selection   as ms\n",
    "from sklearn               import ensemble          as en"
   ]
  },
  {
   "cell_type": "markdown",
   "metadata": {
    "cell_id": "9f2cd792ec6f497180716c8a402c1171",
    "deepnote_cell_type": "text-cell-h2",
    "formattedRanges": [],
    "is_collapsed": false,
    "tags": []
   },
   "source": [
    "## 0.1. Aux Functions"
   ]
  },
  {
   "cell_type": "code",
   "execution_count": 66,
   "metadata": {
    "cell_id": "8af00528bc824108a4a8135bde984010",
    "deepnote_cell_height": 526,
    "deepnote_cell_type": "code",
    "deepnote_to_be_reexecuted": false,
    "execution_millis": 0,
    "execution_start": 1661086906471,
    "source_hash": "5114458d",
    "tags": []
   },
   "outputs": [],
   "source": [
    "def settings():\n",
    "    plt.style.use('bmh')\n",
    "    plt.rcParams['figure.figsize'] = [25,12]\n",
    "    plt.rcParams['font.size'] = 24\n",
    "    plt.rcParams['figure.dpi'] = 100\n",
    "    sns.set()\n",
    "\n",
    "\n",
    "def ml_error( model_name, ytest, yhat ):\n",
    "    mae = mean_absolute_error( ytest, yhat )\n",
    "    mape = mean_absolute_percentage_error( ytest, yhat )\n",
    "    rmse = np.sqrt( mean_squared_error( ytest, yhat ) )\n",
    "    \n",
    "    return pd.DataFrame( {'Model name': model_name,\n",
    "                          'MAE': mae,\n",
    "                          'MAPE': mape,\n",
    "                          'RMSE': rmse }, index=[0] )\n",
    "\n",
    "def analise_bivariada(df,column):\n",
    "    aux1=df[[column,'preco']].groupby(column).mean().reset_index()\n",
    "    aux2=df[[column,'preco']].groupby(column).median().reset_index()\n",
    "    plt.figure(figsize=(15,10))\n",
    "    plt.subplot(2,1,1)\n",
    "    sns.barplot(x=column,y='preco',data=aux1)\n",
    "    plt.subplot(2,1,2)\n",
    "    sns.barplot(x=column,y='preco',data=aux2)\n",
    "\n",
    "\n",
    "def ml_error(model_name, y, yhat):\n",
    "    mae = mean_absolute_error(y, yhat)\n",
    "    mape = mean_absolute_percentage_error(y, yhat)\n",
    "    rmse = np.sqrt(mean_squared_error(y, yhat))\n",
    "    \n",
    "    return pd.DataFrame({'Model Name': model_name,\n",
    "                         'MAE' : mae,\n",
    "                         'MAPE': mape,\n",
    "                         'RMSE': rmse}, index=[0])\n",
    "\n",
    "\n",
    "def runCrossValidation(model, x_train, x_val_ml, y_train, y_val, n_splits, n_repeats, verbose=False):\n",
    "    '''\n",
    "    Make cross validation with parameters of total ranking (k)\n",
    "    return a dataframe with metrics of precision and recall at k\n",
    "    '''\n",
    "    # local import\n",
    "    from sklearn.model_selection import RepeatedStratifiedKFold\n",
    "\n",
    "    \n",
    "    if verbose:\n",
    "        # the lenght_msg is to print only once a specific message\n",
    "        length_msg = True\n",
    "        i = 1\n",
    "    \n",
    "    # the seed usage provides repeatability \n",
    "    np.random.seed(1231234)\n",
    "    \n",
    "    # it is necessary to join the train and validation datasets\n",
    "    x = pd.concat([x_train, x_val_ml])\n",
    "    y = pd.concat([y_train, y_val])\n",
    "    \n",
    "    \n",
    "    # definition of the cross-validation strategy\n",
    "    # - the \"n_splits\" parameter is the number of folds (k)\n",
    "    # - the \"n_repeats\" parameter is the number of times cross-validator needs to \n",
    "    #   be repeated\n",
    "    cv = RepeatedStratifiedKFold(n_splits = n_splits, n_repeats = n_repeats )\n",
    "    \n",
    "    mae_list = []\n",
    "    mape_list = []\n",
    "    rmse_list = []\n",
    "    \n",
    "    for train_index, prim_val_index in cv.split(x, y):      \n",
    "        x_training, x_prim_val = x.iloc[train_index], x.iloc[prim_val_index]\n",
    "        y_training, y_prim_val = y.iloc[train_index], y.iloc[prim_val_index]\n",
    "        \n",
    "        if (verbose == True) and (length_msg == True):\n",
    "            print(f'training_lenght:{x_training.shape[0]}\\nvalidation_lenght:{x_prim_val.shape[0]}\\n\\n')\n",
    "            length_msg = False\n",
    "        \n",
    "        if verbose:\n",
    "            print(f'Iteration number:{i}')\n",
    "            i += 1\n",
    "\n",
    "        # fit and predict_proba\n",
    "        model.fit(x_training, y_training)\n",
    "        yhat = model.predict(x_prim_val)\n",
    "        \n",
    "        # performance\n",
    "        m_result = ml_error(model_name, np.expm1(yvalidation), np.expm1(yhat))\n",
    "        \n",
    "        # store performance of each kfold iteration\n",
    "        mae_list.append(m_result['MAE'])\n",
    "        mape_list.append(m_result['MAPE'])\n",
    "        rmse_list.append(m_result['RMSE'])\n",
    "    return pd.DataFrame({'Model name': model_name,\n",
    "                        'MAE CV': np.round(np.mean(mae_list), 2).astype(str) + ' +/- ' + np.round(np.std(mae_list), 2).astype(str),\n",
    "                        'MAPE CV': np.round(np.mean(mape_list), 2).astype(str) + ' +/- ' + np.round(np.std(mape_list), 2).astype(str),\n",
    "                        'RMSE CV': np.round(np.mean(rmse_list), 2).astype(str) + ' +/- ' + np.round(np.std(rmse_list), 2).astype(str)}, index=[0])"
   ]
  },
  {
   "cell_type": "markdown",
   "metadata": {
    "cell_id": "922d102b0015459ca96ce3795940b967",
    "deepnote_cell_type": "text-cell-h2",
    "formattedRanges": [],
    "is_collapsed": false,
    "tags": []
   },
   "source": [
    "## 0.2. Reading Data"
   ]
  },
  {
   "cell_type": "code",
   "execution_count": 10,
   "metadata": {
    "cell_id": "e1bd923194c840039f0b076f4ec66b74",
    "deepnote_cell_height": 94,
    "deepnote_cell_type": "code",
    "deepnote_to_be_reexecuted": false,
    "execution_millis": 501,
    "execution_start": 1661086906479,
    "source_hash": "6a49ea95",
    "tags": []
   },
   "outputs": [],
   "source": [
    "df_raw=pd.read_csv('work/treino.csv')\n",
    "df_test=pd.read_csv('work/teste.csv')"
   ]
  },
  {
   "cell_type": "markdown",
   "metadata": {
    "cell_id": "fd13aad6-6bbf-48f6-af9b-24c5bc05d374",
    "deepnote_cell_type": "text-cell-p",
    "formattedRanges": [],
    "is_collapsed": false,
    "number": 0,
    "style": "decimal",
    "tags": []
   },
   "source": []
  },
  {
   "cell_type": "markdown",
   "metadata": {
    "cell_id": "c6c21ee6dd9c40d5bb6af32be115ce6c",
    "deepnote_cell_type": "text-cell-h1",
    "formattedRanges": [],
    "is_collapsed": false,
    "number": 1,
    "style": "decimal",
    "tags": []
   },
   "source": [
    "# 1.0. DESCRIÇÃO DOS DADOS"
   ]
  },
  {
   "cell_type": "code",
   "execution_count": 11,
   "metadata": {
    "cell_id": "73b5415c314b4ae8948e6b99ebd7d0ff",
    "deepnote_cell_height": 256,
    "deepnote_cell_type": "code",
    "deepnote_to_be_reexecuted": false,
    "execution_millis": 5,
    "execution_start": 1661086906990,
    "source_hash": "662740f4",
    "tags": []
   },
   "outputs": [],
   "source": [
    "df1=df_raw.copy()\n",
    "df1.columns=['id', 'num_fotos', 'marca', 'modelo', 'versao', 'ano_de_fabricacao',\n",
    "       'ano_modelo', 'odometro', 'cambio', 'num_portas', 'tipo', 'blindado',\n",
    "       'cor', 'tipo_vendedor', 'cidade_vendedor', 'estado_vendedor',\n",
    "       'tipo_anuncio', 'entrega_delivery', 'troca', 'elegivel_revisao',\n",
    "       'attr_veiculo_aceita_troca', 'attr_veiculo_unico_dono',\n",
    "       'attr_veiculo_todas_as_revisoes_feitas_pela_concessionaria',\n",
    "       'attr_veiculo_ipva_pago', 'attr_veiculo_licenciado',\n",
    "       'attr_veiculo_garantia_de_fabrica',\n",
    "       'attr_veiculo_todas_as_revisoes_feitas_pela_agenda_do_carro',\n",
    "       'attr_veiculo_alienado', 'preco']"
   ]
  },
  {
   "cell_type": "markdown",
   "metadata": {
    "cell_id": "ef7358498f3c48abb547dd0fef8d1ec0",
    "deepnote_cell_type": "text-cell-h2",
    "formattedRanges": [],
    "is_collapsed": false,
    "tags": []
   },
   "source": [
    "## 1.1. Dimensão dos Dados"
   ]
  },
  {
   "cell_type": "code",
   "execution_count": 12,
   "metadata": {
    "cell_id": "6d9e5c7697984803a463157498984843",
    "deepnote_cell_height": 112.1875,
    "deepnote_cell_type": "code",
    "deepnote_output_heights": [
     20.1875
    ],
    "deepnote_to_be_reexecuted": false,
    "execution_millis": 4,
    "execution_start": 1661086907005,
    "source_hash": "effe9690",
    "tags": []
   },
   "outputs": [
    {
     "data": {
      "text/plain": [
       "(39446, 29)"
      ]
     },
     "execution_count": 12,
     "metadata": {},
     "output_type": "execute_result"
    }
   ],
   "source": [
    "df1.shape"
   ]
  },
  {
   "cell_type": "markdown",
   "metadata": {
    "cell_id": "a8bf769327fa4111b6ea22d988656c3d",
    "deepnote_cell_type": "text-cell-h2",
    "formattedRanges": [],
    "is_collapsed": false,
    "tags": []
   },
   "source": [
    "## 1.2. NA Check"
   ]
  },
  {
   "cell_type": "code",
   "execution_count": 13,
   "metadata": {
    "cell_id": "5926b61539724d5696df1ad7788e1b3f",
    "deepnote_cell_height": 668.625,
    "deepnote_cell_type": "code",
    "deepnote_output_heights": [
     576.625
    ],
    "deepnote_to_be_reexecuted": false,
    "execution_millis": 76,
    "execution_start": 1661086907052,
    "source_hash": "59626415",
    "tags": []
   },
   "outputs": [
    {
     "data": {
      "text/plain": [
       "id                                                                0\n",
       "num_fotos                                                       237\n",
       "marca                                                             0\n",
       "modelo                                                            0\n",
       "versao                                                            0\n",
       "ano_de_fabricacao                                                 0\n",
       "ano_modelo                                                        0\n",
       "odometro                                                          0\n",
       "cambio                                                            0\n",
       "num_portas                                                        0\n",
       "tipo                                                              0\n",
       "blindado                                                          0\n",
       "cor                                                               0\n",
       "tipo_vendedor                                                     0\n",
       "cidade_vendedor                                                   0\n",
       "estado_vendedor                                                   0\n",
       "tipo_anuncio                                                      0\n",
       "entrega_delivery                                                  0\n",
       "troca                                                             0\n",
       "elegivel_revisao                                                  0\n",
       "attr_veiculo_aceita_troca                                     10216\n",
       "attr_veiculo_unico_dono                                       25548\n",
       "attr_veiculo_todas_as_revisoes_feitas_pela_concessionaria     27207\n",
       "attr_veiculo_ipva_pago                                        13223\n",
       "attr_veiculo_licenciado                                       18196\n",
       "attr_veiculo_garantia_de_fabrica                              33658\n",
       "attr_veiculo_todas_as_revisoes_feitas_pela_agenda_do_carro    31543\n",
       "attr_veiculo_alienado                                         39446\n",
       "preco                                                             0\n",
       "dtype: int64"
      ]
     },
     "execution_count": 13,
     "metadata": {},
     "output_type": "execute_result"
    }
   ],
   "source": [
    "df1.isna().sum()"
   ]
  },
  {
   "cell_type": "markdown",
   "metadata": {
    "cell_id": "94541d0ef0a24c7186e14e88009b87db",
    "deepnote_cell_type": "text-cell-h3",
    "formattedRanges": [],
    "is_collapsed": false,
    "tags": []
   },
   "source": [
    "### 1.2.1. Fillout NA"
   ]
  },
  {
   "cell_type": "code",
   "execution_count": 14,
   "metadata": {
    "cell_id": "360a084018444b988ea75bb381b1de96",
    "deepnote_cell_height": 207,
    "deepnote_cell_type": "code",
    "deepnote_to_be_reexecuted": false,
    "execution_millis": 141,
    "execution_start": 1661086907068,
    "source_hash": "9541abd7",
    "tags": []
   },
   "outputs": [],
   "source": [
    "df1['num_fotos']=df1['num_fotos'].fillna(0)\n",
    "df1['attr_veiculo_aceita_troca'] = df1['attr_veiculo_aceita_troca'].apply(lambda x: 1 if x=='Aceita troca' else 0)\n",
    "df1['attr_veiculo_unico_dono'] = df1['attr_veiculo_unico_dono'].apply(lambda x: 1 if x=='Único dono' else 0)\n",
    "df1['attr_veiculo_todas_as_revisoes_feitas_pela_concessionaria'] = df1['attr_veiculo_todas_as_revisoes_feitas_pela_concessionaria'].apply(lambda x: 1 if x=='Todas as revisões feitas pela concessionária' else 0)\n",
    "df1['attr_veiculo_ipva_pago'] = df1['attr_veiculo_ipva_pago'].apply(lambda x: 1 if x=='IPVA pago' else 0)\n",
    "df1['attr_veiculo_licenciado'] = df1['attr_veiculo_licenciado'].apply(lambda x: 1 if x=='Licenciado' else 0)\n",
    "df1['attr_veiculo_garantia_de_fabrica'] = df1['attr_veiculo_garantia_de_fabrica'].apply(lambda x: 1 if x=='Garantia de fábrica' else 0)\n",
    "df1['attr_veiculo_todas_as_revisoes_feitas_pela_agenda_do_carro'] = df1['attr_veiculo_todas_as_revisoes_feitas_pela_agenda_do_carro'].apply(lambda x: 1 if x=='Todas as revisões feitas pela agenda do carro' else 0)"
   ]
  },
  {
   "cell_type": "markdown",
   "metadata": {
    "cell_id": "40282b891bb541799167afc82716d18e",
    "deepnote_cell_type": "text-cell-h2",
    "formattedRanges": [],
    "is_collapsed": false,
    "tags": []
   },
   "source": [
    "## 1.3. Tipos dos Dados"
   ]
  },
  {
   "cell_type": "code",
   "execution_count": 15,
   "metadata": {
    "cell_id": "33490acf3dd7461a894c3d711d9919b4",
    "deepnote_cell_height": 668.625,
    "deepnote_cell_type": "code",
    "deepnote_output_heights": [
     576.625
    ],
    "deepnote_to_be_reexecuted": false,
    "execution_millis": 771,
    "execution_start": 1661086907216,
    "source_hash": "b02ce5c",
    "tags": []
   },
   "outputs": [
    {
     "data": {
      "text/plain": [
       "id                                                             object\n",
       "num_fotos                                                     float64\n",
       "marca                                                          object\n",
       "modelo                                                         object\n",
       "versao                                                         object\n",
       "ano_de_fabricacao                                               int64\n",
       "ano_modelo                                                    float64\n",
       "odometro                                                      float64\n",
       "cambio                                                         object\n",
       "num_portas                                                      int64\n",
       "tipo                                                           object\n",
       "blindado                                                       object\n",
       "cor                                                            object\n",
       "tipo_vendedor                                                  object\n",
       "cidade_vendedor                                                object\n",
       "estado_vendedor                                                object\n",
       "tipo_anuncio                                                   object\n",
       "entrega_delivery                                                 bool\n",
       "troca                                                            bool\n",
       "elegivel_revisao                                                 bool\n",
       "attr_veiculo_aceita_troca                                       int64\n",
       "attr_veiculo_unico_dono                                         int64\n",
       "attr_veiculo_todas_as_revisoes_feitas_pela_concessionaria       int64\n",
       "attr_veiculo_ipva_pago                                          int64\n",
       "attr_veiculo_licenciado                                         int64\n",
       "attr_veiculo_garantia_de_fabrica                                int64\n",
       "attr_veiculo_todas_as_revisoes_feitas_pela_agenda_do_carro      int64\n",
       "attr_veiculo_alienado                                         float64\n",
       "preco                                                         float64\n",
       "dtype: object"
      ]
     },
     "execution_count": 15,
     "metadata": {},
     "output_type": "execute_result"
    }
   ],
   "source": [
    "df1.dtypes"
   ]
  },
  {
   "cell_type": "markdown",
   "metadata": {
    "cell_id": "d0bebb5a9f88461698532306e2b60c25",
    "deepnote_cell_type": "text-cell-h3",
    "formattedRanges": [],
    "is_collapsed": false,
    "tags": []
   },
   "source": [
    "### 1.3.1. Change data types"
   ]
  },
  {
   "cell_type": "code",
   "execution_count": 16,
   "metadata": {
    "cell_id": "bbbe958ae05b4340bfb7ac0fd517d333",
    "deepnote_cell_height": 261,
    "deepnote_cell_type": "code",
    "deepnote_to_be_reexecuted": false,
    "execution_millis": 44,
    "execution_start": 1661086907262,
    "source_hash": "4f5e8399",
    "tags": []
   },
   "outputs": [],
   "source": [
    "df1['num_fotos']=df1['num_fotos'].astype('int64')\n",
    "df1['ano_modelo']=df1['ano_modelo'].astype('int64')\n",
    "df1['odometro']=df1['odometro'].astype('int64')\n",
    "df1['attr_veiculo_aceita_troca']=df1['attr_veiculo_aceita_troca'].astype('int64')\n",
    "df1['attr_veiculo_unico_dono']=df1['attr_veiculo_unico_dono'].astype('int64')\n",
    "df1['attr_veiculo_todas_as_revisoes_feitas_pela_concessionaria']=df1['attr_veiculo_todas_as_revisoes_feitas_pela_concessionaria'].astype('int64')\n",
    "df1['attr_veiculo_ipva_pago']=df1['attr_veiculo_ipva_pago'].astype('int64')\n",
    "df1['attr_veiculo_licenciado']=df1['attr_veiculo_licenciado'].astype('int64')\n",
    "df1['attr_veiculo_garantia_de_fabrica']=df1['attr_veiculo_garantia_de_fabrica'].astype('int64')\n",
    "df1['attr_veiculo_todas_as_revisoes_feitas_pela_agenda_do_carro']=df1['attr_veiculo_todas_as_revisoes_feitas_pela_agenda_do_carro'].astype('int64')\n",
    "df1['attr_veiculo_alienado']=df1['attr_veiculo_alienado'].astype(str)"
   ]
  },
  {
   "cell_type": "markdown",
   "metadata": {
    "cell_id": "4ee52c3b9eff40eab4b813aabc90a500",
    "deepnote_cell_type": "text-cell-h2",
    "formattedRanges": [],
    "is_collapsed": false,
    "tags": []
   },
   "source": [
    "## 1.4. Estatística Descritiva"
   ]
  },
  {
   "cell_type": "code",
   "execution_count": 17,
   "metadata": {
    "cell_id": "d5f014a951a54fbfba5dde5508c38029",
    "deepnote_cell_height": 94,
    "deepnote_cell_type": "code",
    "deepnote_to_be_reexecuted": false,
    "execution_millis": 1,
    "execution_start": 1661086907306,
    "source_hash": "ae3f5700",
    "tags": []
   },
   "outputs": [],
   "source": [
    "num_attr=df1.select_dtypes(include=['int64','float64'])\n",
    "cat_attr=df1.select_dtypes(exclude=['int64','float64'])"
   ]
  },
  {
   "cell_type": "markdown",
   "metadata": {
    "cell_id": "b4817b61692f47dc97dc34b643fdf7d6",
    "deepnote_cell_type": "text-cell-h3",
    "formattedRanges": [],
    "is_collapsed": false,
    "tags": []
   },
   "source": [
    "### 1.4.1 Atributos Numéricos"
   ]
  },
  {
   "cell_type": "code",
   "execution_count": 18,
   "metadata": {
    "cell_id": "099f243a109a4cb29190bba35a11767f",
    "deepnote_cell_height": 595,
    "deepnote_cell_type": "code",
    "deepnote_table_loading": false,
    "deepnote_table_state": {
     "filters": [],
     "pageIndex": 1,
     "pageSize": 10,
     "sortBy": []
    },
    "deepnote_to_be_reexecuted": false,
    "execution_millis": 683,
    "execution_start": 1661086907307,
    "source_hash": "3adbd1d5",
    "tags": []
   },
   "outputs": [
    {
     "data": {
      "text/html": [
       "<div>\n",
       "<style scoped>\n",
       "    .dataframe tbody tr th:only-of-type {\n",
       "        vertical-align: middle;\n",
       "    }\n",
       "\n",
       "    .dataframe tbody tr th {\n",
       "        vertical-align: top;\n",
       "    }\n",
       "\n",
       "    .dataframe thead th {\n",
       "        text-align: right;\n",
       "    }\n",
       "</style>\n",
       "<table border=\"1\" class=\"dataframe\">\n",
       "  <thead>\n",
       "    <tr style=\"text-align: right;\">\n",
       "      <th></th>\n",
       "      <th>attributes</th>\n",
       "      <th>min</th>\n",
       "      <th>max</th>\n",
       "      <th>range</th>\n",
       "      <th>mean</th>\n",
       "      <th>median</th>\n",
       "      <th>std</th>\n",
       "      <th>skew</th>\n",
       "      <th>kurtosis</th>\n",
       "    </tr>\n",
       "  </thead>\n",
       "  <tbody>\n",
       "    <tr>\n",
       "      <th>0</th>\n",
       "      <td>num_fotos</td>\n",
       "      <td>0.000000</td>\n",
       "      <td>2.100000e+01</td>\n",
       "      <td>2.100000e+01</td>\n",
       "      <td>10.261801</td>\n",
       "      <td>8.000000</td>\n",
       "      <td>3.561070</td>\n",
       "      <td>0.831612</td>\n",
       "      <td>-0.397392</td>\n",
       "    </tr>\n",
       "    <tr>\n",
       "      <th>1</th>\n",
       "      <td>ano_de_fabricacao</td>\n",
       "      <td>1985.000000</td>\n",
       "      <td>2.022000e+03</td>\n",
       "      <td>3.700000e+01</td>\n",
       "      <td>2016.748137</td>\n",
       "      <td>2018.000000</td>\n",
       "      <td>4.084710</td>\n",
       "      <td>-2.512826</td>\n",
       "      <td>9.277637</td>\n",
       "    </tr>\n",
       "    <tr>\n",
       "      <th>2</th>\n",
       "      <td>ano_modelo</td>\n",
       "      <td>1997.000000</td>\n",
       "      <td>2.023000e+03</td>\n",
       "      <td>2.600000e+01</td>\n",
       "      <td>2017.807154</td>\n",
       "      <td>2018.000000</td>\n",
       "      <td>2.675300</td>\n",
       "      <td>-0.498274</td>\n",
       "      <td>-0.534887</td>\n",
       "    </tr>\n",
       "    <tr>\n",
       "      <th>3</th>\n",
       "      <td>odometro</td>\n",
       "      <td>100.000000</td>\n",
       "      <td>3.900650e+05</td>\n",
       "      <td>3.899650e+05</td>\n",
       "      <td>58382.243371</td>\n",
       "      <td>57244.500000</td>\n",
       "      <td>32542.380554</td>\n",
       "      <td>0.606748</td>\n",
       "      <td>1.251382</td>\n",
       "    </tr>\n",
       "    <tr>\n",
       "      <th>4</th>\n",
       "      <td>num_portas</td>\n",
       "      <td>2.000000</td>\n",
       "      <td>4.000000e+00</td>\n",
       "      <td>2.000000e+00</td>\n",
       "      <td>3.941135</td>\n",
       "      <td>4.000000</td>\n",
       "      <td>0.337206</td>\n",
       "      <td>-5.568483</td>\n",
       "      <td>29.052409</td>\n",
       "    </tr>\n",
       "    <tr>\n",
       "      <th>5</th>\n",
       "      <td>attr_veiculo_aceita_troca</td>\n",
       "      <td>0.000000</td>\n",
       "      <td>1.000000e+00</td>\n",
       "      <td>1.000000e+00</td>\n",
       "      <td>0.741013</td>\n",
       "      <td>1.000000</td>\n",
       "      <td>0.438078</td>\n",
       "      <td>-1.100361</td>\n",
       "      <td>-0.789246</td>\n",
       "    </tr>\n",
       "    <tr>\n",
       "      <th>6</th>\n",
       "      <td>attr_veiculo_unico_dono</td>\n",
       "      <td>0.000000</td>\n",
       "      <td>1.000000e+00</td>\n",
       "      <td>1.000000e+00</td>\n",
       "      <td>0.352330</td>\n",
       "      <td>0.000000</td>\n",
       "      <td>0.477696</td>\n",
       "      <td>0.618284</td>\n",
       "      <td>-1.617807</td>\n",
       "    </tr>\n",
       "    <tr>\n",
       "      <th>7</th>\n",
       "      <td>attr_veiculo_todas_as_revisoes_feitas_pela_con...</td>\n",
       "      <td>0.000000</td>\n",
       "      <td>1.000000e+00</td>\n",
       "      <td>1.000000e+00</td>\n",
       "      <td>0.310272</td>\n",
       "      <td>0.000000</td>\n",
       "      <td>0.462605</td>\n",
       "      <td>0.820289</td>\n",
       "      <td>-1.327193</td>\n",
       "    </tr>\n",
       "    <tr>\n",
       "      <th>8</th>\n",
       "      <td>attr_veiculo_ipva_pago</td>\n",
       "      <td>0.000000</td>\n",
       "      <td>1.000000e+00</td>\n",
       "      <td>1.000000e+00</td>\n",
       "      <td>0.664782</td>\n",
       "      <td>1.000000</td>\n",
       "      <td>0.472067</td>\n",
       "      <td>-0.698158</td>\n",
       "      <td>-1.512652</td>\n",
       "    </tr>\n",
       "    <tr>\n",
       "      <th>9</th>\n",
       "      <td>attr_veiculo_licenciado</td>\n",
       "      <td>0.000000</td>\n",
       "      <td>1.000000e+00</td>\n",
       "      <td>1.000000e+00</td>\n",
       "      <td>0.538711</td>\n",
       "      <td>1.000000</td>\n",
       "      <td>0.498499</td>\n",
       "      <td>-0.155317</td>\n",
       "      <td>-1.975977</td>\n",
       "    </tr>\n",
       "    <tr>\n",
       "      <th>10</th>\n",
       "      <td>attr_veiculo_garantia_de_fabrica</td>\n",
       "      <td>0.000000</td>\n",
       "      <td>1.000000e+00</td>\n",
       "      <td>1.000000e+00</td>\n",
       "      <td>0.146732</td>\n",
       "      <td>0.000000</td>\n",
       "      <td>0.353839</td>\n",
       "      <td>1.996848</td>\n",
       "      <td>1.987504</td>\n",
       "    </tr>\n",
       "    <tr>\n",
       "      <th>11</th>\n",
       "      <td>attr_veiculo_todas_as_revisoes_feitas_pela_age...</td>\n",
       "      <td>0.000000</td>\n",
       "      <td>1.000000e+00</td>\n",
       "      <td>1.000000e+00</td>\n",
       "      <td>0.200350</td>\n",
       "      <td>0.000000</td>\n",
       "      <td>0.400262</td>\n",
       "      <td>1.497326</td>\n",
       "      <td>0.241999</td>\n",
       "    </tr>\n",
       "    <tr>\n",
       "      <th>12</th>\n",
       "      <td>preco</td>\n",
       "      <td>7258.159943</td>\n",
       "      <td>1.359813e+06</td>\n",
       "      <td>1.352555e+06</td>\n",
       "      <td>133385.874348</td>\n",
       "      <td>114307.970618</td>\n",
       "      <td>82383.927619</td>\n",
       "      <td>2.226090</td>\n",
       "      <td>12.357643</td>\n",
       "    </tr>\n",
       "  </tbody>\n",
       "</table>\n",
       "</div>"
      ],
      "text/plain": [
       "                                           attributes          min  \\\n",
       "0                                           num_fotos     0.000000   \n",
       "1                                   ano_de_fabricacao  1985.000000   \n",
       "2                                          ano_modelo  1997.000000   \n",
       "3                                            odometro   100.000000   \n",
       "4                                          num_portas     2.000000   \n",
       "5                           attr_veiculo_aceita_troca     0.000000   \n",
       "6                             attr_veiculo_unico_dono     0.000000   \n",
       "7   attr_veiculo_todas_as_revisoes_feitas_pela_con...     0.000000   \n",
       "8                              attr_veiculo_ipva_pago     0.000000   \n",
       "9                             attr_veiculo_licenciado     0.000000   \n",
       "10                   attr_veiculo_garantia_de_fabrica     0.000000   \n",
       "11  attr_veiculo_todas_as_revisoes_feitas_pela_age...     0.000000   \n",
       "12                                              preco  7258.159943   \n",
       "\n",
       "             max         range           mean         median           std  \\\n",
       "0   2.100000e+01  2.100000e+01      10.261801       8.000000      3.561070   \n",
       "1   2.022000e+03  3.700000e+01    2016.748137    2018.000000      4.084710   \n",
       "2   2.023000e+03  2.600000e+01    2017.807154    2018.000000      2.675300   \n",
       "3   3.900650e+05  3.899650e+05   58382.243371   57244.500000  32542.380554   \n",
       "4   4.000000e+00  2.000000e+00       3.941135       4.000000      0.337206   \n",
       "5   1.000000e+00  1.000000e+00       0.741013       1.000000      0.438078   \n",
       "6   1.000000e+00  1.000000e+00       0.352330       0.000000      0.477696   \n",
       "7   1.000000e+00  1.000000e+00       0.310272       0.000000      0.462605   \n",
       "8   1.000000e+00  1.000000e+00       0.664782       1.000000      0.472067   \n",
       "9   1.000000e+00  1.000000e+00       0.538711       1.000000      0.498499   \n",
       "10  1.000000e+00  1.000000e+00       0.146732       0.000000      0.353839   \n",
       "11  1.000000e+00  1.000000e+00       0.200350       0.000000      0.400262   \n",
       "12  1.359813e+06  1.352555e+06  133385.874348  114307.970618  82383.927619   \n",
       "\n",
       "        skew   kurtosis  \n",
       "0   0.831612  -0.397392  \n",
       "1  -2.512826   9.277637  \n",
       "2  -0.498274  -0.534887  \n",
       "3   0.606748   1.251382  \n",
       "4  -5.568483  29.052409  \n",
       "5  -1.100361  -0.789246  \n",
       "6   0.618284  -1.617807  \n",
       "7   0.820289  -1.327193  \n",
       "8  -0.698158  -1.512652  \n",
       "9  -0.155317  -1.975977  \n",
       "10  1.996848   1.987504  \n",
       "11  1.497326   0.241999  \n",
       "12  2.226090  12.357643  "
      ]
     },
     "execution_count": 18,
     "metadata": {},
     "output_type": "execute_result"
    }
   ],
   "source": [
    "# Central Tendency - mean, median\n",
    "ct1=pd.DataFrame(num_attr.apply(np.mean)).T\n",
    "ct2=pd.DataFrame(num_attr.apply(np.median)).T\n",
    "\n",
    "# Dispersion - std, min, max, range, skew, kurtosis\n",
    "d1=pd.DataFrame(num_attr.apply(np.std)).T\n",
    "d2=pd.DataFrame(num_attr.apply(min)).T\n",
    "d3=pd.DataFrame(num_attr.apply(max)).T\n",
    "d4=pd.DataFrame(num_attr.apply(lambda x: x.max()-x.min())).T\n",
    "d5=pd.DataFrame(num_attr.apply(lambda x: x.skew())).T\n",
    "d6=pd.DataFrame(num_attr.apply(lambda x: x.kurtosis())).T\n",
    "\n",
    "# Concatenate\n",
    "m=pd.concat([d2,d3,d4,ct1,ct2,d1,d5,d6]).T.reset_index()\n",
    "m.columns=['attributes','min','max','range','mean','median','std','skew','kurtosis']\n",
    "m"
   ]
  },
  {
   "cell_type": "markdown",
   "metadata": {
    "cell_id": "fdba1dcf36414c8488ae560395b59346",
    "deepnote_cell_type": "text-cell-h3",
    "formattedRanges": [],
    "is_collapsed": false,
    "tags": []
   },
   "source": [
    "### 1.4.2. Atributos Categóricos"
   ]
  },
  {
   "cell_type": "code",
   "execution_count": 19,
   "metadata": {
    "cell_id": "9668ddcb457443f5a5323dca8147dc11",
    "deepnote_cell_height": 419.1875,
    "deepnote_cell_type": "code",
    "deepnote_output_heights": [
     327.1875
    ],
    "deepnote_to_be_reexecuted": false,
    "execution_millis": 394,
    "execution_start": 1661086907597,
    "source_hash": "aa61c9b0",
    "tags": []
   },
   "outputs": [
    {
     "data": {
      "text/plain": [
       "id                       39446\n",
       "marca                       41\n",
       "modelo                     473\n",
       "versao                    2058\n",
       "cambio                       7\n",
       "tipo                         8\n",
       "blindado                     2\n",
       "cor                          8\n",
       "tipo_vendedor                2\n",
       "cidade_vendedor            648\n",
       "estado_vendedor             25\n",
       "tipo_anuncio                 4\n",
       "entrega_delivery             2\n",
       "troca                        2\n",
       "elegivel_revisao             1\n",
       "attr_veiculo_alienado        1\n",
       "dtype: int64"
      ]
     },
     "execution_count": 19,
     "metadata": {},
     "output_type": "execute_result"
    }
   ],
   "source": [
    "cat_attr.apply(lambda x: x.unique().shape[0])"
   ]
  },
  {
   "cell_type": "code",
   "execution_count": 20,
   "metadata": {
    "cell_id": "a39974250c8a496a8a4db5c09ed06f20",
    "deepnote_cell_height": 1005.1875,
    "deepnote_cell_type": "code",
    "deepnote_output_heights": [
     20.1875,
     610
    ],
    "deepnote_to_be_reexecuted": false,
    "execution_millis": 1604,
    "execution_start": 1661086907641,
    "source_hash": "25b39477",
    "tags": []
   },
   "outputs": [
    {
     "data": {
      "text/plain": [
       "<AxesSubplot:xlabel='tipo_vendedor', ylabel='preco'>"
      ]
     },
     "execution_count": 20,
     "metadata": {},
     "output_type": "execute_result"
    },
    {
     "data": {
      "image/png": "[encoded data removed]",
      "text/plain": [
       "<Figure size 1440x2160 with 7 Axes>"
      ]
     },
     "metadata": {
      "needs_background": "light"
     },
     "output_type": "display_data"
    }
   ],
   "source": [
    "plt.figure(figsize=(20,30))\n",
    "plt.subplot(5,2,(1,2))\n",
    "sns.boxplot(x='cambio',y='preco',data=df1)\n",
    "plt.subplot(5,2,(3,4))\n",
    "sns.boxplot(x='tipo',y='preco',data=df1)\n",
    "plt.subplot(5,2,(5,6))\n",
    "sns.boxplot(x='cor',y='preco',data=df1)\n",
    "plt.subplot(5,2,7)\n",
    "sns.boxplot(x='entrega_delivery',y='preco',data=df1)\n",
    "plt.subplot(5,2,8)\n",
    "sns.boxplot(x='troca',y='preco',data=df1)\n",
    "plt.subplot(5,2,9)\n",
    "sns.boxplot(x='blindado',y='preco',data=df1)\n",
    "plt.subplot(5,2,10)\n",
    "sns.boxplot(x='tipo_vendedor',y='preco',data=df1)"
   ]
  },
  {
   "cell_type": "markdown",
   "metadata": {
    "cell_id": "bf485ea169954f4693a548ce196a882e",
    "deepnote_cell_type": "text-cell-h1",
    "formattedRanges": [],
    "is_collapsed": false,
    "tags": []
   },
   "source": [
    "# 2.0. FEATURE ENGINEERING"
   ]
  },
  {
   "cell_type": "code",
   "execution_count": 21,
   "metadata": {
    "cell_id": "4a7a4dc56fb546d397530df912b80736",
    "deepnote_cell_height": 76,
    "deepnote_cell_type": "code",
    "deepnote_to_be_reexecuted": false,
    "execution_millis": 1,
    "execution_start": 1661086909301,
    "source_hash": "961b4b36",
    "tags": []
   },
   "outputs": [],
   "source": [
    "df2 = df1.copy()"
   ]
  },
  {
   "cell_type": "markdown",
   "metadata": {
    "cell_id": "6220b58774714e1490be9a1d4baee448",
    "deepnote_cell_type": "text-cell-h2",
    "formattedRanges": [],
    "is_collapsed": false,
    "tags": []
   },
   "source": [
    "## 2.1. Mapa Mental de Hipóteses"
   ]
  },
  {
   "cell_type": "markdown",
   "metadata": {
    "cell_id": "f5f344e3884648aa91255ad70c2ceeb4",
    "deepnote_cell_type": "text-cell-h2",
    "formattedRanges": [],
    "is_collapsed": false,
    "tags": []
   },
   "source": [
    "## 2.2. Criação de Hipóteses"
   ]
  },
  {
   "cell_type": "markdown",
   "metadata": {
    "cell_id": "cf59d908a8dc40758862535b9493229b",
    "deepnote_cell_type": "text-cell-h2",
    "formattedRanges": [],
    "is_collapsed": false,
    "tags": []
   },
   "source": [
    "## 2.3. Lista de Hipóteses"
   ]
  },
  {
   "cell_type": "markdown",
   "metadata": {
    "cell_id": "ebe4490fe17e493b82597833e6758b89",
    "deepnote_cell_type": "text-cell-h2",
    "formattedRanges": [],
    "is_collapsed": false,
    "tags": []
   },
   "source": [
    "## 2.4. Feature Engineering"
   ]
  },
  {
   "cell_type": "code",
   "execution_count": 22,
   "metadata": {
    "cell_id": "836ef711765b442db9d559e6603b7ce0",
    "deepnote_cell_height": 1305,
    "deepnote_cell_type": "code",
    "deepnote_to_be_reexecuted": false,
    "execution_millis": 759,
    "execution_start": 1661086909302,
    "source_hash": "63e1dfb6",
    "tags": []
   },
   "outputs": [],
   "source": [
    "## ano de fabricacao one hot\n",
    "#bin1 = [1985, 2000]\n",
    "#bin2 = [2000, 2005]\n",
    "#bin3 = [2005, 2010]\n",
    "#bin4 = [2010, 2015]\n",
    "#bin5 = [2015, 2020]\n",
    "#bin6 = [2020, 2025]\n",
    "#bins = [bin1, bin2, bin3, bin4, bin5, bin6]\n",
    "#\n",
    "#year_bins = []\n",
    "#\n",
    "#for i in range(df2.shape[0]):\n",
    "#    tmp = [0 for i in range(len(bins))]\n",
    "#    ye = df2['ano_de_fabricacao'][i]\n",
    "#    for j in range(len(bins)):\n",
    "#        if ye >= bins[j][0] and ye < bins[j][1]:\n",
    "#            tmp[j] = 1\n",
    "#    year_bins.append(tmp)\n",
    "#year_bins = np.asarray(year_bins)\n",
    "#new_df = pd.DataFrame(year_bins, columns=['Year_Bin'+str(i+1) for i in range(len(bins))])\n",
    "#df2 = pd.concat( [df2, new_df], axis=1 )\n",
    "\n",
    "# cbin1 = [7000, 20000]\n",
    "# cbin2 = [20000, 40000]\n",
    "# cbin3 = [40000, 80000]\n",
    "# cbin4 = [80000, 100000]\n",
    "# cbin5 = [100000, 200000]\n",
    "# cbin6 = [200000, 500000]\n",
    "# cbin7 = [500000, 1000000]\n",
    "# cbins = [bin1, bin2, bin3, bin4, bin5, bin7]\n",
    "\n",
    "# cyear_bins = []\n",
    "\n",
    "# for i in range(df2.shape[0]):\n",
    "#     tmp = [0 for i in range(len(cbins))]\n",
    "#     ye = df2['ano_de_fabricacao'][i]\n",
    "#     for j in range(len(cbins)):\n",
    "#         if ye >= cbins[j][0] and ye < cbins[j][1]:\n",
    "#             tmp[j] = 1\n",
    "#     year_bins.append(tmp)\n",
    "# year_bins = np.asarray(cyear_bins)\n",
    "# new_df = pd.DataFrame(cyear_bins, columns=['Year_Bin'+str(i+1) for i in range(len(cbins))])\n",
    "# df2 = pd.concat( [df2, new_df], axis=1 )\n",
    "# df2 = df2.drop(columns=['ano_de_fabricacao'])\n",
    "\n",
    "# =======================================================================\n",
    "\n",
    "# ano de fabricação\n",
    "df2['ano_de_fabricacao_2011']=df2['ano_de_fabricacao'].apply(lambda x: 1 if x>2010 else 0)\n",
    "# ano_modelo\n",
    "df2['ano_modelo_2011']=df2['ano_de_fabricacao'].apply(lambda x: 1 if x>2010 else 0)\n",
    "# kilometragem 100 - 400000\n",
    "df2['km']=df2['odometro'].apply(lambda x: '0_40000' if x<=40000 else\n",
    "                                            '40000_80000'if x<=80000 else\n",
    "                                            '80000_120000' if x<=120000  else\n",
    "                                            '120000_160000' if x<=160000  else\n",
    "                                            '160000_200000' if x<=200000  else\n",
    "                                            '200000_240000' if x<=240000  else\n",
    "                                            '240000_280000' if x<=280000  else\n",
    "                                            '280000_320000' if x<=320000  else\n",
    "                                            '320000_360000' if x<=360000  else\n",
    "                                            '360000_400000')\n",
    "# motor\n",
    "df2['motor_3_chr']=df2['versao'].apply(lambda x: x[0:3])\n",
    "df2['motor_num']=df2['motor_3_chr'].apply(lambda x: x[0:1].isnumeric())\n",
    "df2['motor_ponto']=df2['motor_3_chr'].apply(lambda x: x[1:2]=='.')\n",
    "df2['motor']=df2[['motor_num','motor_ponto','motor_3_chr']].apply(lambda x: x['motor_3_chr'] if (x['motor_num']==True)&(x['motor_ponto']==True) else 0,axis=1)\n",
    "df2['motor']=df2['motor'].astype('float64')\n"
   ]
  },
  {
   "cell_type": "markdown",
   "metadata": {
    "cell_id": "a858e03c9f5546dc8dc5667acf1d1924",
    "deepnote_cell_type": "text-cell-h1",
    "formattedRanges": [],
    "is_collapsed": false,
    "tags": []
   },
   "source": [
    "# 3.0. FILTRAGEM DE VARIÁVEIS"
   ]
  },
  {
   "cell_type": "code",
   "execution_count": 23,
   "metadata": {
    "cell_id": "365e5140047d44ce8cbb7e579eb22789",
    "deepnote_cell_height": 76,
    "deepnote_cell_type": "code",
    "deepnote_to_be_reexecuted": false,
    "execution_millis": 7,
    "execution_start": 1661086910064,
    "source_hash": "c58ba8a7",
    "tags": []
   },
   "outputs": [],
   "source": [
    "df3 = df2.copy()"
   ]
  },
  {
   "cell_type": "markdown",
   "metadata": {
    "cell_id": "86f82b296b04414ba89826ecdb1b4c90",
    "deepnote_cell_type": "text-cell-h2",
    "formattedRanges": [],
    "is_collapsed": false,
    "tags": []
   },
   "source": [
    "## 3.1. Filtragem das Linhas"
   ]
  },
  {
   "cell_type": "code",
   "execution_count": 24,
   "metadata": {
    "cell_id": "0e2c82914b704b2bb40a9751b8e496da",
    "deepnote_cell_height": 153,
    "deepnote_cell_type": "code",
    "deepnote_to_be_reexecuted": false,
    "execution_millis": 3,
    "execution_start": 1661086910073,
    "source_hash": "fa5b649e",
    "tags": []
   },
   "outputs": [],
   "source": [
    "# substituindo ano de fabricacao caso a diferença para o ano modelo seja superior a 1 ano\n",
    "#df3['dif_ano'] = df3.apply(lambda x: x['ano_modelo'] - x['ano_de_fabricacao'], axis=1)\n",
    "#df3[df3['dif_ano'] > 1].count()\n",
    "#\n",
    "#df3['ano_de_fabricacao'] = df3.apply(lambda x: (x['ano_modelo']-1) if x['dif_ano'] > 1 else x['ano_de_fabricacao'], axis=1)"
   ]
  },
  {
   "cell_type": "markdown",
   "metadata": {
    "cell_id": "d843af8d54e44a4baa82bd708565361b",
    "deepnote_cell_type": "text-cell-h2",
    "formattedRanges": [],
    "is_collapsed": false,
    "tags": []
   },
   "source": [
    "## 3.2. Seleção das Colunas"
   ]
  },
  {
   "cell_type": "code",
   "execution_count": 25,
   "metadata": {
    "cell_id": "0ee3e324358647cf85d362d04d568a99",
    "deepnote_cell_height": 81,
    "deepnote_cell_type": "code",
    "deepnote_to_be_reexecuted": false,
    "execution_millis": 11,
    "execution_start": 1661086910083,
    "source_hash": "12be81f0",
    "tags": []
   },
   "outputs": [],
   "source": [
    "df3 = df3.drop( columns=['elegivel_revisao','attr_veiculo_alienado', 'motor_3_chr', 'motor_num', 'motor_ponto','versao'])"
   ]
  },
  {
   "cell_type": "markdown",
   "metadata": {
    "cell_id": "eb71f67aca6742119acd9bf9ef8a2c24",
    "deepnote_cell_type": "text-cell-h1",
    "formattedRanges": [],
    "is_collapsed": false,
    "tags": []
   },
   "source": [
    "# 4.0. EDA"
   ]
  },
  {
   "cell_type": "code",
   "execution_count": 26,
   "metadata": {
    "cell_id": "7321f42d6d7442d485a4049d27523145",
    "deepnote_cell_height": 76,
    "deepnote_cell_type": "code",
    "deepnote_to_be_reexecuted": false,
    "execution_millis": 3,
    "execution_start": 1661086910100,
    "source_hash": "60288f97",
    "tags": []
   },
   "outputs": [],
   "source": [
    "df4 = df3.copy()"
   ]
  },
  {
   "cell_type": "markdown",
   "metadata": {
    "cell_id": "34c15d8bfa14461f8d4d50e927e32f9e",
    "deepnote_cell_type": "text-cell-h2",
    "formattedRanges": [],
    "is_collapsed": false,
    "tags": []
   },
   "source": [
    "## 4.1. Analise Univariada"
   ]
  },
  {
   "cell_type": "markdown",
   "metadata": {
    "cell_id": "29748f1cf9ac4c6bb2f8c2c9e2d2577c",
    "deepnote_cell_type": "text-cell-h3",
    "formattedRanges": [],
    "is_collapsed": false,
    "tags": []
   },
   "source": [
    "### 4.1.1. Response Variable"
   ]
  },
  {
   "cell_type": "code",
   "execution_count": 27,
   "metadata": {
    "cell_id": "5f922aebb1d34ca4beaa0dfc21ed2ccf",
    "deepnote_cell_height": 939,
    "deepnote_cell_type": "code",
    "deepnote_output_heights": [
     null,
     610
    ],
    "deepnote_to_be_reexecuted": false,
    "execution_millis": 770,
    "execution_start": 1661086910146,
    "source_hash": "bbb375b6",
    "tags": []
   },
   "outputs": [
    {
     "name": "stderr",
     "output_type": "stream",
     "text": [
      "f:\\SamuelOliveiraAlvesd\\Anaconda3\\envs\\Health_Insurance_Cross_Sell\\lib\\site-packages\\seaborn\\distributions.py:2619: FutureWarning: `distplot` is a deprecated function and will be removed in a future version. Please adapt your code to use either `displot` (a figure-level function with similar flexibility) or `histplot` (an axes-level function for histograms).\n",
      "  warnings.warn(msg, FutureWarning)\n",
      "f:\\SamuelOliveiraAlvesd\\Anaconda3\\envs\\Health_Insurance_Cross_Sell\\lib\\site-packages\\seaborn\\_decorators.py:36: FutureWarning: Pass the following variable as a keyword arg: x. From version 0.12, the only valid positional argument will be `data`, and passing other arguments without an explicit keyword will result in an error or misinterpretation.\n",
      "  warnings.warn(\n"
     ]
    },
    {
     "data": {
      "image/png": "[encoded data removed]",
      "text/plain": [
       "<Figure size 1440x1080 with 3 Axes>"
      ]
     },
     "metadata": {
      "needs_background": "light"
     },
     "output_type": "display_data"
    }
   ],
   "source": [
    "plt.figure(figsize=(20,15))\n",
    "plt.subplot(3,1,1)\n",
    "sns.distplot(df4['preco'], kde=False);\n",
    "# transformação log\n",
    "plt.subplot(3,1,2)\n",
    "sns.distplot(np.log(df4['preco']), kde=False);\n",
    "plt.subplot(3,1,3)\n",
    "sns.boxplot(df4['preco']);"
   ]
  },
  {
   "cell_type": "markdown",
   "metadata": {
    "cell_id": "890cea37acb94493a11e3ad15d6fd049",
    "deepnote_cell_type": "text-cell-h3",
    "formattedRanges": [],
    "is_collapsed": false,
    "tags": []
   },
   "source": [
    "### 4.1.1. Numerical Variable"
   ]
  },
  {
   "cell_type": "code",
   "execution_count": 28,
   "metadata": {
    "cell_id": "7f663dffd3194abe9a273bd473eeaf39",
    "deepnote_cell_height": 388,
    "deepnote_cell_type": "code",
    "deepnote_output_heights": [
     278
    ],
    "deepnote_to_be_reexecuted": false,
    "execution_millis": 2777,
    "execution_start": 1661086910923,
    "source_hash": "2ba98c2f",
    "tags": []
   },
   "outputs": [
    {
     "data": {
      "image/png": "[encoded data removed]",
      "text/plain": [
       "<Figure size 432x288 with 16 Axes>"
      ]
     },
     "metadata": {
      "needs_background": "light"
     },
     "output_type": "display_data"
    }
   ],
   "source": [
    "num_attributes = df4.select_dtypes(include='number')\n",
    "num_attributes.hist(bins=25);"
   ]
  },
  {
   "cell_type": "code",
   "execution_count": 29,
   "metadata": {
    "cell_id": "8093cf1eb92f40808e244d05bfd109d9",
    "deepnote_cell_height": 145.375,
    "deepnote_cell_type": "code",
    "deepnote_table_invalid": false,
    "deepnote_table_loading": false,
    "deepnote_table_state": {
     "filters": [],
     "pageIndex": 0,
     "pageSize": 10,
     "sortBy": []
    },
    "deepnote_to_be_reexecuted": false,
    "execution_millis": 744,
    "execution_start": 1661086912960,
    "source_hash": "8bb31d9d",
    "tags": []
   },
   "outputs": [
    {
     "name": "stdout",
     "output_type": "stream",
     "text": [
      "(1866, 30)\n",
      "(332, 30)\n"
     ]
    }
   ],
   "source": [
    "print(df4[df4['ano_de_fabricacao']<2012].shape)\n",
    "print(df4[df4['ano_modelo']<2012].shape)"
   ]
  },
  {
   "cell_type": "code",
   "execution_count": 30,
   "metadata": {
    "cell_id": "7267e9e4d44d40329b5bfd6da312642a",
    "deepnote_cell_height": 366,
    "deepnote_cell_type": "code",
    "deepnote_to_be_reexecuted": false,
    "execution_millis": 731,
    "execution_start": 1661086912978,
    "source_hash": "57d4d37f",
    "tags": []
   },
   "outputs": [
    {
     "data": {
      "text/html": [
       "<div>\n",
       "<style scoped>\n",
       "    .dataframe tbody tr th:only-of-type {\n",
       "        vertical-align: middle;\n",
       "    }\n",
       "\n",
       "    .dataframe tbody tr th {\n",
       "        vertical-align: top;\n",
       "    }\n",
       "\n",
       "    .dataframe thead th {\n",
       "        text-align: right;\n",
       "    }\n",
       "</style>\n",
       "<table border=\"1\" class=\"dataframe\">\n",
       "  <thead>\n",
       "    <tr style=\"text-align: right;\">\n",
       "      <th></th>\n",
       "      <th>id</th>\n",
       "      <th>num_fotos</th>\n",
       "      <th>marca</th>\n",
       "      <th>modelo</th>\n",
       "      <th>ano_de_fabricacao</th>\n",
       "      <th>ano_modelo</th>\n",
       "      <th>odometro</th>\n",
       "      <th>cambio</th>\n",
       "      <th>num_portas</th>\n",
       "      <th>tipo</th>\n",
       "      <th>...</th>\n",
       "      <th>attr_veiculo_todas_as_revisoes_feitas_pela_concessionaria</th>\n",
       "      <th>attr_veiculo_ipva_pago</th>\n",
       "      <th>attr_veiculo_licenciado</th>\n",
       "      <th>attr_veiculo_garantia_de_fabrica</th>\n",
       "      <th>attr_veiculo_todas_as_revisoes_feitas_pela_agenda_do_carro</th>\n",
       "      <th>preco</th>\n",
       "      <th>ano_de_fabricacao_2011</th>\n",
       "      <th>ano_modelo_2011</th>\n",
       "      <th>km</th>\n",
       "      <th>motor</th>\n",
       "    </tr>\n",
       "  </thead>\n",
       "  <tbody>\n",
       "    <tr>\n",
       "      <th>430</th>\n",
       "      <td>198942350382439376913441124738612479219</td>\n",
       "      <td>15</td>\n",
       "      <td>FORD</td>\n",
       "      <td>PAMPA</td>\n",
       "      <td>1988</td>\n",
       "      <td>2012</td>\n",
       "      <td>3511</td>\n",
       "      <td>Manual</td>\n",
       "      <td>4</td>\n",
       "      <td>Hatchback</td>\n",
       "      <td>...</td>\n",
       "      <td>0</td>\n",
       "      <td>0</td>\n",
       "      <td>0</td>\n",
       "      <td>0</td>\n",
       "      <td>0</td>\n",
       "      <td>36555.498582</td>\n",
       "      <td>0</td>\n",
       "      <td>0</td>\n",
       "      <td>0_40000</td>\n",
       "      <td>1.8</td>\n",
       "    </tr>\n",
       "    <tr>\n",
       "      <th>4797</th>\n",
       "      <td>51936966583809049009169550364057097722</td>\n",
       "      <td>8</td>\n",
       "      <td>PEUGEOT</td>\n",
       "      <td>307</td>\n",
       "      <td>1988</td>\n",
       "      <td>2011</td>\n",
       "      <td>163780</td>\n",
       "      <td>Automática</td>\n",
       "      <td>4</td>\n",
       "      <td>Hatchback</td>\n",
       "      <td>...</td>\n",
       "      <td>1</td>\n",
       "      <td>1</td>\n",
       "      <td>0</td>\n",
       "      <td>0</td>\n",
       "      <td>1</td>\n",
       "      <td>24093.833734</td>\n",
       "      <td>0</td>\n",
       "      <td>0</td>\n",
       "      <td>160000_200000</td>\n",
       "      <td>2.0</td>\n",
       "    </tr>\n",
       "    <tr>\n",
       "      <th>20294</th>\n",
       "      <td>73592451487373138990340023028170714089</td>\n",
       "      <td>8</td>\n",
       "      <td>TOYOTA</td>\n",
       "      <td>RAV4</td>\n",
       "      <td>1988</td>\n",
       "      <td>2013</td>\n",
       "      <td>114701</td>\n",
       "      <td>Automática</td>\n",
       "      <td>4</td>\n",
       "      <td>Sedã</td>\n",
       "      <td>...</td>\n",
       "      <td>1</td>\n",
       "      <td>1</td>\n",
       "      <td>1</td>\n",
       "      <td>0</td>\n",
       "      <td>1</td>\n",
       "      <td>59698.612931</td>\n",
       "      <td>0</td>\n",
       "      <td>0</td>\n",
       "      <td>80000_120000</td>\n",
       "      <td>2.4</td>\n",
       "    </tr>\n",
       "    <tr>\n",
       "      <th>20569</th>\n",
       "      <td>64369313258166945961672474305820655846</td>\n",
       "      <td>8</td>\n",
       "      <td>VOLKSWAGEN</td>\n",
       "      <td>FUSCA</td>\n",
       "      <td>1988</td>\n",
       "      <td>2011</td>\n",
       "      <td>3548</td>\n",
       "      <td>Manual</td>\n",
       "      <td>4</td>\n",
       "      <td>Perua/SW</td>\n",
       "      <td>...</td>\n",
       "      <td>0</td>\n",
       "      <td>1</td>\n",
       "      <td>0</td>\n",
       "      <td>0</td>\n",
       "      <td>0</td>\n",
       "      <td>28875.849751</td>\n",
       "      <td>0</td>\n",
       "      <td>0</td>\n",
       "      <td>0_40000</td>\n",
       "      <td>1.6</td>\n",
       "    </tr>\n",
       "  </tbody>\n",
       "</table>\n",
       "<p>4 rows × 30 columns</p>\n",
       "</div>"
      ],
      "text/plain": [
       "                                            id  num_fotos       marca modelo  \\\n",
       "430    198942350382439376913441124738612479219         15        FORD  PAMPA   \n",
       "4797    51936966583809049009169550364057097722          8     PEUGEOT    307   \n",
       "20294   73592451487373138990340023028170714089          8      TOYOTA   RAV4   \n",
       "20569   64369313258166945961672474305820655846          8  VOLKSWAGEN  FUSCA   \n",
       "\n",
       "       ano_de_fabricacao  ano_modelo  odometro      cambio  num_portas  \\\n",
       "430                 1988        2012      3511      Manual           4   \n",
       "4797                1988        2011    163780  Automática           4   \n",
       "20294               1988        2013    114701  Automática           4   \n",
       "20569               1988        2011      3548      Manual           4   \n",
       "\n",
       "            tipo  ...  \\\n",
       "430    Hatchback  ...   \n",
       "4797   Hatchback  ...   \n",
       "20294       Sedã  ...   \n",
       "20569   Perua/SW  ...   \n",
       "\n",
       "      attr_veiculo_todas_as_revisoes_feitas_pela_concessionaria  \\\n",
       "430                                                    0          \n",
       "4797                                                   1          \n",
       "20294                                                  1          \n",
       "20569                                                  0          \n",
       "\n",
       "      attr_veiculo_ipva_pago attr_veiculo_licenciado  \\\n",
       "430                        0                       0   \n",
       "4797                       1                       0   \n",
       "20294                      1                       1   \n",
       "20569                      1                       0   \n",
       "\n",
       "      attr_veiculo_garantia_de_fabrica  \\\n",
       "430                                  0   \n",
       "4797                                 0   \n",
       "20294                                0   \n",
       "20569                                0   \n",
       "\n",
       "      attr_veiculo_todas_as_revisoes_feitas_pela_agenda_do_carro  \\\n",
       "430                                                    0           \n",
       "4797                                                   1           \n",
       "20294                                                  1           \n",
       "20569                                                  0           \n",
       "\n",
       "              preco  ano_de_fabricacao_2011  ano_modelo_2011             km  \\\n",
       "430    36555.498582                       0                0        0_40000   \n",
       "4797   24093.833734                       0                0  160000_200000   \n",
       "20294  59698.612931                       0                0   80000_120000   \n",
       "20569  28875.849751                       0                0        0_40000   \n",
       "\n",
       "       motor  \n",
       "430      1.8  \n",
       "4797     2.0  \n",
       "20294    2.4  \n",
       "20569    1.6  \n",
       "\n",
       "[4 rows x 30 columns]"
      ]
     },
     "execution_count": 30,
     "metadata": {},
     "output_type": "execute_result"
    }
   ],
   "source": [
    "df4[df4['ano_de_fabricacao'] == 1988]"
   ]
  },
  {
   "cell_type": "markdown",
   "metadata": {
    "cell_id": "445de7ad8e6b4e4f8dbf7ccddc6367b3",
    "deepnote_cell_type": "text-cell-h3",
    "formattedRanges": [],
    "is_collapsed": false,
    "tags": []
   },
   "source": [
    "### 4.1.1Categorical Variable"
   ]
  },
  {
   "cell_type": "code",
   "execution_count": 31,
   "metadata": {
    "cell_id": "15e1ec0f6f89410f8fb90c5a12f18f30",
    "deepnote_cell_height": 187.75,
    "deepnote_cell_type": "code",
    "deepnote_output_heights": [
     77.75
    ],
    "deepnote_to_be_reexecuted": false,
    "execution_millis": 521,
    "execution_start": 1661086913192,
    "source_hash": "d966778b",
    "tags": []
   },
   "outputs": [
    {
     "data": {
      "text/plain": [
       "Index(['id', 'marca', 'modelo', 'cambio', 'tipo', 'blindado', 'cor',\n",
       "       'tipo_vendedor', 'cidade_vendedor', 'estado_vendedor', 'tipo_anuncio',\n",
       "       'entrega_delivery', 'troca', 'km'],\n",
       "      dtype='object')"
      ]
     },
     "execution_count": 31,
     "metadata": {},
     "output_type": "execute_result"
    }
   ],
   "source": [
    "cat_attributes = df4.select_dtypes(exclude='number')\n",
    "cat_attributes.columns"
   ]
  },
  {
   "cell_type": "markdown",
   "metadata": {
    "cell_id": "50982a777c2e4d81bc5c6e793a7f5415",
    "deepnote_cell_type": "text-cell-h2",
    "formattedRanges": [],
    "is_collapsed": false,
    "tags": []
   },
   "source": [
    "## 4.2. Analise Bivariada"
   ]
  },
  {
   "cell_type": "code",
   "execution_count": 32,
   "metadata": {
    "cell_id": "4fc5e652594e4554b3640bff85af7fe1",
    "deepnote_cell_height": 246.5,
    "deepnote_cell_type": "code",
    "deepnote_output_heights": [
     154.5
    ],
    "deepnote_to_be_reexecuted": false,
    "execution_millis": 522,
    "execution_start": 1661086913201,
    "source_hash": "b7723c9b",
    "tags": []
   },
   "outputs": [
    {
     "data": {
      "text/plain": [
       "array(['São Paulo (SP)', 'Rio Grande do Sul (RS)', 'Minas Gerais (MG)',\n",
       "       'Paraná (PR)', 'Rio de Janeiro (RJ)', 'Maranhão (MA)',\n",
       "       'Santa Catarina (SC)', 'Alagoas (AL)', 'Bahia (BA)', 'Goiás (GO)',\n",
       "       'Rio Grande do Norte (RN)', 'Pernambuco (PE)', 'Mato Grosso (MT)',\n",
       "       'Pará (PA)', 'Ceará (CE)', 'Amazonas (AM)', 'Espírito Santo (ES)',\n",
       "       'Rondônia (RO)', 'Paraíba (PB)', 'Tocantins (TO)', 'Acre (AC)',\n",
       "       'Sergipe (SE)', 'Mato Grosso do Sul (MS)', 'Roraima (RR)',\n",
       "       'Piauí (PI)'], dtype=object)"
      ]
     },
     "execution_count": 32,
     "metadata": {},
     "output_type": "execute_result"
    }
   ],
   "source": [
    "df4['estado_vendedor'].unique()"
   ]
  },
  {
   "cell_type": "code",
   "execution_count": null,
   "metadata": {
    "cell_id": "4bd022e874944553aafce6d13cb44c36",
    "deepnote_cell_height": 94,
    "deepnote_cell_type": "code",
    "deepnote_to_be_reexecuted": false,
    "execution_millis": 3,
    "execution_start": 1661086913217,
    "source_hash": "b31fd813",
    "tags": []
   },
   "outputs": [],
   "source": [
    "\n"
   ]
  },
  {
   "cell_type": "code",
   "execution_count": 33,
   "metadata": {
    "cell_id": "c620a127736441a69de029b17730643e",
    "deepnote_cell_height": 642,
    "deepnote_cell_type": "code",
    "deepnote_output_heights": [
     549.71875
    ],
    "deepnote_to_be_reexecuted": false,
    "execution_millis": 803,
    "execution_start": 1661086913225,
    "source_hash": "56cbbffd",
    "tags": []
   },
   "outputs": [
    {
     "data": {
      "image/png": "[encoded data removed]",
      "text/plain": [
       "<Figure size 1080x720 with 2 Axes>"
      ]
     },
     "metadata": {
      "needs_background": "light"
     },
     "output_type": "display_data"
    }
   ],
   "source": [
    "analise_bivariada(df4,'estado_vendedor')"
   ]
  },
  {
   "cell_type": "code",
   "execution_count": 34,
   "metadata": {
    "cell_id": "3c7e8f425db144fc927e57bab001d5f3",
    "deepnote_cell_height": 655,
    "deepnote_cell_type": "code",
    "deepnote_output_heights": [
     552
    ],
    "deepnote_to_be_reexecuted": false,
    "execution_millis": 487,
    "execution_start": 1661086914028,
    "source_hash": "9eb887bd",
    "tags": []
   },
   "outputs": [
    {
     "data": {
      "image/png": "[encoded data removed]",
      "text/plain": [
       "<Figure size 1080x720 with 2 Axes>"
      ]
     },
     "metadata": {
      "needs_background": "light"
     },
     "output_type": "display_data"
    }
   ],
   "source": [
    "analise_bivariada(df4,'num_fotos')"
   ]
  },
  {
   "cell_type": "markdown",
   "metadata": {
    "cell_id": "f66a9345baf443c68bc0678285cdc296",
    "deepnote_cell_type": "text-cell-h2",
    "formattedRanges": [],
    "is_collapsed": false,
    "tags": []
   },
   "source": [
    "## 4.3. Analise Multivariada"
   ]
  },
  {
   "cell_type": "code",
   "execution_count": 35,
   "metadata": {
    "cell_id": "ced49a6ddefb4b57ab4c1c0576762770",
    "deepnote_cell_height": 657,
    "deepnote_cell_type": "code",
    "deepnote_output_heights": [
     547
    ],
    "deepnote_to_be_reexecuted": false,
    "execution_millis": 2670,
    "execution_start": 1661086914518,
    "source_hash": "c2000cd8",
    "tags": []
   },
   "outputs": [
    {
     "data": {
      "image/png": "[encoded data removed]",
      "text/plain": [
       "<Figure size 432x288 with 2 Axes>"
      ]
     },
     "metadata": {
      "needs_background": "light"
     },
     "output_type": "display_data"
    }
   ],
   "source": [
    "correlation = num_attributes.corr(method='pearson')\n",
    "sns.heatmap(correlation, annot=True);"
   ]
  },
  {
   "cell_type": "code",
   "execution_count": 36,
   "metadata": {
    "cell_id": "6a0400010ab748d6be1ecc303986c917",
    "deepnote_cell_height": 225,
    "deepnote_cell_type": "code",
    "deepnote_to_be_reexecuted": false,
    "execution_millis": 42589537,
    "execution_start": 1661086917188,
    "source_hash": "2c1cec10",
    "tags": []
   },
   "outputs": [],
   "source": [
    "#plotcor = pycorrcat.corr_matrix(cat_attributes, ['marca', 'modelo', 'versao', 'cambio', 'tipo', 'blindado', 'cor',\n",
    "#       'tipo_vendedor', 'cidade_vendedor', 'estado_vendedor', 'tipo_anuncio',\n",
    "#       'entrega_delivery', 'troca', 'attr_veiculo_aceita_troca',\n",
    "#       'attr_veiculo_único_dono',\n",
    "#       'attr_veiculo_todas_as_revisões_feitas_pela_concessionária',\n",
    "#       'attr_veiculo_ipva_pago', 'attr_veiculo_licenciado',\n",
    "#       'attr_veiculo_garantia_de_fábrica',\n",
    "#       'attr_veiculo_todas_as_revisões_feitas_pela_agenda_do_carro'])\n",
    "#sns.heatmap(plotcor, annot=True);"
   ]
  },
  {
   "cell_type": "markdown",
   "metadata": {
    "cell_id": "3a5a367831fb401b83d5237d5882c567",
    "deepnote_cell_type": "text-cell-h1",
    "formattedRanges": [],
    "is_collapsed": false,
    "tags": []
   },
   "source": [
    "# 5.0. DATA PREPARATION"
   ]
  },
  {
   "cell_type": "code",
   "execution_count": 37,
   "metadata": {
    "cell_id": "4cf034c1a0064ee5aef533e59921e542",
    "deepnote_cell_height": 76,
    "deepnote_cell_type": "code",
    "deepnote_to_be_reexecuted": false,
    "execution_millis": 4,
    "execution_start": 1661086917193,
    "source_hash": "831027fe",
    "tags": []
   },
   "outputs": [],
   "source": [
    "df5 = df4.copy()"
   ]
  },
  {
   "cell_type": "markdown",
   "metadata": {
    "cell_id": "ccf9a8a7cccd4652b584849e468f1fe7",
    "deepnote_cell_type": "text-cell-h2",
    "formattedRanges": [],
    "is_collapsed": false,
    "tags": []
   },
   "source": [
    "## 5.1. Encoding"
   ]
  },
  {
   "cell_type": "code",
   "execution_count": 38,
   "metadata": {
    "cell_id": "39497d85c5574c238ce7a35e329872ce",
    "deepnote_cell_height": 1048,
    "deepnote_cell_type": "code",
    "deepnote_to_be_reexecuted": false,
    "execution_millis": 184,
    "execution_start": 1661086917241,
    "source_hash": "9543bf73",
    "tags": []
   },
   "outputs": [],
   "source": [
    "# label encoder\n",
    "# le = LabelEncoder()\n",
    "#df5['marca'] = le.fit_transform(df5['marca'])\n",
    "#df5['cor'] = le.fit_transform(df5['cor'])\n",
    "#df5['tipo'] = le.fit_transform(df5['tipo'])\n",
    "# ===================================================\n",
    "\n",
    "#labelencoding\n",
    "le = LabelEncoder()\n",
    "df5['modelo'] = le.fit_transform(df5['modelo'])\n",
    "#df5['km']=le.fit_transform(df5['km'])\n",
    "df5['blindado'] = df5['blindado'].apply( lambda x: 1 if x == \"S\" else 0 )\n",
    "df5['troca'] = df5['troca'].apply( lambda x: 1 if x == True else 0)\n",
    "df5['entrega_delivery'] = df5['entrega_delivery'].apply( lambda x: 1 if x == True else 0)\n",
    "\n",
    "# dummies\n",
    "df5 = pd.get_dummies( df5, columns=['cambio','tipo_vendedor','tipo_anuncio', 'cor','tipo','km'] )\n",
    "\n",
    "#frequency encoder\n",
    "fe_modelo = df5.groupby('modelo').size() / len(df5)\n",
    "df5.loc[:,'modelo'] = df5['modelo'].map(fe_modelo)\n",
    "fe_marca = df5.groupby('marca').size() / len(df5)\n",
    "df5.loc[:,'marca'] = df5['marca'].map(fe_marca)\n",
    "fe_cidade_vendedor = df5.groupby('cidade_vendedor').size() / len(df5)\n",
    "df5.loc[:,'cidade_vendedor'] = df5['cidade_vendedor'].map(fe_cidade_vendedor)\n",
    "\n",
    "\n",
    "df4['estado_vendedor']=df4['estado_vendedor'].apply(lambda x: 'SP' if x=='São Paulo (SP)' else \n",
    "                                                        'RS' if x=='Rio Grande do Sul (RS)' else \n",
    "                                                        'MG' if x=='Minas Gerais (MG)' else\n",
    "                                                        'PR' if x=='Paraná (PR)' else\n",
    "                                                        'RJ' if x=='Rio de Janeiro (RJ)' else\n",
    "                                                        'MA' if x=='Maranhão (MA)' else\n",
    "                                                        'SC' if x=='Santa Catarina (SC)' else\n",
    "                                                        'AL' if x=='Alagoas (AL)' else\n",
    "                                                        'BA' if x=='Bahia (BA)' else\n",
    "                                                        'GO' if x=='Goiás (GO)' else\n",
    "                                                        'RN' if x=='Rio Grande do Norte (RN)' else\n",
    "                                                        'PE' if x=='Pernambuco (PE)' else\n",
    "                                                        'MT' if x=='Mato Grosso (MT)' else\n",
    "                                                        'PA' if x=='Pará (PA)' else\n",
    "                                                        'CE' if x=='Ceará (CE)' else\n",
    "                                                        'AM' if x=='Amazonas (AM)' else\n",
    "                                                        'ES' if x=='Espírito Santo (ES)'else\n",
    "                                                        'RO' if x=='Rondônia (RO)' else\n",
    "                                                        'PB' if x=='Paraíba (PB)' else\n",
    "                                                        'TO' if x=='Tocantins (TO)' else\n",
    "                                                        'AC' if x=='Acre (AC)'else\n",
    "                                                        'SE' if x=='Sergipe (SE)' else\n",
    "                                                        'MS' if x=='Mato Grosso do Sul (MS)' else\n",
    "                                                        'RR' if x=='Roraima (RR)'else\n",
    "                                                        'PI' if x=='Piauí (PI)' else 0)\n",
    "\n",
    "fe_estado_vendedor = df5.groupby('estado_vendedor').size() / len(df5)\n",
    "df5.loc[:,'estado_vendedor'] = df5['estado_vendedor'].map(fe_estado_vendedor)"
   ]
  },
  {
   "cell_type": "markdown",
   "metadata": {
    "cell_id": "f4bce0617d74485da3443b901d02195d",
    "deepnote_cell_type": "text-cell-h2",
    "formattedRanges": [],
    "is_collapsed": false,
    "tags": []
   },
   "source": [
    "## 5.2. Normalização"
   ]
  },
  {
   "cell_type": "code",
   "execution_count": 39,
   "metadata": {
    "cell_id": "ec5d1884504f407797f2e7b4d6cd02e6",
    "deepnote_cell_height": 375,
    "deepnote_cell_type": "code",
    "deepnote_output_heights": [
     265
    ],
    "deepnote_to_be_reexecuted": false,
    "execution_millis": 8072,
    "execution_start": 1661086917431,
    "source_hash": "6d2f4392",
    "tags": []
   },
   "outputs": [
    {
     "data": {
      "image/png": "[encoded data removed]",
      "text/plain": [
       "<Figure size 432x288 with 64 Axes>"
      ]
     },
     "metadata": {
      "needs_background": "light"
     },
     "output_type": "display_data"
    }
   ],
   "source": [
    "num_attributes = df5.select_dtypes(include='number')\n",
    "num_attributes.hist(bins=25);"
   ]
  },
  {
   "cell_type": "markdown",
   "metadata": {
    "cell_id": "bc7f9c4081b9453095d225e6a3b43074",
    "deepnote_cell_type": "text-cell-h2",
    "formattedRanges": [],
    "is_collapsed": false,
    "tags": []
   },
   "source": [
    "## 5.3. Rescaling"
   ]
  },
  {
   "cell_type": "code",
   "execution_count": 40,
   "metadata": {
    "cell_id": "3af4b79e5fb54cae93643e084e35f1c4",
    "deepnote_cell_height": 184,
    "deepnote_cell_type": "code",
    "deepnote_to_be_reexecuted": false,
    "execution_millis": 29,
    "execution_start": 1661086925437,
    "source_hash": "43dca05b",
    "tags": []
   },
   "outputs": [],
   "source": [
    "rs = RobustScaler()\n",
    "mms = MinMaxScaler()\n",
    "\n",
    "df5['num_fotos'] = mms.fit_transform(df5[['num_fotos']].values)\n",
    "df5['ano_de_fabricacao'] = rs.fit_transform(df5[['ano_de_fabricacao']].values)\n",
    "df5['ano_modelo'] = rs.fit_transform(df5[['ano_modelo']].values)\n",
    "df5['odometro'] = rs.fit_transform(df5[['odometro']].values)"
   ]
  },
  {
   "cell_type": "markdown",
   "metadata": {
    "cell_id": "1e84b83e0ad6413193e2093e642b8772",
    "deepnote_cell_type": "text-cell-h2",
    "formattedRanges": [],
    "is_collapsed": false,
    "tags": []
   },
   "source": [
    "## 5.4. Transformação"
   ]
  },
  {
   "cell_type": "markdown",
   "metadata": {
    "cell_id": "d6626a41fb6e43a3b0d888125235562e",
    "deepnote_cell_type": "text-cell-h1",
    "formattedRanges": [],
    "is_collapsed": false,
    "tags": []
   },
   "source": [
    "# 6.0. FEATURE SELECTION"
   ]
  },
  {
   "cell_type": "code",
   "execution_count": 41,
   "metadata": {
    "cell_id": "043edb140d1d494db279cb29075983dc",
    "deepnote_cell_height": 76,
    "deepnote_cell_type": "code",
    "deepnote_to_be_reexecuted": false,
    "execution_millis": 10,
    "execution_start": 1661086943312,
    "source_hash": "6d0f2aa",
    "tags": []
   },
   "outputs": [],
   "source": [
    "df6 = df5.copy()"
   ]
  },
  {
   "cell_type": "markdown",
   "metadata": {
    "cell_id": "ac3c5b3b320246cbbd7a3b80b5eb4361",
    "deepnote_cell_type": "text-cell-h2",
    "formattedRanges": [],
    "is_collapsed": false,
    "tags": []
   },
   "source": [
    "## 6.1. Feature Importancia"
   ]
  },
  {
   "cell_type": "code",
   "execution_count": 44,
   "metadata": {
    "cell_id": "8ff4039a643a42ba8ff8436d38d74685",
    "deepnote_cell_height": 259.34375,
    "deepnote_cell_type": "code",
    "deepnote_output_heights": [
     59.34375
    ],
    "deepnote_to_be_reexecuted": true,
    "execution_millis": 112307,
    "execution_start": 1661044340588,
    "source_hash": "5bb0ab3b",
    "tags": []
   },
   "outputs": [],
   "source": [
    "# model\n",
    "#forest = en.ExtraTreesRegressor( n_estimators=250, random_state=0, n_jobs=-1 )\n",
    "\n",
    "# training\n",
    "x_train_fselection = df6.drop( ['preco','id'], axis=1 )\n",
    "y_train_fselection = df6['preco'].values\n",
    "#forest.fit( x_train_fselection, y_train_fselection )"
   ]
  },
  {
   "cell_type": "code",
   "execution_count": null,
   "metadata": {
    "cell_id": "7bb0536c4c5e47faa2e0c36e413b275e",
    "deepnote_cell_height": 1412,
    "deepnote_cell_type": "code",
    "deepnote_output_heights": [
     null,
     320
    ],
    "deepnote_to_be_reexecuted": true,
    "execution_millis": 3266,
    "execution_start": 1661044452455,
    "source_hash": "3c78fafa",
    "tags": []
   },
   "outputs": [
    {
     "name": "stdout",
     "output_type": "stream",
     "text": [
      "Feature Ranking:\n",
      "\n",
      "                                             feature    importance\n",
      "0                                              motor  1.742625e-01\n",
      "0                          tipo_Utilitário esportivo  1.586660e-01\n",
      "0                                         km_0_40000  7.168565e-02\n",
      "0                                             modelo  6.408736e-02\n",
      "0                                           odometro  5.141209e-02\n",
      "0                                              marca  4.874724e-02\n",
      "0                                        tipo_Picape  4.193550e-02\n",
      "0                                         ano_modelo  4.150827e-02\n",
      "0                                  ano_de_fabricacao  3.491937e-02\n",
      "0                                  cambio_Automática  3.030119e-02\n",
      "0                                      cambio_Manual  2.845438e-02\n",
      "0                                    cidade_vendedor  2.730176e-02\n",
      "0                                         cor_Branco  2.260781e-02\n",
      "0                                    estado_vendedor  1.996565e-02\n",
      "0                          attr_veiculo_aceita_troca  1.382328e-02\n",
      "0                                          num_fotos  1.239474e-02\n",
      "0                            attr_veiculo_licenciado  1.205580e-02\n",
      "0                             attr_veiculo_ipva_pago  1.097958e-02\n",
      "0  attr_veiculo_todas_as_revisoes_feitas_pela_con...  1.050001e-02\n",
      "0                            attr_veiculo_unico_dono  9.720562e-03\n",
      "0                             ano_de_fabricacao_2011  8.422417e-03\n",
      "0                                    ano_modelo_2011  8.227268e-03\n",
      "0  attr_veiculo_todas_as_revisoes_feitas_pela_age...  8.183757e-03\n",
      "0                                          cor_Preto  7.295023e-03\n",
      "0                                         num_portas  7.269045e-03\n",
      "0                                          tipo_Cupê  7.083121e-03\n",
      "0                                     km_40000_80000  6.343761e-03\n",
      "0                                          tipo_Sedã  6.092886e-03\n",
      "0                                              troca  5.961800e-03\n",
      "0                                    km_80000_120000  5.716374e-03\n",
      "0                   attr_veiculo_garantia_de_fabrica  5.310813e-03\n",
      "0                                   entrega_delivery  5.245691e-03\n",
      "0                                     tipo_Hatchback  4.540107e-03\n",
      "0                                  tipo_anuncio_Loja  3.605821e-03\n",
      "0                                           blindado  3.323859e-03\n",
      "0                                         cambio_CVT  3.119807e-03\n",
      "0                                          cor_Cinza  3.099891e-03\n",
      "0                         tipo_anuncio_Pessoa Física  2.985833e-03\n",
      "0                                   tipo_vendedor_PF  2.663208e-03\n",
      "0                                          cor_Prata  2.648505e-03\n",
      "0                                   tipo_vendedor_PJ  2.570086e-03\n",
      "0                        tipo_anuncio_Concessionária  1.866861e-03\n",
      "0                                   km_120000_160000  8.151658e-04\n",
      "0                                cambio_Automatizada  7.766407e-04\n",
      "0                            cambio_Automatizada DCT  6.288213e-04\n",
      "0                                      tipo_Perua/SW  5.849619e-04\n",
      "0                             cambio_Semi-automática  1.099600e-04\n",
      "0                                       tipo_Minivan  6.061007e-05\n",
      "0                                   km_160000_200000  5.271945e-05\n",
      "0                       cambio_Automática Sequencial  2.525803e-05\n",
      "0                                        cor_Dourado  1.224926e-05\n",
      "0                                   km_200000_240000  8.701840e-06\n",
      "0      tipo_anuncio_Acessórios e serviços para autos  8.320986e-06\n",
      "0                                   km_360000_400000  7.712966e-06\n",
      "0                                           cor_Azul  2.377648e-06\n",
      "0                                   tipo_Conversível  1.340140e-06\n",
      "0                                          cor_Verde  4.083160e-07\n",
      "0                                       cor_Vermelho  7.153885e-08\n",
      "0                                   km_280000_320000  3.540380e-08\n"
     ]
    },
    {
     "data": {
      "image/png": "[encoded data removed]",
      "text/plain": [
       "<Figure size 720x360 with 1 Axes>"
      ]
     },
     "metadata": {
      "image/png": {
       "height": 319,
       "width": 601
      },
      "needs_background": "light"
     },
     "output_type": "display_data"
    }
   ],
   "source": [
    "importances = forest.feature_importances_\n",
    "std = np.std( [tree.feature_importances_ for tree in forest.estimators_], axis=0 )\n",
    "indices = np.argsort( importances )[::-1]\n",
    "\n",
    "# print the feature ranking\n",
    "df = pd.DataFrame()\n",
    "\n",
    "print( 'Feature Ranking:\\n' )\n",
    "for i, j in zip( x_train_fselection,forest.feature_importances_ ):\n",
    "    aux = pd.DataFrame( {'feature': i, 'importance': j}, index=[0] )\n",
    "    df = pd.concat( [df, aux], axis=0 )\n",
    "    \n",
    "print( df.sort_values( 'importance', ascending=False ) ) \n",
    "\n",
    "# plot the impurity-based feature importances of the forest\n",
    "plt.figure(figsize=(10,5))\n",
    "plt.title( 'Feature importances' )\n",
    "plt.bar( range( x_train_fselection.shape[1] ), importances[indices], color='r', yerr=std[indices], align='center' )\n",
    "plt.xticks( range(x_train_fselection.shape[1]), indices )\n",
    "plt.xlim( [-1, x_train_fselection.shape[1]] )\n",
    "plt.show()"
   ]
  },
  {
   "cell_type": "markdown",
   "metadata": {
    "cell_id": "fefb181cca9442c4a15d0a141c1bfa51",
    "deepnote_cell_type": "text-cell-h2",
    "formattedRanges": [],
    "is_collapsed": false,
    "tags": []
   },
   "source": [
    "## 6.2. Boruta Selection"
   ]
  },
  {
   "cell_type": "code",
   "execution_count": 49,
   "metadata": {
    "cell_id": "82bc63bb6da448d49bcdb5a025c6d110",
    "deepnote_cell_height": 515.125,
    "deepnote_cell_type": "code",
    "deepnote_output_heights": [
     423.125
    ],
    "deepnote_to_be_reexecuted": true,
    "execution_millis": 639,
    "execution_start": 1661044455094,
    "source_hash": "cce6f78d",
    "tags": []
   },
   "outputs": [
    {
     "name": "stdout",
     "output_type": "stream",
     "text": [
      "Iteration: \t1 / 100\n",
      "Confirmed: \t0\n",
      "Tentative: \t59\n",
      "Rejected: \t0\n",
      "Iteration: \t2 / 100\n",
      "Confirmed: \t0\n",
      "Tentative: \t59\n",
      "Rejected: \t0\n",
      "Iteration: \t3 / 100\n",
      "Confirmed: \t0\n",
      "Tentative: \t59\n",
      "Rejected: \t0\n",
      "Iteration: \t4 / 100\n",
      "Confirmed: \t0\n",
      "Tentative: \t59\n",
      "Rejected: \t0\n",
      "Iteration: \t5 / 100\n",
      "Confirmed: \t0\n",
      "Tentative: \t59\n",
      "Rejected: \t0\n",
      "Iteration: \t6 / 100\n",
      "Confirmed: \t0\n",
      "Tentative: \t59\n",
      "Rejected: \t0\n",
      "Iteration: \t7 / 100\n",
      "Confirmed: \t0\n",
      "Tentative: \t59\n",
      "Rejected: \t0\n",
      "Iteration: \t8 / 100\n",
      "Confirmed: \t7\n",
      "Tentative: \t1\n",
      "Rejected: \t51\n",
      "Iteration: \t9 / 100\n",
      "Confirmed: \t7\n",
      "Tentative: \t1\n",
      "Rejected: \t51\n",
      "Iteration: \t10 / 100\n",
      "Confirmed: \t7\n",
      "Tentative: \t1\n",
      "Rejected: \t51\n",
      "Iteration: \t11 / 100\n",
      "Confirmed: \t7\n",
      "Tentative: \t1\n",
      "Rejected: \t51\n",
      "Iteration: \t12 / 100\n",
      "Confirmed: \t7\n",
      "Tentative: \t0\n",
      "Rejected: \t52\n",
      "\n",
      "\n",
      "BorutaPy finished running.\n",
      "\n",
      "Iteration: \t13 / 100\n",
      "Confirmed: \t7\n",
      "Tentative: \t0\n",
      "Rejected: \t52\n"
     ]
    }
   ],
   "source": [
    "# training\n",
    "x_train_fselection = df6.drop( ['preco','id'], axis=1 ).values\n",
    "y_train_fselection = df6['preco'].values.ravel()\n",
    "\n",
    "# define RandomForestRegressor\n",
    "rf = RandomForestRegressor(n_jobs=-1)\n",
    "\n",
    "# define Boruta\n",
    "boruta = BorutaPy(rf, n_estimators='auto', verbose=2, random_state=42).fit(x_train_fselection, y_train_fselection)"
   ]
  },
  {
   "cell_type": "code",
   "execution_count": 50,
   "metadata": {},
   "outputs": [],
   "source": [
    "cols_selected = boruta.support_.tolist()\n",
    "\n",
    "# best features\n",
    "X_train_fs = df6.drop(['id', 'preco'], axis=1)\n",
    "cols_selected_boruta = X_train_fs.iloc[:, cols_selected]\n",
    "\n",
    "# not selected boruta\n",
    "cols_not_selected_boruta = list(np.setdiff1d(X_train_fs.columns, cols_selected_boruta.columns))\n"
   ]
  },
  {
   "cell_type": "code",
   "execution_count": 53,
   "metadata": {},
   "outputs": [
    {
     "data": {
      "text/plain": [
       "Index(['marca', 'modelo', 'ano_de_fabricacao', 'ano_modelo', 'odometro',\n",
       "       'motor', 'tipo_Utilitário esportivo'],\n",
       "      dtype='object')"
      ]
     },
     "execution_count": 53,
     "metadata": {},
     "output_type": "execute_result"
    }
   ],
   "source": [
    "cols_selected_boruta.columns"
   ]
  },
  {
   "cell_type": "markdown",
   "metadata": {
    "cell_id": "ce46cd3c04e64001957575860b5a079a",
    "deepnote_cell_type": "text-cell-h2",
    "formattedRanges": [],
    "is_collapsed": false,
    "tags": []
   },
   "source": [
    "## 6.1. Manual Selection"
   ]
  },
  {
   "cell_type": "code",
   "execution_count": 56,
   "metadata": {
    "cell_id": "e84b708a358e44839dd2d966d323fbfe",
    "deepnote_cell_height": 99,
    "deepnote_cell_type": "code",
    "deepnote_to_be_reexecuted": false,
    "execution_millis": 4,
    "execution_start": 1661086961770,
    "source_hash": "545cae49",
    "tags": []
   },
   "outputs": [],
   "source": [
    "#cols=['preco','motor','tipo_Utilitário esportivo','odometro','modelo','km','tipo_Picape','marca','cambio_Manual','ano_modelo','ano_de_fabricacao','cidade_vendedor','cor_Branco','estado_vendedor','attr_veiculo_aceita_troca','cambio_Automática','num_fotos','attr_veiculo_licenciado','attr_veiculo_todas_as_revisoes_feitas_pela_concessionaria','attr_veiculo_ipva_pago','attr_veiculo_unico_dono','tipo_Cupê','ano_de_fabricacao_2011','tipo_Sedã','ano_modelo_2011','attr_veiculo_todas_as_revisoes_feitas_pela_agenda_do_carro','cor_Preto']\n",
    "#cols=['preco','motor','tipo_Utilitário esportivo','km_0_40000','modelo','odometro','marca','ano_modelo','tipo_Picape','ano_de_fabricacao','cidade_vendedor','cambio_Automática']\n",
    "\n",
    "# boruta cols\n",
    "cols = ['preco', 'marca', 'modelo', 'ano_de_fabricacao', 'ano_modelo', 'odometro', 'motor', 'tipo_Utilitário esportivo']"
   ]
  },
  {
   "cell_type": "markdown",
   "metadata": {
    "cell_id": "1de97010650b4343b56b6f0a472ea47b",
    "deepnote_cell_type": "text-cell-h1",
    "formattedRanges": [],
    "is_collapsed": false,
    "tags": []
   },
   "source": [
    "# 7.0. MACHINE LEARNING MODELLING"
   ]
  },
  {
   "cell_type": "code",
   "execution_count": 57,
   "metadata": {
    "cell_id": "469dd26de6d248dfb533c5798ad6ba1e",
    "deepnote_cell_height": 94,
    "deepnote_cell_type": "code",
    "deepnote_to_be_reexecuted": false,
    "execution_millis": 6,
    "execution_start": 1661086966196,
    "source_hash": "29299f2d",
    "tags": []
   },
   "outputs": [],
   "source": [
    "df7 = df6[cols].copy()\n",
    "df7['preco'] = np.log1p(df7['preco'])"
   ]
  },
  {
   "cell_type": "code",
   "execution_count": 58,
   "metadata": {
    "cell_id": "69fc853c9ff94e6faf54b662d8f5f5b9",
    "deepnote_cell_height": 130,
    "deepnote_cell_type": "code",
    "deepnote_to_be_reexecuted": false,
    "execution_millis": 7,
    "execution_start": 1661086972079,
    "source_hash": "39fbdf40",
    "tags": []
   },
   "outputs": [],
   "source": [
    "X = df7.drop(columns=[\"preco\"])\n",
    "Y = df7['preco'].copy()\n",
    "\n",
    "X_train, X_val, y_train, y_val = ms.train_test_split( X, Y, test_size=0.2, random_state=42 )"
   ]
  },
  {
   "cell_type": "markdown",
   "metadata": {
    "cell_id": "7ae14e93f8de48edb17ca2e8a9085a5b",
    "deepnote_cell_type": "text-cell-h2",
    "formattedRanges": [],
    "is_collapsed": false,
    "tags": []
   },
   "source": [
    "## 7.1. Linear Regression"
   ]
  },
  {
   "cell_type": "code",
   "execution_count": 59,
   "metadata": {
    "cell_id": "7d451b985ebc4ce5ab99989f887fbb5a",
    "deepnote_cell_height": 370,
    "deepnote_cell_type": "code",
    "deepnote_to_be_reexecuted": true,
    "execution_millis": 526,
    "execution_start": 1661044455209,
    "source_hash": "598834bf",
    "tags": []
   },
   "outputs": [
    {
     "data": {
      "text/html": [
       "<div>\n",
       "<style scoped>\n",
       "    .dataframe tbody tr th:only-of-type {\n",
       "        vertical-align: middle;\n",
       "    }\n",
       "\n",
       "    .dataframe tbody tr th {\n",
       "        vertical-align: top;\n",
       "    }\n",
       "\n",
       "    .dataframe thead th {\n",
       "        text-align: right;\n",
       "    }\n",
       "</style>\n",
       "<table border=\"1\" class=\"dataframe\">\n",
       "  <thead>\n",
       "    <tr style=\"text-align: right;\">\n",
       "      <th></th>\n",
       "      <th>Model name</th>\n",
       "      <th>MAE</th>\n",
       "      <th>MAPE</th>\n",
       "      <th>RMSE</th>\n",
       "    </tr>\n",
       "  </thead>\n",
       "  <tbody>\n",
       "    <tr>\n",
       "      <th>0</th>\n",
       "      <td>Linear Regression</td>\n",
       "      <td>44174.575606</td>\n",
       "      <td>0.355036</td>\n",
       "      <td>69840.787949</td>\n",
       "    </tr>\n",
       "  </tbody>\n",
       "</table>\n",
       "</div>"
      ],
      "text/plain": [
       "          Model name           MAE      MAPE          RMSE\n",
       "0  Linear Regression  44174.575606  0.355036  69840.787949"
      ]
     },
     "execution_count": 59,
     "metadata": {},
     "output_type": "execute_result"
    }
   ],
   "source": [
    "# model training\n",
    "lr = LinearRegression().fit( X_train, y_train )\n",
    "\n",
    "# prediction\n",
    "yhat_lr = lr.predict( X_val )\n",
    "\n",
    "# performance (error)\n",
    "lr_results = ml_error( 'Linear Regression', np.expm1(y_val) , np.expm1(yhat_lr) )\n",
    "lr_results"
   ]
  },
  {
   "cell_type": "markdown",
   "metadata": {
    "cell_id": "f484a15f7a5f44329846360eedf34653",
    "deepnote_cell_type": "text-cell-h3",
    "formattedRanges": [],
    "is_collapsed": false,
    "tags": []
   },
   "source": [
    "### 7.1.1. Cross Validation"
   ]
  },
  {
   "cell_type": "code",
   "execution_count": null,
   "metadata": {
    "cell_id": "774f6873e97741228d6fce6d5f47cab7",
    "deepnote_cell_height": 76,
    "deepnote_cell_type": "code",
    "deepnote_to_be_reexecuted": true,
    "execution_millis": 16915032,
    "execution_start": 1661044455466,
    "source_hash": "b623e53d",
    "tags": []
   },
   "outputs": [],
   "source": []
  },
  {
   "cell_type": "markdown",
   "metadata": {
    "cell_id": "f5e325b0d0ab475282115d29f11abdb8",
    "deepnote_cell_type": "text-cell-h2",
    "formattedRanges": [],
    "is_collapsed": false,
    "tags": []
   },
   "source": [
    "## 7.2. LASSO"
   ]
  },
  {
   "cell_type": "markdown",
   "metadata": {
    "cell_id": "6c4c4431e24441dab61ab146704a597d",
    "deepnote_cell_type": "text-cell-h3",
    "formattedRanges": [],
    "is_collapsed": false,
    "tags": []
   },
   "source": [
    "### 7.2.1. Cross Validation"
   ]
  },
  {
   "cell_type": "code",
   "execution_count": null,
   "metadata": {
    "cell_id": "7cc464bc5a8942518d56c7aedc89a246",
    "deepnote_cell_height": 76,
    "deepnote_cell_type": "code",
    "deepnote_to_be_reexecuted": true,
    "execution_millis": 16914993,
    "execution_start": 1661044455479,
    "source_hash": "b623e53d",
    "tags": []
   },
   "outputs": [],
   "source": []
  },
  {
   "cell_type": "markdown",
   "metadata": {
    "cell_id": "a89db504a8824d108f7ae36b1484d14b",
    "deepnote_cell_type": "text-cell-h2",
    "formattedRanges": [],
    "is_collapsed": false,
    "tags": []
   },
   "source": [
    "## 7.3. Random Forest Regressor"
   ]
  },
  {
   "cell_type": "code",
   "execution_count": null,
   "metadata": {
    "cell_id": "c25fc36d278d43c1931de47a88f14631",
    "deepnote_cell_height": 370,
    "deepnote_cell_type": "code",
    "deepnote_to_be_reexecuted": true,
    "execution_millis": 16155,
    "execution_start": 1661045620112,
    "source_hash": "33b13732",
    "tags": []
   },
   "outputs": [
    {
     "data": {
      "application/vnd.deepnote.dataframe.v3+json": {
       "column_count": 4,
       "columns": [
        {
         "dtype": "object",
         "name": "Model name",
         "stats": {
          "categories": [
           {
            "count": 1,
            "name": "Random Forest Regressor"
           }
          ],
          "nan_count": 0,
          "unique_count": 1
         }
        },
        {
         "dtype": "float64",
         "name": "MAE",
         "stats": {
          "histogram": [
           {
            "bin_end": 28774.528592345876,
            "bin_start": 28774.428592345877,
            "count": 0
           },
           {
            "bin_end": 28774.628592345878,
            "bin_start": 28774.528592345876,
            "count": 0
           },
           {
            "bin_end": 28774.728592345877,
            "bin_start": 28774.628592345878,
            "count": 0
           },
           {
            "bin_end": 28774.82859234588,
            "bin_start": 28774.728592345877,
            "count": 0
           },
           {
            "bin_end": 28774.928592345877,
            "bin_start": 28774.82859234588,
            "count": 0
           },
           {
            "bin_end": 28775.028592345876,
            "bin_start": 28774.928592345877,
            "count": 1
           },
           {
            "bin_end": 28775.128592345878,
            "bin_start": 28775.028592345876,
            "count": 0
           },
           {
            "bin_end": 28775.228592345877,
            "bin_start": 28775.128592345878,
            "count": 0
           },
           {
            "bin_end": 28775.32859234588,
            "bin_start": 28775.228592345877,
            "count": 0
           },
           {
            "bin_end": 28775.428592345877,
            "bin_start": 28775.32859234588,
            "count": 0
           }
          ],
          "max": "28774.928592345877",
          "min": "28774.928592345877",
          "nan_count": 0,
          "unique_count": 1
         }
        },
        {
         "dtype": "float64",
         "name": "MAPE",
         "stats": {
          "histogram": [
           {
            "bin_end": -0.16998882460001405,
            "bin_start": -0.26998882460001405,
            "count": 0
           },
           {
            "bin_end": -0.06998882460001404,
            "bin_start": -0.16998882460001405,
            "count": 0
           },
           {
            "bin_end": 0.03001117539998599,
            "bin_start": -0.06998882460001404,
            "count": 0
           },
           {
            "bin_end": 0.13001117539998597,
            "bin_start": 0.03001117539998599,
            "count": 0
           },
           {
            "bin_end": 0.23001117539998595,
            "bin_start": 0.13001117539998597,
            "count": 0
           },
           {
            "bin_end": 0.33001117539998603,
            "bin_start": 0.23001117539998595,
            "count": 1
           },
           {
            "bin_end": 0.430011175399986,
            "bin_start": 0.33001117539998603,
            "count": 0
           },
           {
            "bin_end": 0.530011175399986,
            "bin_start": 0.430011175399986,
            "count": 0
           },
           {
            "bin_end": 0.630011175399986,
            "bin_start": 0.530011175399986,
            "count": 0
           },
           {
            "bin_end": 0.730011175399986,
            "bin_start": 0.630011175399986,
            "count": 0
           }
          ],
          "max": "0.23001117539998595",
          "min": "0.23001117539998595",
          "nan_count": 0,
          "unique_count": 1
         }
        },
        {
         "dtype": "float64",
         "name": "RMSE",
         "stats": {
          "histogram": [
           {
            "bin_end": 47678.2583495149,
            "bin_start": 47678.1583495149,
            "count": 0
           },
           {
            "bin_end": 47678.3583495149,
            "bin_start": 47678.2583495149,
            "count": 0
           },
           {
            "bin_end": 47678.458349514905,
            "bin_start": 47678.3583495149,
            "count": 0
           },
           {
            "bin_end": 47678.558349514904,
            "bin_start": 47678.458349514905,
            "count": 0
           },
           {
            "bin_end": 47678.6583495149,
            "bin_start": 47678.558349514904,
            "count": 0
           },
           {
            "bin_end": 47678.7583495149,
            "bin_start": 47678.6583495149,
            "count": 1
           },
           {
            "bin_end": 47678.8583495149,
            "bin_start": 47678.7583495149,
            "count": 0
           },
           {
            "bin_end": 47678.958349514905,
            "bin_start": 47678.8583495149,
            "count": 0
           },
           {
            "bin_end": 47679.058349514904,
            "bin_start": 47678.958349514905,
            "count": 0
           },
           {
            "bin_end": 47679.1583495149,
            "bin_start": 47679.058349514904,
            "count": 0
           }
          ],
          "max": "47678.6583495149",
          "min": "47678.6583495149",
          "nan_count": 0,
          "unique_count": 1
         }
        },
        {
         "dtype": "int64",
         "name": "_deepnote_index_column"
        }
       ],
       "row_count": 1,
       "rows": [
        {
         "MAE": 28774.928592345877,
         "MAPE": 0.23001117539998595,
         "Model name": "Random Forest Regressor",
         "RMSE": 47678.6583495149,
         "_deepnote_index_column": 0
        }
       ]
      },
      "text/html": [
       "<div>\n",
       "<style scoped>\n",
       "    .dataframe tbody tr th:only-of-type {\n",
       "        vertical-align: middle;\n",
       "    }\n",
       "\n",
       "    .dataframe tbody tr th {\n",
       "        vertical-align: top;\n",
       "    }\n",
       "\n",
       "    .dataframe thead th {\n",
       "        text-align: right;\n",
       "    }\n",
       "</style>\n",
       "<table border=\"1\" class=\"dataframe\">\n",
       "  <thead>\n",
       "    <tr style=\"text-align: right;\">\n",
       "      <th></th>\n",
       "      <th>Model name</th>\n",
       "      <th>MAE</th>\n",
       "      <th>MAPE</th>\n",
       "      <th>RMSE</th>\n",
       "    </tr>\n",
       "  </thead>\n",
       "  <tbody>\n",
       "    <tr>\n",
       "      <th>0</th>\n",
       "      <td>Random Forest Regressor</td>\n",
       "      <td>28774.928592</td>\n",
       "      <td>0.230011</td>\n",
       "      <td>47678.65835</td>\n",
       "    </tr>\n",
       "  </tbody>\n",
       "</table>\n",
       "</div>"
      ],
      "text/plain": [
       "                Model name           MAE      MAPE         RMSE\n",
       "0  Random Forest Regressor  28774.928592  0.230011  47678.65835"
      ]
     },
     "execution_count": 60,
     "metadata": {},
     "output_type": "execute_result"
    }
   ],
   "source": [
    "# model\n",
    "rf = RandomForestRegressor( n_estimators=150, n_jobs=-1, random_state=42 ).fit( X_train, y_train )\n",
    "\n",
    "# prediction\n",
    "yhat_rf = rf.predict( X_val )\n",
    "\n",
    "# performance\n",
    "rf_results = ml_error( 'Random Forest Regressor',np.expm1(y_val),np.expm1(yhat_rf) )\n",
    "rf_results"
   ]
  },
  {
   "cell_type": "code",
   "execution_count": 60,
   "metadata": {
    "cell_id": "c25fc36d278d43c1931de47a88f14631",
    "deepnote_cell_height": 370,
    "deepnote_cell_type": "code",
    "deepnote_to_be_reexecuted": true,
    "execution_millis": 16155,
    "execution_start": 1661045620112,
    "source_hash": "33b13732",
    "tags": []
   },
   "outputs": [
    {
     "data": {
      "text/html": [
       "<div>\n",
       "<style scoped>\n",
       "    .dataframe tbody tr th:only-of-type {\n",
       "        vertical-align: middle;\n",
       "    }\n",
       "\n",
       "    .dataframe tbody tr th {\n",
       "        vertical-align: top;\n",
       "    }\n",
       "\n",
       "    .dataframe thead th {\n",
       "        text-align: right;\n",
       "    }\n",
       "</style>\n",
       "<table border=\"1\" class=\"dataframe\">\n",
       "  <thead>\n",
       "    <tr style=\"text-align: right;\">\n",
       "      <th></th>\n",
       "      <th>Model name</th>\n",
       "      <th>MAE</th>\n",
       "      <th>MAPE</th>\n",
       "      <th>RMSE</th>\n",
       "    </tr>\n",
       "  </thead>\n",
       "  <tbody>\n",
       "    <tr>\n",
       "      <th>0</th>\n",
       "      <td>Random Forest Regressor</td>\n",
       "      <td>30066.140655</td>\n",
       "      <td>0.241628</td>\n",
       "      <td>49108.409516</td>\n",
       "    </tr>\n",
       "  </tbody>\n",
       "</table>\n",
       "</div>"
      ],
      "text/plain": [
       "                Model name           MAE      MAPE          RMSE\n",
       "0  Random Forest Regressor  30066.140655  0.241628  49108.409516"
      ]
     },
     "execution_count": 60,
     "metadata": {},
     "output_type": "execute_result"
    }
   ],
   "source": [
    "# model\n",
    "rf = RandomForestRegressor( n_estimators=150, n_jobs=-1, random_state=42 ).fit( X_train, y_train )\n",
    "\n",
    "# prediction\n",
    "yhat_rf = rf.predict( X_val )\n",
    "\n",
    "# performance\n",
    "rf_results = ml_error( 'Random Forest Regressor',np.expm1(y_val),np.expm1(yhat_rf) )\n",
    "rf_results"
   ]
  },
  {
   "cell_type": "markdown",
   "metadata": {
    "cell_id": "a60cf8130f3e44bfa16b13b31e307616",
    "deepnote_cell_type": "text-cell-h3",
    "formattedRanges": [],
    "is_collapsed": false,
    "tags": []
   },
   "source": [
    "### 7.3.1. Cross Validation"
   ]
  },
  {
   "cell_type": "code",
   "execution_count": null,
   "metadata": {
    "cell_id": "94dec6e068624b54a466c46c2a0d9dbf",
    "deepnote_cell_height": 76,
    "deepnote_cell_type": "code",
    "deepnote_to_be_reexecuted": true,
    "execution_millis": 16920180,
    "execution_start": 1661044493426,
    "source_hash": "b623e53d",
    "tags": []
   },
   "outputs": [],
   "source": []
  },
  {
   "cell_type": "markdown",
   "metadata": {
    "cell_id": "b9fa1f057354464db43fbe1693296d9c",
    "deepnote_cell_type": "text-cell-h2",
    "formattedRanges": [],
    "is_collapsed": false,
    "tags": []
   },
   "source": [
    "## 7.4. Decision Tree Regressor"
   ]
  },
  {
   "cell_type": "code",
   "execution_count": null,
   "metadata": {
    "cell_id": "38b627290e044ddb812f2e39e90bf98c",
    "deepnote_cell_height": 76,
    "deepnote_cell_type": "code",
    "deepnote_to_be_reexecuted": true,
    "execution_millis": 16920185,
    "execution_start": 1661044493446,
    "source_hash": "b623e53d",
    "tags": []
   },
   "outputs": [],
   "source": []
  },
  {
   "cell_type": "markdown",
   "metadata": {
    "cell_id": "3d50b3394b934d12b66d41d20b1cbb6a",
    "deepnote_cell_type": "text-cell-h3",
    "formattedRanges": [],
    "is_collapsed": false,
    "tags": []
   },
   "source": [
    "### 7.4.1. Cross Validation"
   ]
  },
  {
   "cell_type": "code",
   "execution_count": null,
   "metadata": {
    "cell_id": "01cc772a8ed64e029ed72af6364c1047",
    "deepnote_cell_height": 76,
    "deepnote_cell_type": "code",
    "deepnote_to_be_reexecuted": true,
    "execution_millis": 16920180,
    "execution_start": 1661044493462,
    "source_hash": "b623e53d",
    "tags": []
   },
   "outputs": [],
   "source": []
  },
  {
   "cell_type": "markdown",
   "metadata": {
    "cell_id": "d446df4455b3419382e7697df9035620",
    "deepnote_cell_type": "text-cell-h2",
    "formattedRanges": [],
    "is_collapsed": false,
    "tags": []
   },
   "source": [
    "## 7.5. XGBoost Regressor"
   ]
  },
  {
   "cell_type": "code",
   "execution_count": null,
   "metadata": {
    "cell_id": "1e08a477d2204dcf96b3a8334f61de1a",
    "deepnote_cell_height": 370,
    "deepnote_cell_type": "code",
    "deepnote_to_be_reexecuted": true,
    "execution_millis": 11588,
    "execution_start": 1661045646508,
    "source_hash": "92bf6fc0",
    "tags": []
   },
   "outputs": [
    {
     "data": {
      "application/vnd.deepnote.dataframe.v3+json": {
       "column_count": 4,
       "columns": [
        {
         "dtype": "object",
         "name": "Model name",
         "stats": {
          "categories": [
           {
            "count": 1,
            "name": "XGBoost Regressor"
           }
          ],
          "nan_count": 0,
          "unique_count": 1
         }
        },
        {
         "dtype": "float64",
         "name": "MAE",
         "stats": {
          "histogram": [
           {
            "bin_end": 28131.029941412948,
            "bin_start": 28130.92994141295,
            "count": 0
           },
           {
            "bin_end": 28131.12994141295,
            "bin_start": 28131.029941412948,
            "count": 0
           },
           {
            "bin_end": 28131.22994141295,
            "bin_start": 28131.12994141295,
            "count": 0
           },
           {
            "bin_end": 28131.32994141295,
            "bin_start": 28131.22994141295,
            "count": 0
           },
           {
            "bin_end": 28131.42994141295,
            "bin_start": 28131.32994141295,
            "count": 0
           },
           {
            "bin_end": 28131.529941412948,
            "bin_start": 28131.42994141295,
            "count": 1
           },
           {
            "bin_end": 28131.62994141295,
            "bin_start": 28131.529941412948,
            "count": 0
           },
           {
            "bin_end": 28131.72994141295,
            "bin_start": 28131.62994141295,
            "count": 0
           },
           {
            "bin_end": 28131.82994141295,
            "bin_start": 28131.72994141295,
            "count": 0
           },
           {
            "bin_end": 28131.92994141295,
            "bin_start": 28131.82994141295,
            "count": 0
           }
          ],
          "max": "28131.42994141295",
          "min": "28131.42994141295",
          "nan_count": 0,
          "unique_count": 1
         }
        },
        {
         "dtype": "float64",
         "name": "MAPE",
         "stats": {
          "histogram": [
           {
            "bin_end": -0.17731007828578524,
            "bin_start": -0.27731007828578524,
            "count": 0
           },
           {
            "bin_end": -0.07731007828578523,
            "bin_start": -0.17731007828578524,
            "count": 0
           },
           {
            "bin_end": 0.0226899217142148,
            "bin_start": -0.07731007828578523,
            "count": 0
           },
           {
            "bin_end": 0.12268992171421478,
            "bin_start": 0.0226899217142148,
            "count": 0
           },
           {
            "bin_end": 0.22268992171421476,
            "bin_start": 0.12268992171421478,
            "count": 0
           },
           {
            "bin_end": 0.32268992171421484,
            "bin_start": 0.22268992171421476,
            "count": 1
           },
           {
            "bin_end": 0.4226899217142148,
            "bin_start": 0.32268992171421484,
            "count": 0
           },
           {
            "bin_end": 0.5226899217142148,
            "bin_start": 0.4226899217142148,
            "count": 0
           },
           {
            "bin_end": 0.6226899217142148,
            "bin_start": 0.5226899217142148,
            "count": 0
           },
           {
            "bin_end": 0.7226899217142148,
            "bin_start": 0.6226899217142148,
            "count": 0
           }
          ],
          "max": "0.22268992171421478",
          "min": "0.22268992171421478",
          "nan_count": 0,
          "unique_count": 1
         }
        },
        {
         "dtype": "float64",
         "name": "RMSE",
         "stats": {
          "histogram": [
           {
            "bin_end": 46648.09673980177,
            "bin_start": 46647.99673980177,
            "count": 0
           },
           {
            "bin_end": 46648.196739801766,
            "bin_start": 46648.09673980177,
            "count": 0
           },
           {
            "bin_end": 46648.29673980177,
            "bin_start": 46648.196739801766,
            "count": 0
           },
           {
            "bin_end": 46648.39673980177,
            "bin_start": 46648.29673980177,
            "count": 0
           },
           {
            "bin_end": 46648.49673980177,
            "bin_start": 46648.39673980177,
            "count": 0
           },
           {
            "bin_end": 46648.59673980177,
            "bin_start": 46648.49673980177,
            "count": 1
           },
           {
            "bin_end": 46648.696739801766,
            "bin_start": 46648.59673980177,
            "count": 0
           },
           {
            "bin_end": 46648.79673980177,
            "bin_start": 46648.696739801766,
            "count": 0
           },
           {
            "bin_end": 46648.89673980177,
            "bin_start": 46648.79673980177,
            "count": 0
           },
           {
            "bin_end": 46648.99673980177,
            "bin_start": 46648.89673980177,
            "count": 0
           }
          ],
          "max": "46648.49673980177",
          "min": "46648.49673980177",
          "nan_count": 0,
          "unique_count": 1
         }
        },
        {
         "dtype": "int64",
         "name": "_deepnote_index_column"
        }
       ],
       "row_count": 1,
       "rows": [
        {
         "MAE": 28131.42994141295,
         "MAPE": 0.22268992171421478,
         "Model name": "XGBoost Regressor",
         "RMSE": 46648.49673980177,
         "_deepnote_index_column": 0
        }
       ]
      },
      "text/html": [
       "<div>\n",
       "<style scoped>\n",
       "    .dataframe tbody tr th:only-of-type {\n",
       "        vertical-align: middle;\n",
       "    }\n",
       "\n",
       "    .dataframe tbody tr th {\n",
       "        vertical-align: top;\n",
       "    }\n",
       "\n",
       "    .dataframe thead th {\n",
       "        text-align: right;\n",
       "    }\n",
       "</style>\n",
       "<table border=\"1\" class=\"dataframe\">\n",
       "  <thead>\n",
       "    <tr style=\"text-align: right;\">\n",
       "      <th></th>\n",
       "      <th>Model name</th>\n",
       "      <th>MAE</th>\n",
       "      <th>MAPE</th>\n",
       "      <th>RMSE</th>\n",
       "    </tr>\n",
       "  </thead>\n",
       "  <tbody>\n",
       "    <tr>\n",
       "      <th>0</th>\n",
       "      <td>XGBoost Regressor</td>\n",
       "      <td>28131.429941</td>\n",
       "      <td>0.22269</td>\n",
       "      <td>46648.49674</td>\n",
       "    </tr>\n",
       "  </tbody>\n",
       "</table>\n",
       "</div>"
      ],
      "text/plain": [
       "          Model name           MAE     MAPE         RMSE\n",
       "0  XGBoost Regressor  28131.429941  0.22269  46648.49674"
      ]
     },
     "execution_count": 61,
     "metadata": {},
     "output_type": "execute_result"
    }
   ],
   "source": [
    "# model\n",
    "model_xgb = xgb.XGBRegressor( n_estimators=400 ).fit( X_train, y_train )\n",
    "\n",
    "# prediction\n",
    "yhat_xgb = model_xgb.predict( X_val )\n",
    "\n",
    "# performance\n",
    "model_xgb_results = ml_error( 'XGBoost Regressor', np.expm1(y_val),np.expm1(yhat_xgb) )\n",
    "model_xgb_results"
   ]
  },
  {
   "cell_type": "code",
   "execution_count": 61,
   "metadata": {
    "cell_id": "1e08a477d2204dcf96b3a8334f61de1a",
    "deepnote_cell_height": 370,
    "deepnote_cell_type": "code",
    "deepnote_to_be_reexecuted": true,
    "execution_millis": 11588,
    "execution_start": 1661045646508,
    "source_hash": "92bf6fc0",
    "tags": []
   },
   "outputs": [
    {
     "name": "stderr",
     "output_type": "stream",
     "text": [
      "f:\\SamuelOliveiraAlvesd\\Anaconda3\\envs\\Health_Insurance_Cross_Sell\\lib\\site-packages\\xgboost\\data.py:250: FutureWarning: pandas.Int64Index is deprecated and will be removed from pandas in a future version. Use pandas.Index with the appropriate dtype instead.\n",
      "  elif isinstance(data.columns, (pd.Int64Index, pd.RangeIndex)):\n"
     ]
    },
    {
     "data": {
      "text/html": [
       "<div>\n",
       "<style scoped>\n",
       "    .dataframe tbody tr th:only-of-type {\n",
       "        vertical-align: middle;\n",
       "    }\n",
       "\n",
       "    .dataframe tbody tr th {\n",
       "        vertical-align: top;\n",
       "    }\n",
       "\n",
       "    .dataframe thead th {\n",
       "        text-align: right;\n",
       "    }\n",
       "</style>\n",
       "<table border=\"1\" class=\"dataframe\">\n",
       "  <thead>\n",
       "    <tr style=\"text-align: right;\">\n",
       "      <th></th>\n",
       "      <th>Model name</th>\n",
       "      <th>MAE</th>\n",
       "      <th>MAPE</th>\n",
       "      <th>RMSE</th>\n",
       "    </tr>\n",
       "  </thead>\n",
       "  <tbody>\n",
       "    <tr>\n",
       "      <th>0</th>\n",
       "      <td>XGBoost Regressor</td>\n",
       "      <td>28678.830501</td>\n",
       "      <td>0.226872</td>\n",
       "      <td>47814.97963</td>\n",
       "    </tr>\n",
       "  </tbody>\n",
       "</table>\n",
       "</div>"
      ],
      "text/plain": [
       "          Model name           MAE      MAPE         RMSE\n",
       "0  XGBoost Regressor  28678.830501  0.226872  47814.97963"
      ]
     },
     "execution_count": 61,
     "metadata": {},
     "output_type": "execute_result"
    }
   ],
   "source": [
    "# model\n",
    "model_xgb = xgb.XGBRegressor( n_estimators=400 ).fit( X_train, y_train )\n",
    "\n",
    "# prediction\n",
    "yhat_xgb = model_xgb.predict( X_val )\n",
    "\n",
    "# performance\n",
    "model_xgb_results = ml_error( 'XGBoost Regressor', np.expm1(y_val),np.expm1(yhat_xgb) )\n",
    "model_xgb_results"
   ]
  },
  {
   "cell_type": "markdown",
   "metadata": {
    "cell_id": "99c889541d064bada91ef12f5ddf32e5",
    "deepnote_cell_type": "text-cell-h3",
    "formattedRanges": [],
    "is_collapsed": false,
    "tags": []
   },
   "source": [
    "### 7.5.1. Cross Validation"
   ]
  },
  {
   "cell_type": "code",
   "execution_count": null,
   "metadata": {
    "cell_id": "251e0b8324534179851c3f1edac3f4f6",
    "deepnote_cell_height": 76,
    "deepnote_cell_type": "code",
    "deepnote_to_be_reexecuted": true,
    "execution_millis": 12,
    "execution_start": 1661044524311,
    "source_hash": "b623e53d",
    "tags": []
   },
   "outputs": [],
   "source": []
  },
  {
   "cell_type": "markdown",
   "metadata": {
    "cell_id": "a307284412264bcbacf08365defe53f4",
    "deepnote_cell_type": "text-cell-h2",
    "formattedRanges": [],
    "is_collapsed": false,
    "tags": []
   },
   "source": [
    "## 7.6. LightGBM"
   ]
  },
  {
   "cell_type": "code",
   "execution_count": 62,
   "metadata": {
    "cell_id": "fc9411f4e3eb467ea4e281defd1a971f",
    "deepnote_cell_height": 370,
    "deepnote_cell_type": "code",
    "deepnote_to_be_reexecuted": false,
    "execution_millis": 16839,
    "execution_start": 1661086978733,
    "source_hash": "afc2117a",
    "tags": []
   },
   "outputs": [
    {
     "data": {
      "text/html": [
       "<div>\n",
       "<style scoped>\n",
       "    .dataframe tbody tr th:only-of-type {\n",
       "        vertical-align: middle;\n",
       "    }\n",
       "\n",
       "    .dataframe tbody tr th {\n",
       "        vertical-align: top;\n",
       "    }\n",
       "\n",
       "    .dataframe thead th {\n",
       "        text-align: right;\n",
       "    }\n",
       "</style>\n",
       "<table border=\"1\" class=\"dataframe\">\n",
       "  <thead>\n",
       "    <tr style=\"text-align: right;\">\n",
       "      <th></th>\n",
       "      <th>Model name</th>\n",
       "      <th>MAE</th>\n",
       "      <th>MAPE</th>\n",
       "      <th>RMSE</th>\n",
       "    </tr>\n",
       "  </thead>\n",
       "  <tbody>\n",
       "    <tr>\n",
       "      <th>0</th>\n",
       "      <td>LightGBM Regressor</td>\n",
       "      <td>27519.015059</td>\n",
       "      <td>0.21783</td>\n",
       "      <td>46351.174686</td>\n",
       "    </tr>\n",
       "  </tbody>\n",
       "</table>\n",
       "</div>"
      ],
      "text/plain": [
       "           Model name           MAE     MAPE          RMSE\n",
       "0  LightGBM Regressor  27519.015059  0.21783  46351.174686"
      ]
     },
     "execution_count": 62,
     "metadata": {},
     "output_type": "execute_result"
    }
   ],
   "source": [
    "# model\n",
    "model_lgb = lgb.LGBMRegressor( n_estimators=400).fit( X_train, y_train )\n",
    "\n",
    "# prediction\n",
    "yhat_lgb = model_lgb.predict( X_val )\n",
    "\n",
    "# performance\n",
    "model_lgb_results = ml_error( 'LightGBM Regressor', np.expm1(y_val), np.expm1(yhat_lgb) )\n",
    "model_lgb_results"
   ]
  },
  {
   "cell_type": "markdown",
   "metadata": {
    "cell_id": "99c889541d064bada91ef12f5ddf32e5",
    "deepnote_cell_type": "text-cell-h3",
    "formattedRanges": [],
    "is_collapsed": false,
    "tags": []
   },
   "source": [
    "### 7.6.1. Cross Validation"
   ]
  },
  {
   "cell_type": "code",
   "execution_count": 122,
   "metadata": {},
   "outputs": [
    {
     "name": "stderr",
     "output_type": "stream",
     "text": [
      "[Parallel(n_jobs=-1)]: Using backend LokyBackend with 4 concurrent workers.\n",
      "[Parallel(n_jobs=-1)]: Done   5 out of   5 | elapsed:    6.3s finished\n"
     ]
    },
    {
     "data": {
      "text/plain": [
       "array([30378.83779663, 29600.5072017 , 30637.40599671, 29186.17724612,\n",
       "       30343.77644401])"
      ]
     },
     "execution_count": 122,
     "metadata": {},
     "output_type": "execute_result"
    }
   ],
   "source": [
    "from sklearn.model_selection import KFold, cross_val_score\n",
    "\n",
    "model_lgb = LGBMRegressor(colsample_bytree=0.5403615581709872,\n",
    "              learning_rate=0.036256176345762295, max_depth=4,\n",
    "              min_child_samples=45, n_estimators=1215, num_leaves=77,\n",
    "              random_state=42, subsample=0.14497617002710278, subsample_freq=1)\n",
    "\n",
    "x = pd.concat([X_train, X_val])\n",
    "y = pd.concat([y_train, y_val])\n",
    "    \n",
    "kf = KFold(n_splits=5, random_state=42, shuffle=True)    \n",
    "\n",
    "mae_cv = cross_val_score(model_lgb, x, np.expm1(y), scoring='neg_mean_absolute_error', cv=kf.split(x), n_jobs=-1, verbose=1)*-1\n",
    "\n",
    "mae_cv\n",
    "#np.mean(mae_cv)"
   ]
  },
  {
   "cell_type": "code",
   "execution_count": 98,
   "metadata": {},
   "outputs": [],
   "source": [
    "from skopt.space import Real, Integer\n",
    "from skopt.utils import use_named_args\n",
    "from skopt import gp_minimize\n",
    "from skopt.callbacks import CheckpointSaver"
   ]
  },
  {
   "cell_type": "code",
   "execution_count": 128,
   "metadata": {},
   "outputs": [
    {
     "name": "stdout",
     "output_type": "stream",
     "text": [
      "Iteration No: 1 started. Evaluating function at random point.\n",
      "LGBMRegressor(colsample_bytree=0.5403615581709872,\n",
      "              learning_rate=0.036256176345762295, max_depth=4,\n",
      "              min_child_samples=45, n_estimators=1215, num_leaves=77,\n",
      "              random_state=42, subsample=0.14497617002710278, subsample_freq=1)\n"
     ]
    },
    {
     "name": "stderr",
     "output_type": "stream",
     "text": [
      "[Parallel(n_jobs=-1)]: Using backend LokyBackend with 4 concurrent workers.\n",
      "[Parallel(n_jobs=-1)]: Done  10 out of  10 | elapsed:    9.4s finished\n",
      "[Parallel(n_jobs=-1)]: Using backend LokyBackend with 4 concurrent workers.\n"
     ]
    },
    {
     "name": "stdout",
     "output_type": "stream",
     "text": [
      "Iteration No: 1 ended. Evaluation done at random point.\n",
      "Time taken: 9.6045\n",
      "Function value obtained: 29991.0977\n",
      "Current minimum: 29991.0977\n",
      "Iteration No: 2 started. Evaluating function at random point.\n",
      "LGBMRegressor(colsample_bytree=0.15066195096486218,\n",
      "              learning_rate=0.020034427927560734, max_depth=4,\n",
      "              min_child_samples=72, n_estimators=567, num_leaves=9,\n",
      "              random_state=42, subsample=0.9416250735649628, subsample_freq=1)\n"
     ]
    },
    {
     "name": "stderr",
     "output_type": "stream",
     "text": [
      "[Parallel(n_jobs=-1)]: Done  10 out of  10 | elapsed:    3.3s finished\n",
      "[Parallel(n_jobs=-1)]: Using backend LokyBackend with 4 concurrent workers.\n"
     ]
    },
    {
     "name": "stdout",
     "output_type": "stream",
     "text": [
      "Iteration No: 2 ended. Evaluation done at random point.\n",
      "Time taken: 3.5450\n",
      "Function value obtained: 36427.7538\n",
      "Current minimum: 29991.0977\n",
      "Iteration No: 3 started. Evaluating function at random point.\n",
      "LGBMRegressor(colsample_bytree=0.48988182595796725,\n",
      "              learning_rate=0.01672269700618368, max_depth=13,\n",
      "              min_child_samples=3, n_estimators=1489, num_leaves=3,\n",
      "              random_state=42, subsample=0.5485359272454697, subsample_freq=1)\n"
     ]
    },
    {
     "name": "stderr",
     "output_type": "stream",
     "text": [
      "[Parallel(n_jobs=-1)]: Done  10 out of  10 | elapsed:    7.5s finished\n",
      "[Parallel(n_jobs=-1)]: Using backend LokyBackend with 4 concurrent workers.\n"
     ]
    },
    {
     "name": "stdout",
     "output_type": "stream",
     "text": [
      "Iteration No: 3 ended. Evaluation done at random point.\n",
      "Time taken: 7.6748\n",
      "Function value obtained: 33843.8540\n",
      "Current minimum: 29991.0977\n",
      "Iteration No: 4 started. Evaluating function at random point.\n",
      "LGBMRegressor(colsample_bytree=0.9857462529357701,\n",
      "              learning_rate=0.0029210748185657135, max_depth=20,\n",
      "              min_child_samples=62, n_estimators=165, num_leaves=13,\n",
      "              random_state=42, subsample=0.41333889170380467, subsample_freq=1)\n"
     ]
    },
    {
     "name": "stderr",
     "output_type": "stream",
     "text": [
      "[Parallel(n_jobs=-1)]: Done  10 out of  10 | elapsed:    1.8s finished\n",
      "[Parallel(n_jobs=-1)]: Using backend LokyBackend with 4 concurrent workers.\n"
     ]
    },
    {
     "name": "stdout",
     "output_type": "stream",
     "text": [
      "Iteration No: 4 ended. Evaluation done at random point.\n",
      "Time taken: 2.0420\n",
      "Function value obtained: 47733.3738\n",
      "Current minimum: 29991.0977\n",
      "Iteration No: 5 started. Evaluating function at random point.\n",
      "LGBMRegressor(colsample_bytree=0.6287949851687085,\n",
      "              learning_rate=0.022941144328643994, max_depth=17,\n",
      "              min_child_samples=2, n_estimators=753, num_leaves=59,\n",
      "              random_state=42, subsample=0.9450916679006104, subsample_freq=1)\n"
     ]
    },
    {
     "name": "stderr",
     "output_type": "stream",
     "text": [
      "[Parallel(n_jobs=-1)]: Done  10 out of  10 | elapsed:    7.4s finished\n",
      "[Parallel(n_jobs=-1)]: Using backend LokyBackend with 4 concurrent workers.\n"
     ]
    },
    {
     "name": "stdout",
     "output_type": "stream",
     "text": [
      "Iteration No: 5 ended. Evaluation done at random point.\n",
      "Time taken: 7.6918\n",
      "Function value obtained: 27712.4479\n",
      "Current minimum: 27712.4479\n",
      "Iteration No: 6 started. Evaluating function at random point.\n",
      "LGBMRegressor(colsample_bytree=0.8582156749757399,\n",
      "              learning_rate=0.002895927274708839, max_depth=1,\n",
      "              min_child_samples=69, n_estimators=640, num_leaves=32,\n",
      "              random_state=42, subsample=0.62949682489349, subsample_freq=1)\n"
     ]
    },
    {
     "name": "stderr",
     "output_type": "stream",
     "text": [
      "[Parallel(n_jobs=-1)]: Done  10 out of  10 | elapsed:    2.6s finished\n",
      "[Parallel(n_jobs=-1)]: Using backend LokyBackend with 4 concurrent workers.\n"
     ]
    },
    {
     "name": "stdout",
     "output_type": "stream",
     "text": [
      "Iteration No: 6 ended. Evaluation done at random point.\n",
      "Time taken: 2.8533\n",
      "Function value obtained: 48585.1429\n",
      "Current minimum: 27712.4479\n",
      "Iteration No: 7 started. Evaluating function at random point.\n",
      "LGBMRegressor(colsample_bytree=0.6325452786469928,\n",
      "              learning_rate=0.0023145798905204883, max_depth=8,\n",
      "              min_child_samples=43, n_estimators=343, num_leaves=97,\n",
      "              random_state=42, subsample=0.24754457972477945, subsample_freq=1)\n"
     ]
    },
    {
     "name": "stderr",
     "output_type": "stream",
     "text": [
      "[Parallel(n_jobs=-1)]: Done  10 out of  10 | elapsed:    6.0s finished\n",
      "[Parallel(n_jobs=-1)]: Using backend LokyBackend with 4 concurrent workers.\n"
     ]
    },
    {
     "name": "stdout",
     "output_type": "stream",
     "text": [
      "Iteration No: 7 ended. Evaluation done at random point.\n",
      "Time taken: 6.2129\n",
      "Function value obtained: 41432.3078\n",
      "Current minimum: 27712.4479\n",
      "Iteration No: 8 started. Evaluating function at random point.\n",
      "LGBMRegressor(colsample_bytree=0.42755965348496006,\n",
      "              learning_rate=0.007934293594590601, max_depth=17,\n",
      "              min_child_samples=93, n_estimators=144, num_leaves=52,\n",
      "              random_state=42, subsample=0.7409083960635999, subsample_freq=1)\n"
     ]
    },
    {
     "name": "stderr",
     "output_type": "stream",
     "text": [
      "[Parallel(n_jobs=-1)]: Done  10 out of  10 | elapsed:    1.7s finished\n",
      "[Parallel(n_jobs=-1)]: Using backend LokyBackend with 4 concurrent workers.\n"
     ]
    },
    {
     "name": "stdout",
     "output_type": "stream",
     "text": [
      "Iteration No: 8 ended. Evaluation done at random point.\n",
      "Time taken: 1.9849\n",
      "Function value obtained: 38840.1927\n",
      "Current minimum: 27712.4479\n",
      "Iteration No: 9 started. Evaluating function at random point.\n",
      "LGBMRegressor(colsample_bytree=0.648738490814271,\n",
      "              learning_rate=0.08362652463906246, max_depth=11,\n",
      "              min_child_samples=75, n_estimators=899, num_leaves=108,\n",
      "              random_state=42, subsample=0.5627075257696259, subsample_freq=1)\n"
     ]
    },
    {
     "name": "stderr",
     "output_type": "stream",
     "text": [
      "[Parallel(n_jobs=-1)]: Done  10 out of  10 | elapsed:   15.1s finished\n",
      "[Parallel(n_jobs=-1)]: Using backend LokyBackend with 4 concurrent workers.\n"
     ]
    },
    {
     "name": "stdout",
     "output_type": "stream",
     "text": [
      "Iteration No: 9 ended. Evaluation done at random point.\n",
      "Time taken: 15.3106\n",
      "Function value obtained: 28103.6726\n",
      "Current minimum: 27712.4479\n",
      "Iteration No: 10 started. Evaluating function at random point.\n",
      "LGBMRegressor(colsample_bytree=0.5098912586004143,\n",
      "              learning_rate=0.0035644979070394624, max_depth=13,\n",
      "              min_child_samples=17, n_estimators=1451, num_leaves=39,\n",
      "              random_state=42, subsample=0.06485458640413425, subsample_freq=1)\n"
     ]
    },
    {
     "name": "stderr",
     "output_type": "stream",
     "text": [
      "[Parallel(n_jobs=-1)]: Done  10 out of  10 | elapsed:   21.3s finished\n"
     ]
    },
    {
     "name": "stdout",
     "output_type": "stream",
     "text": [
      "Iteration No: 10 ended. Evaluation done at random point.\n",
      "Time taken: 21.8690\n",
      "Function value obtained: 29990.9489\n",
      "Current minimum: 27712.4479\n",
      "Iteration No: 11 started. Searching for the next optimal point.\n",
      "LGBMRegressor(colsample_bytree=0.5404985702457551,\n",
      "              learning_rate=0.043226704064826184, max_depth=15,\n",
      "              min_child_samples=1, n_estimators=654, num_leaves=104,\n",
      "              random_state=42, subsample=0.7786367401083204, subsample_freq=1)\n"
     ]
    },
    {
     "name": "stderr",
     "output_type": "stream",
     "text": [
      "[Parallel(n_jobs=-1)]: Using backend LokyBackend with 4 concurrent workers.\n",
      "[Parallel(n_jobs=-1)]: Done  10 out of  10 | elapsed:    8.7s finished\n"
     ]
    },
    {
     "name": "stdout",
     "output_type": "stream",
     "text": [
      "Iteration No: 11 ended. Search finished for the next optimal point.\n",
      "Time taken: 9.2823\n",
      "Function value obtained: 27531.2627\n",
      "Current minimum: 27531.2627\n",
      "Iteration No: 12 started. Searching for the next optimal point.\n",
      "LGBMRegressor(colsample_bytree=0.5229318816665964,\n",
      "              learning_rate=0.02520033832786986, max_depth=20,\n",
      "              min_child_samples=6, num_leaves=128, random_state=42,\n",
      "              subsample=0.706952663767402, subsample_freq=1)\n"
     ]
    },
    {
     "name": "stderr",
     "output_type": "stream",
     "text": [
      "[Parallel(n_jobs=-1)]: Using backend LokyBackend with 4 concurrent workers.\n",
      "[Parallel(n_jobs=-1)]: Done  10 out of  10 | elapsed:    1.8s finished\n"
     ]
    },
    {
     "name": "stdout",
     "output_type": "stream",
     "text": [
      "Iteration No: 12 ended. Search finished for the next optimal point.\n",
      "Time taken: 2.3901\n",
      "Function value obtained: 29505.2272\n",
      "Current minimum: 27531.2627\n",
      "Iteration No: 13 started. Searching for the next optimal point.\n",
      "LGBMRegressor(colsample_bytree=0.6459895154788864,\n",
      "              learning_rate=0.025416172650102455, max_depth=18,\n",
      "              min_child_samples=2, n_estimators=631, num_leaves=71,\n",
      "              random_state=42, subsample_freq=1)\n"
     ]
    },
    {
     "name": "stderr",
     "output_type": "stream",
     "text": [
      "[Parallel(n_jobs=-1)]: Using backend LokyBackend with 4 concurrent workers.\n",
      "[Parallel(n_jobs=-1)]: Done  10 out of  10 | elapsed:    6.2s finished\n"
     ]
    },
    {
     "name": "stdout",
     "output_type": "stream",
     "text": [
      "Iteration No: 13 ended. Search finished for the next optimal point.\n",
      "Time taken: 6.8407\n",
      "Function value obtained: 27728.3307\n",
      "Current minimum: 27531.2627\n",
      "Iteration No: 14 started. Searching for the next optimal point.\n",
      "LGBMRegressor(colsample_bytree=0.5039080347726602,\n",
      "              learning_rate=0.04410721049879651, max_depth=14,\n",
      "              min_child_samples=1, n_estimators=667, num_leaves=113,\n",
      "              random_state=42, subsample=0.6583790707429398, subsample_freq=1)\n"
     ]
    },
    {
     "name": "stderr",
     "output_type": "stream",
     "text": [
      "[Parallel(n_jobs=-1)]: Using backend LokyBackend with 4 concurrent workers.\n",
      "[Parallel(n_jobs=-1)]: Done  10 out of  10 | elapsed:   10.8s finished\n"
     ]
    },
    {
     "name": "stdout",
     "output_type": "stream",
     "text": [
      "Iteration No: 14 ended. Search finished for the next optimal point.\n",
      "Time taken: 11.3947\n",
      "Function value obtained: 27660.1264\n",
      "Current minimum: 27531.2627\n",
      "Iteration No: 15 started. Searching for the next optimal point.\n",
      "LGBMRegressor(colsample_bytree=0.8955105440556923, max_depth=4,\n",
      "              min_child_samples=68, n_estimators=1051, num_leaves=94,\n",
      "              random_state=42, subsample=0.831103644878888, subsample_freq=1)\n"
     ]
    },
    {
     "name": "stderr",
     "output_type": "stream",
     "text": [
      "[Parallel(n_jobs=-1)]: Using backend LokyBackend with 4 concurrent workers.\n",
      "[Parallel(n_jobs=-1)]: Done  10 out of  10 | elapsed:    6.2s finished\n"
     ]
    },
    {
     "name": "stdout",
     "output_type": "stream",
     "text": [
      "Iteration No: 15 ended. Search finished for the next optimal point.\n",
      "Time taken: 6.8937\n",
      "Function value obtained: 28505.1136\n",
      "Current minimum: 27531.2627\n",
      "Iteration No: 16 started. Searching for the next optimal point.\n",
      "LGBMRegressor(colsample_bytree=0.20952981801902032, max_depth=20,\n",
      "              min_child_samples=83, n_estimators=835, num_leaves=128,\n",
      "              random_state=42, subsample=0.11983453685300151, subsample_freq=1)\n"
     ]
    },
    {
     "name": "stderr",
     "output_type": "stream",
     "text": [
      "[Parallel(n_jobs=-1)]: Using backend LokyBackend with 4 concurrent workers.\n",
      "[Parallel(n_jobs=-1)]: Done  10 out of  10 | elapsed:    8.6s finished\n"
     ]
    },
    {
     "name": "stdout",
     "output_type": "stream",
     "text": [
      "Iteration No: 16 ended. Search finished for the next optimal point.\n",
      "Time taken: 9.2056\n",
      "Function value obtained: 34520.8697\n",
      "Current minimum: 27531.2627\n",
      "Iteration No: 17 started. Searching for the next optimal point.\n",
      "LGBMRegressor(colsample_bytree=0.5654336718050068,\n",
      "              learning_rate=0.04225784559939573, max_depth=12,\n",
      "              min_child_samples=1, n_estimators=646, num_leaves=102,\n",
      "              random_state=42, subsample=0.645951288200597, subsample_freq=1)\n"
     ]
    },
    {
     "name": "stderr",
     "output_type": "stream",
     "text": [
      "[Parallel(n_jobs=-1)]: Using backend LokyBackend with 4 concurrent workers.\n",
      "[Parallel(n_jobs=-1)]: Done  10 out of  10 | elapsed:   10.0s finished\n"
     ]
    },
    {
     "name": "stdout",
     "output_type": "stream",
     "text": [
      "Iteration No: 17 ended. Search finished for the next optimal point.\n",
      "Time taken: 10.6378\n",
      "Function value obtained: 27624.0316\n",
      "Current minimum: 27531.2627\n",
      "Iteration No: 18 started. Searching for the next optimal point.\n",
      "LGBMRegressor(colsample_bytree=0.5527680432974771,\n",
      "              learning_rate=0.03576190411016418, max_depth=20,\n",
      "              min_child_samples=3, n_estimators=662, num_leaves=14,\n",
      "              random_state=42, subsample_freq=1)\n"
     ]
    },
    {
     "name": "stderr",
     "output_type": "stream",
     "text": [
      "[Parallel(n_jobs=-1)]: Using backend LokyBackend with 4 concurrent workers.\n",
      "[Parallel(n_jobs=-1)]: Done  10 out of  10 | elapsed:    3.5s finished\n"
     ]
    },
    {
     "name": "stdout",
     "output_type": "stream",
     "text": [
      "Iteration No: 18 ended. Search finished for the next optimal point.\n",
      "Time taken: 4.1515\n",
      "Function value obtained: 29015.4690\n",
      "Current minimum: 27531.2627\n",
      "Iteration No: 19 started. Searching for the next optimal point.\n",
      "LGBMRegressor(colsample_bytree=0.6414453660957463,\n",
      "              learning_rate=0.025188004163388202, max_depth=17,\n",
      "              min_child_samples=1, n_estimators=706, num_leaves=113,\n",
      "              random_state=42, subsample_freq=1)\n"
     ]
    },
    {
     "name": "stderr",
     "output_type": "stream",
     "text": [
      "[Parallel(n_jobs=-1)]: Using backend LokyBackend with 4 concurrent workers.\n",
      "[Parallel(n_jobs=-1)]: Done  10 out of  10 | elapsed:    9.0s finished\n"
     ]
    },
    {
     "name": "stdout",
     "output_type": "stream",
     "text": [
      "Iteration No: 19 ended. Search finished for the next optimal point.\n",
      "Time taken: 9.7041\n",
      "Function value obtained: 27421.0195\n",
      "Current minimum: 27421.0195\n",
      "Iteration No: 20 started. Searching for the next optimal point.\n",
      "LGBMRegressor(colsample_bytree=0.8657369868972951,\n",
      "              learning_rate=0.07825634801883129, max_depth=9,\n",
      "              min_child_samples=70, n_estimators=724, num_leaves=91,\n",
      "              random_state=42, subsample=0.8580626082186013, subsample_freq=1)\n"
     ]
    },
    {
     "name": "stderr",
     "output_type": "stream",
     "text": [
      "[Parallel(n_jobs=-1)]: Using backend LokyBackend with 4 concurrent workers.\n",
      "[Parallel(n_jobs=-1)]: Done  10 out of  10 | elapsed:    7.9s finished\n"
     ]
    },
    {
     "name": "stdout",
     "output_type": "stream",
     "text": [
      "Iteration No: 20 ended. Search finished for the next optimal point.\n",
      "Time taken: 8.4714\n",
      "Function value obtained: 27852.2892\n",
      "Current minimum: 27421.0195\n",
      "Iteration No: 21 started. Searching for the next optimal point.\n",
      "LGBMRegressor(colsample_bytree=0.7441859964447753,\n",
      "              learning_rate=0.038054861125982824, max_depth=8,\n",
      "              min_child_samples=1, n_estimators=465, num_leaves=128,\n",
      "              random_state=42, subsample=0.7466051651769517, subsample_freq=1)\n"
     ]
    },
    {
     "name": "stderr",
     "output_type": "stream",
     "text": [
      "[Parallel(n_jobs=-1)]: Using backend LokyBackend with 4 concurrent workers.\n",
      "[Parallel(n_jobs=-1)]: Done  10 out of  10 | elapsed:    7.2s finished\n"
     ]
    },
    {
     "name": "stdout",
     "output_type": "stream",
     "text": [
      "Iteration No: 21 ended. Search finished for the next optimal point.\n",
      "Time taken: 7.8837\n",
      "Function value obtained: 27597.5022\n",
      "Current minimum: 27421.0195\n",
      "Iteration No: 22 started. Searching for the next optimal point.\n",
      "LGBMRegressor(colsample_bytree=0.6430422135168571,\n",
      "              learning_rate=0.04284215609922759, max_depth=14,\n",
      "              min_child_samples=1, n_estimators=1045, num_leaves=115,\n",
      "              random_state=42, subsample_freq=1)\n"
     ]
    },
    {
     "name": "stderr",
     "output_type": "stream",
     "text": [
      "[Parallel(n_jobs=-1)]: Using backend LokyBackend with 4 concurrent workers.\n",
      "[Parallel(n_jobs=-1)]: Done  10 out of  10 | elapsed:   12.2s finished\n"
     ]
    },
    {
     "name": "stdout",
     "output_type": "stream",
     "text": [
      "Iteration No: 22 ended. Search finished for the next optimal point.\n",
      "Time taken: 12.9296\n",
      "Function value obtained: 27845.0657\n",
      "Current minimum: 27421.0195\n",
      "Iteration No: 23 started. Searching for the next optimal point.\n",
      "LGBMRegressor(colsample_bytree=0.9834250625004634,\n",
      "              learning_rate=0.07236189285264971, max_depth=5,\n",
      "              min_child_samples=70, n_estimators=984, num_leaves=123,\n",
      "              random_state=42, subsample=0.6316162171546796, subsample_freq=1)\n"
     ]
    },
    {
     "name": "stderr",
     "output_type": "stream",
     "text": [
      "[Parallel(n_jobs=-1)]: Using backend LokyBackend with 4 concurrent workers.\n",
      "[Parallel(n_jobs=-1)]: Done  10 out of  10 | elapsed:    8.3s finished\n"
     ]
    },
    {
     "name": "stdout",
     "output_type": "stream",
     "text": [
      "Iteration No: 23 ended. Search finished for the next optimal point.\n",
      "Time taken: 9.0221\n",
      "Function value obtained: 28513.6168\n",
      "Current minimum: 27421.0195\n",
      "Iteration No: 24 started. Searching for the next optimal point.\n",
      "LGBMRegressor(colsample_bytree=0.5051736090977783,\n",
      "              learning_rate=0.042454372907967095, max_depth=13,\n",
      "              min_child_samples=1, num_leaves=97, random_state=42,\n",
      "              subsample=0.4509118933166447, subsample_freq=1)\n"
     ]
    },
    {
     "name": "stderr",
     "output_type": "stream",
     "text": [
      "[Parallel(n_jobs=-1)]: Using backend LokyBackend with 4 concurrent workers.\n",
      "[Parallel(n_jobs=-1)]: Done  10 out of  10 | elapsed:    1.9s finished\n"
     ]
    },
    {
     "name": "stdout",
     "output_type": "stream",
     "text": [
      "Iteration No: 24 ended. Search finished for the next optimal point.\n",
      "Time taken: 2.5673\n",
      "Function value obtained: 28809.8582\n",
      "Current minimum: 27421.0195\n",
      "Iteration No: 25 started. Searching for the next optimal point.\n",
      "LGBMRegressor(colsample_bytree=0.4744219136251894,\n",
      "              learning_rate=0.0830462301455459, max_depth=17,\n",
      "              min_child_samples=76, n_estimators=559, num_leaves=45,\n",
      "              random_state=42, subsample=0.8234887049413329, subsample_freq=1)\n"
     ]
    },
    {
     "name": "stderr",
     "output_type": "stream",
     "text": [
      "[Parallel(n_jobs=-1)]: Using backend LokyBackend with 4 concurrent workers.\n",
      "[Parallel(n_jobs=-1)]: Done  10 out of  10 | elapsed:    5.7s finished\n"
     ]
    },
    {
     "name": "stdout",
     "output_type": "stream",
     "text": [
      "Iteration No: 25 ended. Search finished for the next optimal point.\n",
      "Time taken: 6.4084\n",
      "Function value obtained: 27940.3760\n",
      "Current minimum: 27421.0195\n",
      "Iteration No: 26 started. Searching for the next optimal point.\n",
      "LGBMRegressor(colsample_bytree=0.38412638914035035,\n",
      "              learning_rate=0.04182842175901697, max_depth=7,\n",
      "              min_child_samples=1, n_estimators=1500, num_leaves=118,\n",
      "              random_state=42, subsample=0.7337092225115137, subsample_freq=1)\n"
     ]
    },
    {
     "name": "stderr",
     "output_type": "stream",
     "text": [
      "[Parallel(n_jobs=-1)]: Using backend LokyBackend with 4 concurrent workers.\n",
      "[Parallel(n_jobs=-1)]: Done  10 out of  10 | elapsed:   23.5s finished\n"
     ]
    },
    {
     "name": "stdout",
     "output_type": "stream",
     "text": [
      "Iteration No: 26 ended. Search finished for the next optimal point.\n",
      "Time taken: 24.1176\n",
      "Function value obtained: 27751.0497\n",
      "Current minimum: 27421.0195\n",
      "Iteration No: 27 started. Searching for the next optimal point.\n",
      "LGBMRegressor(learning_rate=0.04402610566568004, max_depth=8,\n",
      "              min_child_samples=1, n_estimators=701, num_leaves=23,\n",
      "              random_state=42, subsample=0.7571784217475648, subsample_freq=1)\n"
     ]
    },
    {
     "name": "stderr",
     "output_type": "stream",
     "text": [
      "[Parallel(n_jobs=-1)]: Using backend LokyBackend with 4 concurrent workers.\n",
      "[Parallel(n_jobs=-1)]: Done  10 out of  10 | elapsed:    5.2s finished\n"
     ]
    },
    {
     "name": "stdout",
     "output_type": "stream",
     "text": [
      "Iteration No: 27 ended. Search finished for the next optimal point.\n",
      "Time taken: 5.8937\n",
      "Function value obtained: 28240.5993\n",
      "Current minimum: 27421.0195\n",
      "Iteration No: 28 started. Searching for the next optimal point.\n",
      "LGBMRegressor(colsample_bytree=0.6344775634230317,\n",
      "              learning_rate=0.046797281733974565, max_depth=15,\n",
      "              min_child_samples=1, num_leaves=128, random_state=42,\n",
      "              subsample=0.7437713821759545, subsample_freq=1)\n"
     ]
    },
    {
     "name": "stderr",
     "output_type": "stream",
     "text": [
      "[Parallel(n_jobs=-1)]: Using backend LokyBackend with 4 concurrent workers.\n",
      "[Parallel(n_jobs=-1)]: Done  10 out of  10 | elapsed:    1.7s finished\n"
     ]
    },
    {
     "name": "stdout",
     "output_type": "stream",
     "text": [
      "Iteration No: 28 ended. Search finished for the next optimal point.\n",
      "Time taken: 2.4063\n",
      "Function value obtained: 28186.8660\n",
      "Current minimum: 27421.0195\n",
      "Iteration No: 29 started. Searching for the next optimal point.\n",
      "LGBMRegressor(colsample_bytree=0.6908196167714448,\n",
      "              learning_rate=0.08598606489002585, max_depth=18,\n",
      "              min_child_samples=74, n_estimators=408, num_leaves=122,\n",
      "              random_state=42, subsample=0.8236710058672855, subsample_freq=1)\n"
     ]
    },
    {
     "name": "stderr",
     "output_type": "stream",
     "text": [
      "[Parallel(n_jobs=-1)]: Using backend LokyBackend with 4 concurrent workers.\n",
      "[Parallel(n_jobs=-1)]: Done  10 out of  10 | elapsed:    7.6s finished\n"
     ]
    },
    {
     "name": "stdout",
     "output_type": "stream",
     "text": [
      "Iteration No: 29 ended. Search finished for the next optimal point.\n",
      "Time taken: 8.4335\n",
      "Function value obtained: 27860.6934\n",
      "Current minimum: 27421.0195\n",
      "Iteration No: 30 started. Searching for the next optimal point.\n",
      "LGBMRegressor(colsample_bytree=0.5278048072625442,\n",
      "              learning_rate=0.04176758526590465, max_depth=20,\n",
      "              min_child_samples=1, n_estimators=833, num_leaves=128,\n",
      "              random_state=42, subsample=0.7504362265932321, subsample_freq=1)\n"
     ]
    },
    {
     "name": "stderr",
     "output_type": "stream",
     "text": [
      "[Parallel(n_jobs=-1)]: Using backend LokyBackend with 4 concurrent workers.\n",
      "[Parallel(n_jobs=-1)]: Done  10 out of  10 | elapsed:   13.2s finished\n"
     ]
    },
    {
     "name": "stdout",
     "output_type": "stream",
     "text": [
      "Iteration No: 30 ended. Search finished for the next optimal point.\n",
      "Time taken: 13.8601\n",
      "Function value obtained: 27686.8644\n",
      "Current minimum: 27421.0195\n"
     ]
    },
    {
     "data": {
      "text/plain": [
       "          fun: 27421.019510475093\n",
       "    func_vals: array([29991.09770383, 36427.75381611, 33843.85404113, 47733.37375136,\n",
       "       27712.44794386, 48585.14294566, 41432.30782907, 38840.1927479 ,\n",
       "       28103.67255491, 29990.94887304, 27531.26274423, 29505.22723135,\n",
       "       27728.33066165, 27660.12639768, 28505.11360648, 34520.86967095,\n",
       "       27624.03160226, 29015.46901363, 27421.01951048, 27852.28920719,\n",
       "       27597.50224425, 27845.06569956, 28513.61676086, 28809.85824647,\n",
       "       27940.3760023 , 27751.04973511, 28240.5992822 , 28186.86599428,\n",
       "       27860.69336518, 27686.86435695])\n",
       "       models: [GaussianProcessRegressor(kernel=1**2 * Matern(length_scale=[1, 1, 1, 1, 1, 1, 1], nu=2.5) + WhiteKernel(noise_level=1),\n",
       "                         n_restarts_optimizer=2, noise='gaussian',\n",
       "                         normalize_y=True, random_state=1608637542), GaussianProcessRegressor(kernel=1**2 * Matern(length_scale=[1, 1, 1, 1, 1, 1, 1], nu=2.5) + WhiteKernel(noise_level=1),\n",
       "                         n_restarts_optimizer=2, noise='gaussian',\n",
       "                         normalize_y=True, random_state=1608637542), GaussianProcessRegressor(kernel=1**2 * Matern(length_scale=[1, 1, 1, 1, 1, 1, 1], nu=2.5) + WhiteKernel(noise_level=1),\n",
       "                         n_restarts_optimizer=2, noise='gaussian',\n",
       "                         normalize_y=True, random_state=1608637542), GaussianProcessRegressor(kernel=1**2 * Matern(length_scale=[1, 1, 1, 1, 1, 1, 1], nu=2.5) + WhiteKernel(noise_level=1),\n",
       "                         n_restarts_optimizer=2, noise='gaussian',\n",
       "                         normalize_y=True, random_state=1608637542), GaussianProcessRegressor(kernel=1**2 * Matern(length_scale=[1, 1, 1, 1, 1, 1, 1], nu=2.5) + WhiteKernel(noise_level=1),\n",
       "                         n_restarts_optimizer=2, noise='gaussian',\n",
       "                         normalize_y=True, random_state=1608637542), GaussianProcessRegressor(kernel=1**2 * Matern(length_scale=[1, 1, 1, 1, 1, 1, 1], nu=2.5) + WhiteKernel(noise_level=1),\n",
       "                         n_restarts_optimizer=2, noise='gaussian',\n",
       "                         normalize_y=True, random_state=1608637542), GaussianProcessRegressor(kernel=1**2 * Matern(length_scale=[1, 1, 1, 1, 1, 1, 1], nu=2.5) + WhiteKernel(noise_level=1),\n",
       "                         n_restarts_optimizer=2, noise='gaussian',\n",
       "                         normalize_y=True, random_state=1608637542), GaussianProcessRegressor(kernel=1**2 * Matern(length_scale=[1, 1, 1, 1, 1, 1, 1], nu=2.5) + WhiteKernel(noise_level=1),\n",
       "                         n_restarts_optimizer=2, noise='gaussian',\n",
       "                         normalize_y=True, random_state=1608637542), GaussianProcessRegressor(kernel=1**2 * Matern(length_scale=[1, 1, 1, 1, 1, 1, 1], nu=2.5) + WhiteKernel(noise_level=1),\n",
       "                         n_restarts_optimizer=2, noise='gaussian',\n",
       "                         normalize_y=True, random_state=1608637542), GaussianProcessRegressor(kernel=1**2 * Matern(length_scale=[1, 1, 1, 1, 1, 1, 1], nu=2.5) + WhiteKernel(noise_level=1),\n",
       "                         n_restarts_optimizer=2, noise='gaussian',\n",
       "                         normalize_y=True, random_state=1608637542), GaussianProcessRegressor(kernel=1**2 * Matern(length_scale=[1, 1, 1, 1, 1, 1, 1], nu=2.5) + WhiteKernel(noise_level=1),\n",
       "                         n_restarts_optimizer=2, noise='gaussian',\n",
       "                         normalize_y=True, random_state=1608637542), GaussianProcessRegressor(kernel=1**2 * Matern(length_scale=[1, 1, 1, 1, 1, 1, 1], nu=2.5) + WhiteKernel(noise_level=1),\n",
       "                         n_restarts_optimizer=2, noise='gaussian',\n",
       "                         normalize_y=True, random_state=1608637542), GaussianProcessRegressor(kernel=1**2 * Matern(length_scale=[1, 1, 1, 1, 1, 1, 1], nu=2.5) + WhiteKernel(noise_level=1),\n",
       "                         n_restarts_optimizer=2, noise='gaussian',\n",
       "                         normalize_y=True, random_state=1608637542), GaussianProcessRegressor(kernel=1**2 * Matern(length_scale=[1, 1, 1, 1, 1, 1, 1], nu=2.5) + WhiteKernel(noise_level=1),\n",
       "                         n_restarts_optimizer=2, noise='gaussian',\n",
       "                         normalize_y=True, random_state=1608637542), GaussianProcessRegressor(kernel=1**2 * Matern(length_scale=[1, 1, 1, 1, 1, 1, 1], nu=2.5) + WhiteKernel(noise_level=1),\n",
       "                         n_restarts_optimizer=2, noise='gaussian',\n",
       "                         normalize_y=True, random_state=1608637542), GaussianProcessRegressor(kernel=1**2 * Matern(length_scale=[1, 1, 1, 1, 1, 1, 1], nu=2.5) + WhiteKernel(noise_level=1),\n",
       "                         n_restarts_optimizer=2, noise='gaussian',\n",
       "                         normalize_y=True, random_state=1608637542), GaussianProcessRegressor(kernel=1**2 * Matern(length_scale=[1, 1, 1, 1, 1, 1, 1], nu=2.5) + WhiteKernel(noise_level=1),\n",
       "                         n_restarts_optimizer=2, noise='gaussian',\n",
       "                         normalize_y=True, random_state=1608637542), GaussianProcessRegressor(kernel=1**2 * Matern(length_scale=[1, 1, 1, 1, 1, 1, 1], nu=2.5) + WhiteKernel(noise_level=1),\n",
       "                         n_restarts_optimizer=2, noise='gaussian',\n",
       "                         normalize_y=True, random_state=1608637542), GaussianProcessRegressor(kernel=1**2 * Matern(length_scale=[1, 1, 1, 1, 1, 1, 1], nu=2.5) + WhiteKernel(noise_level=1),\n",
       "                         n_restarts_optimizer=2, noise='gaussian',\n",
       "                         normalize_y=True, random_state=1608637542), GaussianProcessRegressor(kernel=1**2 * Matern(length_scale=[1, 1, 1, 1, 1, 1, 1], nu=2.5) + WhiteKernel(noise_level=1),\n",
       "                         n_restarts_optimizer=2, noise='gaussian',\n",
       "                         normalize_y=True, random_state=1608637542), GaussianProcessRegressor(kernel=1**2 * Matern(length_scale=[1, 1, 1, 1, 1, 1, 1], nu=2.5) + WhiteKernel(noise_level=1),\n",
       "                         n_restarts_optimizer=2, noise='gaussian',\n",
       "                         normalize_y=True, random_state=1608637542)]\n",
       " random_state: RandomState(MT19937) at 0x21600966640\n",
       "        space: Space([Integer(low=100, high=1500, prior='uniform', transform='normalize'),\n",
       "       Integer(low=1, high=20, prior='uniform', transform='normalize'),\n",
       "       Real(low=0.001, high=0.1, prior='log-uniform', transform='normalize'),\n",
       "       Integer(low=2, high=128, prior='uniform', transform='normalize'),\n",
       "       Integer(low=1, high=100, prior='uniform', transform='normalize'),\n",
       "       Real(low=0.05, high=1.0, prior='uniform', transform='normalize'),\n",
       "       Real(low=0.15, high=1.0, prior='uniform', transform='normalize')])\n",
       "        specs: {'args': {'func': <function model_eval at 0x0000021600B99F70>, 'dimensions': Space([Integer(low=100, high=1500, prior='uniform', transform='normalize'),\n",
       "       Integer(low=1, high=20, prior='uniform', transform='normalize'),\n",
       "       Real(low=0.001, high=0.1, prior='log-uniform', transform='normalize'),\n",
       "       Integer(low=2, high=128, prior='uniform', transform='normalize'),\n",
       "       Integer(low=1, high=100, prior='uniform', transform='normalize'),\n",
       "       Real(low=0.05, high=1.0, prior='uniform', transform='normalize'),\n",
       "       Real(low=0.15, high=1.0, prior='uniform', transform='normalize')]), 'base_estimator': GaussianProcessRegressor(kernel=1**2 * Matern(length_scale=[1, 1, 1, 1, 1, 1, 1], nu=2.5),\n",
       "                         n_restarts_optimizer=2, noise='gaussian',\n",
       "                         normalize_y=True, random_state=1608637542), 'n_calls': 30, 'n_random_starts': None, 'n_initial_points': 10, 'initial_point_generator': 'random', 'acq_func': 'gp_hedge', 'acq_optimizer': 'auto', 'x0': None, 'y0': None, 'random_state': RandomState(MT19937) at 0x21600966640, 'verbose': True, 'callback': [<skopt.callbacks.CheckpointSaver object at 0x0000021600B72DC0>, <skopt.callbacks.VerboseCallback object at 0x00000216009D2340>], 'n_points': 10000, 'n_restarts_optimizer': 5, 'xi': 0.01, 'kappa': 1.96, 'n_jobs': -1, 'model_queue_size': None}, 'function': 'base_minimize'}\n",
       "            x: [706, 17, 0.025188004163388202, 113, 1, 1.0, 0.6414453660957463]\n",
       "      x_iters: [[1215, 4, 0.036256176345762295, 77, 45, 0.14497617002710278, 0.5403615581709872], [567, 4, 0.020034427927560734, 9, 72, 0.9416250735649628, 0.15066195096486218], [1489, 13, 0.01672269700618368, 3, 3, 0.5485359272454697, 0.48988182595796725], [165, 20, 0.0029210748185657135, 13, 62, 0.41333889170380467, 0.9857462529357701], [753, 17, 0.022941144328643994, 59, 2, 0.9450916679006104, 0.6287949851687085], [640, 1, 0.002895927274708839, 32, 69, 0.62949682489349, 0.8582156749757399], [343, 8, 0.0023145798905204883, 97, 43, 0.24754457972477945, 0.6325452786469928], [144, 17, 0.007934293594590601, 52, 93, 0.7409083960635999, 0.42755965348496006], [899, 11, 0.08362652463906246, 108, 75, 0.5627075257696259, 0.648738490814271], [1451, 13, 0.0035644979070394624, 39, 17, 0.06485458640413425, 0.5098912586004143], [654, 15, 0.043226704064826184, 104, 1, 0.7786367401083204, 0.5404985702457551], [100, 20, 0.02520033832786986, 128, 6, 0.706952663767402, 0.5229318816665964], [631, 18, 0.025416172650102455, 71, 2, 1.0, 0.6459895154788864], [667, 14, 0.04410721049879651, 113, 1, 0.6583790707429398, 0.5039080347726602], [1051, 4, 0.1, 94, 68, 0.831103644878888, 0.8955105440556923], [835, 20, 0.1, 128, 83, 0.11983453685300151, 0.20952981801902032], [646, 12, 0.04225784559939573, 102, 1, 0.645951288200597, 0.5654336718050068], [662, 20, 0.03576190411016418, 14, 3, 1.0, 0.5527680432974771], [706, 17, 0.025188004163388202, 113, 1, 1.0, 0.6414453660957463], [724, 9, 0.07825634801883129, 91, 70, 0.8580626082186013, 0.8657369868972951], [465, 8, 0.038054861125982824, 128, 1, 0.7466051651769517, 0.7441859964447753], [1045, 14, 0.04284215609922759, 115, 1, 1.0, 0.6430422135168571], [984, 5, 0.07236189285264971, 123, 70, 0.6316162171546796, 0.9834250625004634], [100, 13, 0.042454372907967095, 97, 1, 0.4509118933166447, 0.5051736090977783], [559, 17, 0.0830462301455459, 45, 76, 0.8234887049413329, 0.4744219136251894], [1500, 7, 0.04182842175901697, 118, 1, 0.7337092225115137, 0.38412638914035035], [701, 8, 0.04402610566568004, 23, 1, 0.7571784217475648, 1.0], [100, 15, 0.046797281733974565, 128, 1, 0.7437713821759545, 0.6344775634230317], [408, 18, 0.08598606489002585, 122, 74, 0.8236710058672855, 0.6908196167714448], [833, 20, 0.04176758526590465, 128, 1, 0.7504362265932321, 0.5278048072625442]]"
      ]
     },
     "execution_count": 128,
     "metadata": {},
     "output_type": "execute_result"
    }
   ],
   "source": [
    "# Search space for hyper parameters\n",
    "search_space = [Integer( 100, 1500, name = 'n_estimators'), \n",
    "                Integer(1, 20, name = 'max_depth'), \n",
    "                Real(0.001, 0.1, 'log-uniform', name = 'learning_rate'),\n",
    "                Integer(2, 128, name = 'num_leaves'),\n",
    "                Integer(1, 100, name = 'min_child_samples'),\n",
    "                Real(0.05, 1.0, name = 'subsample'),\n",
    "                Real(0.15, 1.0, name = 'colsample_bytree')]\n",
    "\n",
    "# model definition\n",
    "lgbm_model = LGBMRegressor(n_jobs=-1, random_state=42, subsample_freq=1)\n",
    "\n",
    "# applying cross-validation into tunning\n",
    "@use_named_args(search_space)\n",
    "def model_eval( **params ):\n",
    "\t\n",
    "    lgbm_model.set_params(**params)\n",
    "    print(lgbm_model)\n",
    "    kf = KFold(n_splits=10, random_state=42, shuffle=True)  \n",
    "    ft_result = cross_val_score(lgbm_model, x, np.expm1(y), scoring='neg_mean_absolute_error', cv=kf.split(x), n_jobs=-1, verbose=1)*-1\n",
    "    return np.mean(ft_result)\n",
    "\n",
    "# create checkpoints\n",
    "checkpoint_callback = CheckpointSaver('lgbm_ft.pkl')\n",
    "\n",
    "# return results and run bayesian optimize\n",
    "result = gp_minimize( model_eval, search_space, n_calls = 30, \n",
    "                      n_initial_points = 10, verbose=True, n_jobs=-1, \n",
    "                      random_state= 42, callback=[checkpoint_callback])\n",
    "result"
   ]
  },
  {
   "cell_type": "code",
   "execution_count": 129,
   "metadata": {},
   "outputs": [
    {
     "data": {
      "text/plain": [
       "[706, 17, 0.025188004163388202, 113, 1, 1.0, 0.6414453660957463]"
      ]
     },
     "execution_count": 129,
     "metadata": {},
     "output_type": "execute_result"
    }
   ],
   "source": [
    "# check best parameters\n",
    "\n",
    "result.x"
   ]
  },
  {
   "cell_type": "markdown",
   "metadata": {
    "cell_id": "ab1eea16f77b4538a0b1df87d774076c",
    "deepnote_cell_type": "text-cell-h1",
    "formattedRanges": [],
    "is_collapsed": false,
    "tags": []
   },
   "source": [
    "# 8.0. COMPARING MODELS PERFORMANCE"
   ]
  },
  {
   "cell_type": "markdown",
   "metadata": {
    "cell_id": "d9f04b8ece734c52a9a91dafd848b65c",
    "deepnote_cell_type": "text-cell-h2",
    "formattedRanges": [],
    "is_collapsed": false,
    "tags": []
   },
   "source": [
    "## 8.1. Perfomance"
   ]
  },
  {
   "cell_type": "markdown",
   "metadata": {
    "cell_id": "2f5c72e01e774369a37a0c3bef04e918",
    "deepnote_cell_type": "text-cell-h2",
    "formattedRanges": [],
    "is_collapsed": false,
    "tags": []
   },
   "source": [
    "## 8.2. Cross Validation Performance"
   ]
  },
  {
   "cell_type": "code",
   "execution_count": null,
   "metadata": {
    "cell_id": "79e02884b2ea43c1ac30a0d664dac3b6",
    "deepnote_cell_height": 76,
    "deepnote_cell_type": "code",
    "deepnote_to_be_reexecuted": true,
    "execution_millis": 4,
    "execution_start": 1661027606252,
    "source_hash": "b623e53d",
    "tags": []
   },
   "outputs": [],
   "source": []
  },
  {
   "cell_type": "markdown",
   "metadata": {
    "cell_id": "273c1da6403a42f58f4c8677139af77b",
    "deepnote_cell_type": "text-cell-h1",
    "formattedRanges": [],
    "is_collapsed": false,
    "tags": []
   },
   "source": [
    "# 9.0. FINE TUNING"
   ]
  },
  {
   "cell_type": "code",
   "execution_count": null,
   "metadata": {},
   "outputs": [],
   "source": [
    "lgb_result_cv = cross_validation(x_training, 5, 'LightGBM', model_lgb, verbose=False)\n",
    "lgb_result_cv"
   ]
  },
  {
   "cell_type": "markdown",
   "metadata": {
    "cell_id": "1a1c74c6f23d481bbbdc18dae60a2fea",
    "deepnote_cell_type": "text-cell-h1",
    "formattedRanges": [],
    "is_collapsed": false,
    "tags": []
   },
   "source": [
    "# 10.0. PRODUCTION"
   ]
  },
  {
   "cell_type": "code",
   "execution_count": null,
   "metadata": {
    "cell_id": "ccad1a75e4c44db689d87ffe0859f5f4",
    "deepnote_cell_height": 76,
    "deepnote_cell_type": "code",
    "deepnote_to_be_reexecuted": true,
    "execution_millis": 1,
    "execution_start": 1661027606259,
    "source_hash": "b623e53d",
    "tags": []
   },
   "outputs": [],
   "source": []
  },
  {
   "cell_type": "code",
   "execution_count": 64,
   "metadata": {
    "cell_id": "7fba35e5286246d2ad8e33eeda66a4dc",
    "deepnote_cell_height": 2727,
    "deepnote_cell_type": "code",
    "deepnote_output_heights": [
     606
    ],
    "deepnote_to_be_reexecuted": false,
    "execution_millis": 65005,
    "execution_start": 1661087043982,
    "source_hash": "acd453a1",
    "tags": []
   },
   "outputs": [],
   "source": [
    "def transform(df00):\n",
    "    df01=df00.copy()\n",
    "    df01.columns=['id', 'num_fotos', 'marca', 'modelo', 'versao', 'ano_de_fabricacao',\n",
    "       'ano_modelo', 'odometro', 'cambio', 'num_portas', 'tipo', 'blindado',\n",
    "       'cor', 'tipo_vendedor', 'cidade_vendedor', 'estado_vendedor',\n",
    "       'tipo_anuncio', 'entrega_delivery', 'troca', 'elegivel_revisao',\n",
    "       'attr_veiculo_aceita_troca', 'attr_veiculo_unico_dono',\n",
    "       'attr_veiculo_todas_as_revisoes_feitas_pela_concessionaria',\n",
    "       'attr_veiculo_ipva_pago', 'attr_veiculo_licenciado',\n",
    "       'attr_veiculo_garantia_de_fabrica',\n",
    "       'attr_veiculo_todas_as_revisoes_feitas_pela_agenda_do_carro',\n",
    "       'attr_veiculo_alienado']\n",
    "\n",
    "\n",
    "\n",
    "    df01['num_fotos']=df01['num_fotos'].fillna(0)\n",
    "    df01['attr_veiculo_aceita_troca'] = df01['attr_veiculo_aceita_troca'].apply(lambda x: 1 if x=='Aceita troca' else 0)\n",
    "    df01['attr_veiculo_unico_dono'] = df01['attr_veiculo_unico_dono'].apply(lambda x: 1 if x=='Único dono' else 0)\n",
    "    df01['attr_veiculo_todas_as_revisoes_feitas_pela_concessionaria'] = df01['attr_veiculo_todas_as_revisoes_feitas_pela_concessionaria'].apply(lambda x: 1 if x=='Todas as revisões feitas pela concessionária' else 0)\n",
    "    df01['attr_veiculo_ipva_pago'] = df01['attr_veiculo_ipva_pago'].apply(lambda x: 1 if x=='IPVA pago' else 0)\n",
    "    df01['attr_veiculo_licenciado'] = df01['attr_veiculo_licenciado'].apply(lambda x: 1 if x=='Licenciado' else 0)\n",
    "    df01['attr_veiculo_garantia_de_fabrica'] = df01['attr_veiculo_garantia_de_fabrica'].apply(lambda x: 1 if x=='Garantia de fábrica' else 0)\n",
    "    df01['attr_veiculo_todas_as_revisoes_feitas_pela_agenda_do_carro'] = df01['attr_veiculo_todas_as_revisoes_feitas_pela_agenda_do_carro'].apply(lambda x: 1 if x=='Todas as revisões feitas pela agenda do carro' else 0)\n",
    "\n",
    "\n",
    "\n",
    "\n",
    "    df01['num_fotos']=df01['num_fotos'].astype('int64')\n",
    "    df01['ano_modelo']=df01['ano_modelo'].astype('int64')\n",
    "    df01['odometro']=df01['odometro'].astype('int64')\n",
    "    df01['attr_veiculo_aceita_troca']=df01['attr_veiculo_aceita_troca'].astype('int64')\n",
    "    df01['attr_veiculo_unico_dono']=df01['attr_veiculo_unico_dono'].astype('int64')\n",
    "    df01['attr_veiculo_todas_as_revisoes_feitas_pela_concessionaria']=df01['attr_veiculo_todas_as_revisoes_feitas_pela_concessionaria'].astype('int64')\n",
    "    df01['attr_veiculo_ipva_pago']=df01['attr_veiculo_ipva_pago'].astype('int64')\n",
    "    df01['attr_veiculo_licenciado']=df01['attr_veiculo_licenciado'].astype('int64')\n",
    "    df01['attr_veiculo_garantia_de_fabrica']=df01['attr_veiculo_garantia_de_fabrica'].astype('int64')\n",
    "    df01['attr_veiculo_todas_as_revisoes_feitas_pela_agenda_do_carro']=df01['attr_veiculo_todas_as_revisoes_feitas_pela_agenda_do_carro'].astype('int64')\n",
    "    df01['attr_veiculo_alienado']=df01['attr_veiculo_alienado'].astype(str)\n",
    "\n",
    "\n",
    "    df02=df01.copy()\n",
    "\n",
    "    # ano de fabricação\n",
    "    df02['ano_de_fabricacao_2011']=df02['ano_de_fabricacao'].apply(lambda x: 1 if x>2010 else 0)\n",
    "    # ano_modelo\n",
    "    df02['ano_modelo_2011']=df02['ano_de_fabricacao'].apply(lambda x: 1 if x>2010 else 0)\n",
    "    # kilometragem 100 - 400000\n",
    "    df02['km']=df02['odometro'].apply(lambda x: '0_40000' if x<=40000 else\n",
    "                                                '40000_80000'if x<=80000 else\n",
    "                                                '80000_120000' if x<=120000  else\n",
    "                                                '120000_160000' if x<=160000  else\n",
    "                                                '160000_200000' if x<=200000  else\n",
    "                                                '200000_240000' if x<=240000  else\n",
    "                                                '240000_280000' if x<=280000  else\n",
    "                                                '280000_320000' if x<=320000  else\n",
    "                                                '320000_360000' if x<=360000  else\n",
    "                                                '360000_400000')\n",
    "    # motor\n",
    "    df02['motor_3_chr']=df02['versao'].apply(lambda x: x[0:3])\n",
    "    df02['motor_num']=df02['motor_3_chr'].apply(lambda x: x[0:1].isnumeric())\n",
    "    df02['motor_ponto']=df02['motor_3_chr'].apply(lambda x: x[1:2]=='.')\n",
    "    df02['motor']=df02[['motor_num','motor_ponto','motor_3_chr']].apply(lambda x: x['motor_3_chr'] if (x['motor_num']==True)&(x['motor_ponto']==True) else 0,axis=1)\n",
    "    df02['motor']=df02['motor'].astype('float64')\n",
    "\n",
    "    df03=df02.copy()\n",
    "\n",
    "\n",
    "    df03 = df03.drop( columns=['elegivel_revisao','attr_veiculo_alienado', 'motor_3_chr', 'motor_num', 'motor_ponto','versao'])\n",
    "\n",
    "\n",
    "    df05=df03.copy()\n",
    "\n",
    "    #labelencoding\n",
    "    le = LabelEncoder()\n",
    "    df05['modelo'] = le.fit_transform(df05['modelo'])\n",
    "    #df05['km']=le.fit_transform(df05['km'])\n",
    "    df05['blindado'] = df05['blindado'].apply( lambda x: 1 if x == \"S\" else 0 )\n",
    "    df05['troca'] = df05['troca'].apply( lambda x: 1 if x == True else 0)\n",
    "    df05['entrega_delivery'] = df05['entrega_delivery'].apply( lambda x: 1 if x == True else 0)\n",
    "\n",
    "    # dummies\n",
    "    df05 = pd.get_dummies( df05, columns=['cambio','tipo_vendedor','tipo_anuncio', 'cor','tipo','km'] )\n",
    "\n",
    "    #frequency encoder\n",
    "    fe_modelo = df05.groupby('modelo').size() / len(df05)\n",
    "    df05.loc[:,'modelo'] = df05['modelo'].map(fe_modelo)\n",
    "    fe_marca = df05.groupby('marca').size() / len(df05)\n",
    "    df05.loc[:,'marca'] = df05['marca'].map(fe_marca)\n",
    "    fe_cidade_vendedor = df05.groupby('cidade_vendedor').size() / len(df05)\n",
    "    df05.loc[:,'cidade_vendedor'] = df05['cidade_vendedor'].map(fe_cidade_vendedor)\n",
    "\n",
    "    df05['estado_vendedor']=df05['estado_vendedor'].apply(lambda x: 'SP' if x=='São Paulo (SP)' else \n",
    "                                                            'RS' if x=='Rio Grande do Sul (RS)' else \n",
    "                                                            'MG' if x=='Minas Gerais (MG)' else\n",
    "                                                            'PR' if x=='Paraná (PR)' else\n",
    "                                                            'RJ' if x=='Rio de Janeiro (RJ)' else\n",
    "                                                            'MA' if x=='Maranhão (MA)' else\n",
    "                                                            'SC' if x=='Santa Catarina (SC)' else\n",
    "                                                            'AL' if x=='Alagoas (AL)' else\n",
    "                                                            'BA' if x=='Bahia (BA)' else\n",
    "                                                            'GO' if x=='Goiás (GO)' else\n",
    "                                                            'RN' if x=='Rio Grande do Norte (RN)' else\n",
    "                                                            'PE' if x=='Pernambuco (PE)' else\n",
    "                                                            'MT' if x=='Mato Grosso (MT)' else\n",
    "                                                            'PA' if x=='Pará (PA)' else\n",
    "                                                            'CE' if x=='Ceará (CE)' else\n",
    "                                                            'AM' if x=='Amazonas (AM)' else\n",
    "                                                            'ES' if x=='Espírito Santo (ES)'else\n",
    "                                                            'RO' if x=='Rondônia (RO)' else\n",
    "                                                            'PB' if x=='Paraíba (PB)' else\n",
    "                                                            'TO' if x=='Tocantins (TO)' else\n",
    "                                                            'AC' if x=='Acre (AC)'else\n",
    "                                                            'SE' if x=='Sergipe (SE)' else\n",
    "                                                            'MS' if x=='Mato Grosso do Sul (MS)' else\n",
    "                                                            'RR' if x=='Roraima (RR)'else\n",
    "                                                            'PI' if x=='Piauí (PI)' else 0)\n",
    "\n",
    "    fe_estado_vendedor = df05.groupby('estado_vendedor').size() / len(df05)\n",
    "    df05.loc[:,'estado_vendedor'] = df05['estado_vendedor'].map(fe_estado_vendedor)\n",
    "\n",
    "\n",
    "\n",
    "\n",
    "    rs = RobustScaler()\n",
    "    mms = MinMaxScaler()\n",
    "\n",
    "    df05['num_fotos'] = mms.fit_transform(df05[['num_fotos']].values)\n",
    "    df05['ano_de_fabricacao'] = rs.fit_transform(df05[['ano_de_fabricacao']].values)\n",
    "    df05['ano_modelo'] = rs.fit_transform(df05[['ano_modelo']].values)\n",
    "    df05['odometro'] = rs.fit_transform(df05[['odometro']].values)\n",
    "    \n",
    "    cols=['marca', 'modelo', 'ano_de_fabricacao', 'ano_modelo', 'odometro', 'motor', 'tipo_Utilitário esportivo']\n",
    "    return df05[cols]\n",
    "\n",
    "X_test = transform(df_test)\n",
    "\n",
    "Full_X_train = pd.concat([X_train, X_val], axis=0)\n",
    "Full_Y_train = pd.concat([y_train, y_val], axis=0)\n",
    "\n",
    "# model\n",
    "model_lgb = lgb.LGBMRegressor(n_estimators=400).fit( Full_X_train, Full_Y_train )\n",
    "\n",
    "# prediction\n",
    "preco = model_lgb.predict( X_test )\n",
    "\n",
    "# performance\n",
    "df_test['preco'] = np.expm1(preco)\n",
    "Submission = df_test[['ID','preco']]"
   ]
  },
  {
   "cell_type": "code",
   "execution_count": 65,
   "metadata": {
    "cell_id": "bf1c65ddc38d4d8b97a0914799d669ed",
    "deepnote_cell_height": 76,
    "deepnote_cell_type": "code",
    "deepnote_to_be_reexecuted": false,
    "execution_millis": 444,
    "execution_start": 1661087116802,
    "source_hash": "b4ac1f1c",
    "tags": []
   },
   "outputs": [],
   "source": [
    "Submission.to_csv('Submission_test.csv',index=False)"
   ]
  },
  {
   "cell_type": "code",
   "execution_count": null,
   "metadata": {
    "cell_id": "9bb96da7ed5e4aea8a4504d6baf85584",
    "deepnote_cell_height": 274,
    "deepnote_cell_type": "code",
    "deepnote_to_be_reexecuted": true,
    "execution_millis": 6744,
    "execution_start": 1661045444600,
    "source_hash": "a58b952c",
    "tags": []
   },
   "outputs": [],
   "source": [
    "Full_X_train = pd.concat([X_train, X_val], axis=0)\n",
    "Full_Y_train = pd.concat([y_train, y_val], axis=0)\n",
    "\n",
    "# model\n",
    "model_lgb = lgb.LGBMRegressor(n_estimators=400).fit( Full_X_train, Full_Y_train )\n",
    "\n",
    "# prediction\n",
    "preco = rf.predict( X_test )\n",
    "\n",
    "# performance\n",
    "df_test['preco'] = preco\n",
    "Submission = df_test[['ID','preco']]"
   ]
  },
  {
   "cell_type": "code",
   "execution_count": null,
   "metadata": {
    "cell_id": "188fb1df093e423396c32b3b03bf5942",
    "deepnote_cell_height": 76,
    "deepnote_cell_type": "code",
    "deepnote_to_be_reexecuted": true,
    "execution_millis": 139,
    "execution_start": 1661045457594,
    "source_hash": "f4a9ea51",
    "tags": []
   },
   "outputs": [],
   "source": [
    "Submission.to_csv( 'Submission_3.csv', index=False )"
   ]
  },
  {
   "cell_type": "markdown",
   "metadata": {
    "created_in_deepnote_cell": true,
    "deepnote_cell_type": "markdown",
    "tags": []
   },
   "source": [
    "<a style='text-decoration:none;line-height:16px;display:flex;color:#5B5B62;padding:10px;justify-content:end;' href='https://deepnote.com?utm_source=created-in-deepnote-cell&projectId=3039c7b4-bcc6-4ef2-8633-383a22ac2c90' target=\"_blank\">\n",
    "<img alt='Created in deepnote.com' style='display:inline;max-height:16px;margin:0px;margin-right:7.5px;' src='data:image/svg+xml;base64,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' > </img>\n",
    "Created in <span style='font-weight:600;margin-left:4px;'>Deepnote</span></a>"
   ]
  }
 ],
 "metadata": {
  "deepnote": {},
  "deepnote_execution_queue": [],
  "deepnote_notebook_id": "86967b4a-9342-42f5-be4e-42359f05dce0",
  "kernelspec": {
   "display_name": "Python 3.9.12 ('Health_Insurance_Cross_Sell')",
   "language": "python",
   "name": "python3"
  },
  "language_info": {
   "codemirror_mode": {
    "name": "ipython",
    "version": 3
   },
   "file_extension": ".py",
   "mimetype": "text/x-python",
   "name": "python",
   "nbconvert_exporter": "python",
   "pygments_lexer": "ipython3",
   "version": "3.9.12"
  },
  "orig_nbformat": 2,
  "vscode": {
   "interpreter": {
    "hash": "df3d6b79a48178a3212a35b7e999043bf15f879d3efd9253b17f405412cf781b"
   }
  }
 },
 "nbformat": 4,
 "nbformat_minor": 2
}
